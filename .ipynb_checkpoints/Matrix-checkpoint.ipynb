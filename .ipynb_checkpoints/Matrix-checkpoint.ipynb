{
 "cells": [
  {
   "cell_type": "markdown",
   "metadata": {},
   "source": [
    "# Rotate Matrix Elements"
   ]
  },
  {
   "cell_type": "markdown",
   "metadata": {},
   "source": [
    "<pre>\n",
    "The idea is to use loops. One by one rotate all rings of elements, starting from the outermost. To rotate a ring, we need to do following.\n",
    "    1) Move elements of top row.\n",
    "    2) Move elements of last column.\n",
    "    3) Move elements of bottom row.\n",
    "    4) Move elements of first column.\n",
    "Repeat above steps for inner ring while there is an inner ring.\n",
    "</pre>"
   ]
  },
  {
   "cell_type": "code",
   "execution_count": 2,
   "metadata": {},
   "outputs": [
    {
     "name": "stdout",
     "output_type": "stream",
     "text": [
      "[5, 1, 2, 3]\n",
      "[9, 10, 6, 4]\n",
      "[13, 11, 7, 8]\n",
      "[14, 15, 16, 12]\n"
     ]
    }
   ],
   "source": [
    "def rotateMatrix(arr):\n",
    "    top=0 #top row\n",
    "    bottom=len(arr)-1 #bottom row\n",
    "    left=0 #leftmost column\n",
    "    right=len(arr)-1 #rightmost column\n",
    "\n",
    "    while top<bottom and left<right:\n",
    "\n",
    "        #store the next row element which will be the first element of the current row\n",
    "        prev=arr[top+1][left]\n",
    "\n",
    "        for i in range(left,right+1):\n",
    "            #move the first row elements from left to right\n",
    "            curr=arr[top][i]\n",
    "            arr[top][i]=prev\n",
    "            prev=curr\n",
    "\n",
    "        top+=1\n",
    "\n",
    "        for i in range(top,bottom+1):\n",
    "            #move the rightmost column elements from top to bottom\n",
    "            curr=arr[i][right]\n",
    "            arr[i][right]=prev\n",
    "            prev=curr\n",
    "\n",
    "        right-=1\n",
    "\n",
    "        for i in range(right,left-1,-1):\n",
    "            #move the bottom row elements from right to left\n",
    "            curr=arr[bottom][i]\n",
    "            arr[bottom][i]=prev\n",
    "            prev=curr\n",
    "\n",
    "        bottom-=1\n",
    "\n",
    "        for i in range(bottom,top-1,-1):\n",
    "            #move the leftmost column elements from bottom to top\n",
    "            curr=arr[i][left]\n",
    "            arr[i][left]=prev\n",
    "            prev=curr\n",
    "\n",
    "        left+=1\n",
    "\n",
    "\n",
    "if __name__ == '__main__':\n",
    "    arr=[[1,2,3,4],[5,6,7,8],[9,10,11,12],[13,14,15,16]]\n",
    "    rotateMatrix(arr)\n",
    "    for i in range(len(arr)):\n",
    "        print(arr[i])\n"
   ]
  },
  {
   "cell_type": "markdown",
   "metadata": {},
   "source": [
    "# Inplace rotate square matrix by 90 degrees"
   ]
  },
  {
   "cell_type": "markdown",
   "metadata": {},
   "source": [
    "Rotate using extra space"
   ]
  },
  {
   "cell_type": "markdown",
   "metadata": {},
   "source": [
    "<pre>\n",
    "first row of source ------> last column of destination\n",
    "second row of source ------> last but-one column of destination\n",
    "so ... on\n",
    "last row of source ------> first column of destination\n",
    "</pre>"
   ]
  },
  {
   "cell_type": "code",
   "execution_count": 1,
   "metadata": {},
   "outputs": [
    {
     "name": "stdout",
     "output_type": "stream",
     "text": [
      "[1, 2, 3]\n",
      "[4, 5, 6]\n",
      "[7, 8, 9]\n",
      "\n",
      "[3, 6, 9]\n",
      "[2, 5, 8]\n",
      "[1, 4, 7]\n"
     ]
    }
   ],
   "source": [
    "def rotateMatrixBy90(arr):\n",
    "    n=len(arr)\n",
    "    resultMatrix=[[0 for j in range(n)] for i in range(n)]\n",
    "    # print(resultMatrix)\n",
    "    for row in range(n):\n",
    "        for col in range(n):\n",
    "            # resultMatrix[col][n-row-1]=arr[row][col] #clockise\n",
    "            resultMatrix[n-col-1][row]=arr[row][col] #anticlockwise\n",
    "    for i in range(n):\n",
    "        print(resultMatrix[i])\n",
    "\n",
    "\n",
    "\n",
    "if __name__ == '__main__':\n",
    "    arr=[[1,2,3],[4,5,6],[7,8,9]]\n",
    "    for i in range(len(arr)):\n",
    "        print(arr[i])\n",
    "    print()\n",
    "    rotateMatrixBy90(arr)\n"
   ]
  },
  {
   "cell_type": "code",
   "execution_count": null,
   "metadata": {},
   "outputs": [],
   "source": []
  }
 ],
 "metadata": {
  "kernelspec": {
   "display_name": "Python 3",
   "language": "python",
   "name": "python3"
  },
  "language_info": {
   "codemirror_mode": {
    "name": "ipython",
    "version": 3
   },
   "file_extension": ".py",
   "mimetype": "text/x-python",
   "name": "python",
   "nbconvert_exporter": "python",
   "pygments_lexer": "ipython3",
   "version": "3.7.6"
  }
 },
 "nbformat": 4,
 "nbformat_minor": 4
}
