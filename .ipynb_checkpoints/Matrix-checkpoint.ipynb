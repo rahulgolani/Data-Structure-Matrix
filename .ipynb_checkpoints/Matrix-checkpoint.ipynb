{
 "cells": [
  {
   "cell_type": "markdown",
   "metadata": {},
   "source": [
    "# Rotate Matrix Elements"
   ]
  },
  {
   "cell_type": "markdown",
   "metadata": {},
   "source": [
    "<pre>\n",
    "The idea is to use loops. One by one rotate all rings of elements, starting from the outermost. To rotate a ring, we need to do following.\n",
    "    1) Move elements of top row.\n",
    "    2) Move elements of last column.\n",
    "    3) Move elements of bottom row.\n",
    "    4) Move elements of first column.\n",
    "Repeat above steps for inner ring while there is an inner ring.\n",
    "</pre>"
   ]
  },
  {
   "cell_type": "code",
   "execution_count": 2,
   "metadata": {},
   "outputs": [
    {
     "name": "stdout",
     "output_type": "stream",
     "text": [
      "[5, 1, 2, 3]\n",
      "[9, 10, 6, 4]\n",
      "[13, 11, 7, 8]\n",
      "[14, 15, 16, 12]\n"
     ]
    }
   ],
   "source": [
    "def rotateMatrix(arr):\n",
    "    top=0 #top row\n",
    "    bottom=len(arr)-1 #bottom row\n",
    "    left=0 #leftmost column\n",
    "    right=len(arr)-1 #rightmost column\n",
    "\n",
    "    while top<bottom and left<right:\n",
    "\n",
    "        #store the next row element which will be the first element of the current row\n",
    "        prev=arr[top+1][left]\n",
    "\n",
    "        for i in range(left,right+1):\n",
    "            #move the first row elements from left to right\n",
    "            curr=arr[top][i]\n",
    "            arr[top][i]=prev\n",
    "            prev=curr\n",
    "\n",
    "        top+=1\n",
    "\n",
    "        for i in range(top,bottom+1):\n",
    "            #move the rightmost column elements from top to bottom\n",
    "            curr=arr[i][right]\n",
    "            arr[i][right]=prev\n",
    "            prev=curr\n",
    "\n",
    "        right-=1\n",
    "\n",
    "        for i in range(right,left-1,-1):\n",
    "            #move the bottom row elements from right to left\n",
    "            curr=arr[bottom][i]\n",
    "            arr[bottom][i]=prev\n",
    "            prev=curr\n",
    "\n",
    "        bottom-=1\n",
    "\n",
    "        for i in range(bottom,top-1,-1):\n",
    "            #move the leftmost column elements from bottom to top\n",
    "            curr=arr[i][left]\n",
    "            arr[i][left]=prev\n",
    "            prev=curr\n",
    "\n",
    "        left+=1\n",
    "\n",
    "\n",
    "if __name__ == '__main__':\n",
    "    arr=[[1,2,3,4],[5,6,7,8],[9,10,11,12],[13,14,15,16]]\n",
    "    rotateMatrix(arr)\n",
    "    for i in range(len(arr)):\n",
    "        print(arr[i])\n"
   ]
  },
  {
   "cell_type": "markdown",
   "metadata": {},
   "source": [
    "# Inplace rotate square matrix by 90 degrees"
   ]
  },
  {
   "cell_type": "markdown",
   "metadata": {},
   "source": [
    "Rotate using extra space"
   ]
  },
  {
   "cell_type": "markdown",
   "metadata": {},
   "source": [
    "<pre>\n",
    "first row of source ------> last column of destination\n",
    "second row of source ------> last but-one column of destination\n",
    "so ... on\n",
    "last row of source ------> first column of destination\n",
    "</pre>"
   ]
  },
  {
   "cell_type": "code",
   "execution_count": 1,
   "metadata": {},
   "outputs": [
    {
     "name": "stdout",
     "output_type": "stream",
     "text": [
      "[1, 2, 3]\n",
      "[4, 5, 6]\n",
      "[7, 8, 9]\n",
      "\n",
      "[3, 6, 9]\n",
      "[2, 5, 8]\n",
      "[1, 4, 7]\n"
     ]
    }
   ],
   "source": [
    "def rotateMatrixBy90(arr):\n",
    "    n=len(arr)\n",
    "    resultMatrix=[[0 for j in range(n)] for i in range(n)]\n",
    "    # print(resultMatrix)\n",
    "    for row in range(n):\n",
    "        for col in range(n):\n",
    "            # resultMatrix[col][n-row-1]=arr[row][col] #clockise\n",
    "            resultMatrix[n-col-1][row]=arr[row][col] #anticlockwise\n",
    "    for i in range(n):\n",
    "        print(resultMatrix[i])\n",
    "\n",
    "\n",
    "\n",
    "if __name__ == '__main__':\n",
    "    arr=[[1,2,3],[4,5,6],[7,8,9]]\n",
    "    for i in range(len(arr)):\n",
    "        print(arr[i])\n",
    "    print()\n",
    "    rotateMatrixBy90(arr)\n"
   ]
  },
  {
   "cell_type": "markdown",
   "metadata": {},
   "source": [
    "Approach: To solve the question without any extra space, rotate the array in form of squares, dividing the matrix into squares or cycles. For example,\n",
    "A 4 X 4 matrix will have 2 cycles. The first cycle is formed by its 1st row, last column, last row and 1st column. The second cycle is formed by 2nd row, second-last column, second-last row and 2nd column. The idea is for each square cycle, swap the elements involved with the corresponding cell in the matrix in anti-clockwise direction i.e. from top to left, left to bottom, bottom to right and from right to top one at a time using nothing but a temporary variable to achieve this."
   ]
  },
  {
   "cell_type": "markdown",
   "metadata": {},
   "source": [
    "<pre>\n",
    "Algorithm:\n",
    "\n",
    "There is N/2 squares or cycles in a matrix of side N. Process a square one at a time. Run a loop to traverse the matrix a cycle at a time, i.e loop from 0 to N/2 – 1, loop counter is i\n",
    "\n",
    "So run a loop in each cycle from x to N – x – 1, loop counter is y\n",
    "\n",
    "The elements in the current group is (x, y), (y, N-1-x), (N-1-x, N-1-y), (N-1-y, x), now rotate the these 4 elements, i.e (x, y) <- (y, N-1-x), (y, N-1-x)<- (N-1-x, N-1-y), (N-1-x, N-1-y)<- (N-1-y, x), (N-1-y, x)<- (x, y)\n",
    "\n",
    "Print the matrix.\n",
    "</pre>"
   ]
  },
  {
   "cell_type": "code",
   "execution_count": 1,
   "metadata": {},
   "outputs": [
    {
     "name": "stdout",
     "output_type": "stream",
     "text": [
      "[4, 8, 12, 16]\n",
      "[3, 7, 11, 15]\n",
      "[2, 6, 10, 14]\n",
      "[1, 5, 9, 13]\n"
     ]
    }
   ],
   "source": [
    "def rotateMatrixBy90Inplace(arr):\n",
    "    #anticlockwise\n",
    "    n=len(arr)\n",
    "    for x in range(n//2):\n",
    "        for y in range(x,n-x-1):\n",
    "            prev=arr[x][y]\n",
    "            arr[x][y]=arr[y][n-x-1]\n",
    "            arr[y][n-x-1]=arr[n-x-1][n-y-1]\n",
    "            arr[n-x-1][n-y-1]=arr[n-y-1][x]\n",
    "            arr[n-y-1][x]=prev\n",
    "    for i in range(n):\n",
    "        print(arr[i])\n",
    "\n",
    "\n",
    "if __name__ == '__main__':\n",
    "    arr=[[1,2,3,4],[5,6,7,8],[9,10,11,12],[13,14,15,16]]\n",
    "    rotateMatrixBy90Inplace(arr)\n"
   ]
  },
  {
   "cell_type": "markdown",
   "metadata": {},
   "source": [
    "Clockwise"
   ]
  },
  {
   "cell_type": "code",
   "execution_count": 2,
   "metadata": {},
   "outputs": [
    {
     "name": "stdout",
     "output_type": "stream",
     "text": [
      "[13, 9, 5, 1]\n",
      "[14, 10, 6, 2]\n",
      "[15, 11, 7, 3]\n",
      "[16, 12, 8, 4]\n"
     ]
    }
   ],
   "source": [
    "def rotateMatrixBy90Inplace(arr):\n",
    "    #clockwise\n",
    "    n=len(arr)\n",
    "    for x in range(n//2):\n",
    "        for y in range(x,n-x-1):\n",
    "            prev=arr[x][y]\n",
    "            arr[x][y]=arr[n-y-1][x]\n",
    "            arr[n-y-1][x]=arr[n-x-1][n-y-1]\n",
    "            arr[n-x-1][n-y-1]=arr[y][n-x-1]\n",
    "            arr[y][n-x-1]=prev\n",
    "    for i in range(n):\n",
    "        print(arr[i])\n",
    "\n",
    "\n",
    "if __name__ == '__main__':\n",
    "    arr=[[1,2,3,4],[5,6,7,8],[9,10,11,12],[13,14,15,16]]\n",
    "    rotateMatrixBy90Inplace(arr)\n"
   ]
  },
  {
   "cell_type": "markdown",
   "metadata": {},
   "source": [
    "Concept-> Decide on the swap values manually"
   ]
  },
  {
   "cell_type": "markdown",
   "metadata": {},
   "source": [
    "Time complexity - O(n*n)"
   ]
  },
  {
   "cell_type": "markdown",
   "metadata": {},
   "source": [
    "# Rotate a matrix by 90 degree without using any extra space | Set 2"
   ]
  },
  {
   "cell_type": "markdown",
   "metadata": {},
   "source": [
    "Approach: The idea is to find the transpose of the matrix and then reverse the columns of the transposed matrix."
   ]
  },
  {
   "cell_type": "markdown",
   "metadata": {},
   "source": [
    "<pre>\n",
    "Algorithm:\n",
    "\n",
    "To solve the given problem there are two tasks. 1st is finding the transpose and second is reversing the columns without using extra space\n",
    "\n",
    "A transpose of a matrix is when the matrix is flipped over its diagonal, i.e the row index of an element becomes the column index and vice versa. So to find the transpose interchange the elements at position (i, j) with (j, i). Run two loops, the outer loop from 0 to row count and inner loop from 0 to index of the outer loop.\n",
    "\n",
    "To reverse the column of the transposed matrix, run two nested loops, the outer loop from 0 to column count and inner loop from 0 to row count/2, interchange elements at (i, j) with (i, row[count-1-j]), where i and j are indices of inner and outer loop respectively.\n",
    "</pre>"
   ]
  },
  {
   "cell_type": "code",
   "execution_count": 3,
   "metadata": {},
   "outputs": [
    {
     "name": "stdout",
     "output_type": "stream",
     "text": [
      "[4, 8, 12, 16]\n",
      "[3, 7, 11, 15]\n",
      "[2, 6, 10, 14]\n",
      "[1, 5, 9, 13]\n"
     ]
    }
   ],
   "source": [
    "def rotateMatrixBy90Inplace(arr):\n",
    "\n",
    "    n=len(arr)\n",
    "\n",
    "    for i in range(n):\n",
    "        for j in range(i,n):\n",
    "            temp=arr[i][j]\n",
    "            arr[i][j]=arr[j][i]\n",
    "            arr[j][i]=temp\n",
    "\n",
    "    #clockise\n",
    "    # reverse the rows for clockwise\n",
    "    # for i in range(n):\n",
    "    #     arr[i].reverse()\n",
    "\n",
    "    # for i in range(n):\n",
    "    #     print(arr[i])\n",
    "\n",
    "    #anticlockwise\n",
    "    for i in range(n):#column\n",
    "        for j in range(n//2):#row\n",
    "            arr[j][i],arr[n-j-1][i]=arr[n-j-1][i],arr[j][i]\n",
    "\n",
    "    for i in range(n):\n",
    "        print(arr[i])\n",
    "\n",
    "if __name__ == '__main__':\n",
    "    arr=[[1,2,3,4],[5,6,7,8],[9,10,11,12],[13,14,15,16]]\n",
    "    rotateMatrixBy90Inplace(arr)\n"
   ]
  },
  {
   "cell_type": "markdown",
   "metadata": {},
   "source": [
    "# Rotate a Matrix by 180 degree"
   ]
  },
  {
   "cell_type": "markdown",
   "metadata": {},
   "source": [
    "Approach 1-> Simply print the matrix in reverse order"
   ]
  },
  {
   "cell_type": "code",
   "execution_count": 1,
   "metadata": {},
   "outputs": [
    {
     "name": "stdout",
     "output_type": "stream",
     "text": [
      "9 8 7 \n",
      "6 5 4 \n",
      "3 2 1 \n"
     ]
    }
   ],
   "source": [
    "def rotateBy180(arr):\n",
    "    n=len(arr)\n",
    "    for i in range(n-1,-1,-1):\n",
    "        for j in range(n-1,-1,-1):\n",
    "            print(arr[i][j],end=\" \")\n",
    "        print()\n",
    "\n",
    "\n",
    "if __name__ == '__main__':\n",
    "    arr=[[1,2,3],[4,5,6],[7,8,9]]\n",
    "    rotateBy180(arr)\n"
   ]
  },
  {
   "cell_type": "markdown",
   "metadata": {},
   "source": [
    "Time complexity - O(n* n) and space complexity - O(1)"
   ]
  },
  {
   "cell_type": "markdown",
   "metadata": {},
   "source": [
    "Approach 2-> Transpose->reverse columns -> Transpose -> ReverseColumns"
   ]
  },
  {
   "cell_type": "code",
   "execution_count": 2,
   "metadata": {},
   "outputs": [
    {
     "name": "stdout",
     "output_type": "stream",
     "text": [
      "[9, 8, 7]\n",
      "[6, 5, 4]\n",
      "[3, 2, 1]\n"
     ]
    }
   ],
   "source": [
    "def transpose(arr,n):\n",
    "    for i in range(n):\n",
    "        for j in range(i,n):\n",
    "            arr[i][j],arr[j][i]=arr[j][i],arr[i][j]\n",
    "\n",
    "def reverseColumns(arr,n):\n",
    "    for i in range(n):\n",
    "        for j in range(n//2):\n",
    "            arr[j][i],arr[n-j-1][i]=arr[n-j-1][i],arr[j][i]\n",
    "\n",
    "def rotateBy180(arr):\n",
    "    n=len(arr)\n",
    "\n",
    "    transpose(arr,n)\n",
    "    reverseColumns(arr,n)\n",
    "    transpose(arr,n)\n",
    "    reverseColumns(arr,n)\n",
    "\n",
    "\n",
    "\n",
    "\n",
    "if __name__ == '__main__':\n",
    "    arr=[[1,2,3],[4,5,6],[7,8,9]]\n",
    "    rotateBy180(arr)\n",
    "    for i in range(len(arr)):\n",
    "        print(arr[i])\n"
   ]
  },
  {
   "cell_type": "markdown",
   "metadata": {},
   "source": [
    "Time Complexity - Row*Column and Space Complexity - O(1)"
   ]
  },
  {
   "cell_type": "markdown",
   "metadata": {},
   "source": [
    "Approach 3-> In the code above, transpose of the matrix has to be found twice and also, columns have to be reversed twice.\n",
    "So, we can have a better solution. We can reverse the rows and again reverse the columns to get the desired output"
   ]
  },
  {
   "cell_type": "code",
   "execution_count": 3,
   "metadata": {},
   "outputs": [
    {
     "name": "stdout",
     "output_type": "stream",
     "text": [
      "[9, 8, 7]\n",
      "[6, 5, 4]\n",
      "[3, 2, 1]\n"
     ]
    }
   ],
   "source": [
    "# def transpose(arr,n):\n",
    "#     for i in range(n):\n",
    "#         for j in range(i,n):\n",
    "#             arr[i][j],arr[j][i]=arr[j][i],arr[i][j]\n",
    "\n",
    "def reverseRows(arr,n):\n",
    "    for i in range(n):\n",
    "        arr[i].reverse()\n",
    "\n",
    "def reverseColumns(arr,n):\n",
    "    for i in range(n):\n",
    "        for j in range(n//2):\n",
    "            arr[j][i],arr[n-j-1][i]=arr[n-j-1][i],arr[j][i]\n",
    "\n",
    "def rotateBy180(arr):\n",
    "    n=len(arr)\n",
    "\n",
    "    reverseRows(arr,n)\n",
    "    reverseColumns(arr,n)\n",
    "\n",
    "if __name__ == '__main__':\n",
    "    arr=[[1,2,3],[4,5,6],[7,8,9]]\n",
    "    rotateBy180(arr)\n",
    "    for i in range(len(arr)):\n",
    "        print(arr[i])\n"
   ]
  },
  {
   "cell_type": "markdown",
   "metadata": {},
   "source": [
    "Time Complexity - O(row*column) and space complexity - O(1)"
   ]
  },
  {
   "cell_type": "markdown",
   "metadata": {},
   "source": [
    "# Rotate each ring of matrix anticlockwise by K elements"
   ]
  },
  {
   "cell_type": "markdown",
   "metadata": {},
   "source": [
    "Given a matrix of order M*N and a value K, the task is to rotate each ring of the matrix anticlockwise by K elements. If in any ring elements are less than and equal K then don’t rotate it."
   ]
  },
  {
   "cell_type": "code",
   "execution_count": 5,
   "metadata": {},
   "outputs": [
    {
     "name": "stdout",
     "output_type": "stream",
     "text": [
      "[3, 4, 5, 6]\n",
      "[2, 11, 12, 7]\n",
      "[1, 10, 9, 8]\n"
     ]
    }
   ],
   "source": [
    "def rotateByk(arr,k,r,c):\n",
    "    n=len(arr)\n",
    "\n",
    "    count=k\n",
    "    while count>0:\n",
    "        # top=0\n",
    "        # bottom=n-1\n",
    "        # left=0\n",
    "        # right=n-1\n",
    "        top=0\n",
    "        bottom=r-1\n",
    "        left=0\n",
    "        right=c-1\n",
    "        if right-left+1>=k:\n",
    "            prev=arr[top+1][right]\n",
    "            #move elements from right to left for the top row\n",
    "            for i in range(right,left-1,-1):\n",
    "                curr=arr[top][i]\n",
    "                arr[top][i]=prev\n",
    "                prev=curr\n",
    "\n",
    "            top+=1\n",
    "            #move elements from top to bottom for the left column\n",
    "            for i in range(top,bottom+1):\n",
    "                curr=arr[i][left]\n",
    "                arr[i][left]=prev\n",
    "                prev=curr\n",
    "\n",
    "            left+=1\n",
    "\n",
    "            #move elements from left to right for the bottom row\n",
    "            for i in range(left,right+1):\n",
    "                curr=arr[bottom][i]\n",
    "                arr[bottom][i]=prev\n",
    "                prev=curr\n",
    "\n",
    "            bottom-=1\n",
    "            #move elements from bottome to top for the right column\n",
    "            for i in range(bottom,top-1,-1):\n",
    "                curr=arr[i][right]\n",
    "                arr[i][right]=prev\n",
    "                prev=curr\n",
    "\n",
    "            right-=1\n",
    "            count-=1\n",
    "        else:\n",
    "            break\n",
    "\n",
    "if __name__ == '__main__':\n",
    "    # arr=[[1,2,3,4],[5,6,7,8],[9,10,11,12],[13,14,15,16]]\n",
    "    arr=[[1,2,3,4],[10,11,12,5],[9,8,7,6]]\n",
    "    k=2\n",
    "    n=3;m=4\n",
    "    # n=4;m=4\n",
    "    rotateByk(arr,k,n,m)\n",
    "    for i in range(len(arr)):\n",
    "        print(arr[i])\n"
   ]
  },
  {
   "cell_type": "markdown",
   "metadata": {},
   "source": [
    "Time Complexity - k* O(m*n) and space complexity O(1)"
   ]
  },
  {
   "cell_type": "markdown",
   "metadata": {},
   "source": [
    "# Turn an image by 90 degree"
   ]
  },
  {
   "cell_type": "markdown",
   "metadata": {},
   "source": [
    "Given an image,turn it by 90 degrees? \n",
    "An image can be treated as 2D matrix which can be stored in a buffer\n",
    "Same as rotate matrix by 90 degree"
   ]
  },
  {
   "cell_type": "markdown",
   "metadata": {},
   "source": [
    "# A Program to check if strings are rotations of each other or not"
   ]
  },
  {
   "cell_type": "markdown",
   "metadata": {},
   "source": [
    "<pre>\n",
    " 1. Create a temp string and store concatenation of str1 to\n",
    "       str1 in temp.\n",
    "                          temp = str1.str1\n",
    " 2. If str2 is a substring of temp then str1 and str2 are \n",
    "       rotations of each other.\n",
    "\n",
    "    Example:                 \n",
    "                     str1 = \"ABACD\"\n",
    "                     str2 = \"CDABA\"\n",
    "\n",
    "     temp = str1.str1 = \"ABACDABACD\"\n",
    "     Since str2 is a substring of temp, str1 and str2 are \n",
    "     rotations of each other.\n",
    "</pre>"
   ]
  },
  {
   "cell_type": "code",
   "execution_count": 6,
   "metadata": {},
   "outputs": [
    {
     "name": "stdout",
     "output_type": "stream",
     "text": [
      "true\n"
     ]
    }
   ],
   "source": [
    "def isRotation(target,source):\n",
    "    if len(source)!=len(target):\n",
    "        print('false')\n",
    "        return\n",
    "    temp=source+source\n",
    "    if temp.count(target):\n",
    "        print('true')\n",
    "    else:\n",
    "        print('false')\n",
    "\n",
    "\n",
    "if __name__ == '__main__':\n",
    "    str1=\"ABACD\"\n",
    "    str2=\"CDABA\"\n",
    "    isRotation(str2,str1)\n"
   ]
  },
  {
   "cell_type": "markdown",
   "metadata": {},
   "source": [
    "Time Complexity: Time complexity of this problem depends on the implementation of strstr function.\n",
    "If implementation of strstr is done using KMP matcher then complexity of the above program is (-)(n1 + n2) where n1 and n2 are lengths of strings. KMP matcher takes (-)(n) time to find a substrng in a string of length n where length of substring is assumed to be smaller than the string."
   ]
  },
  {
   "cell_type": "markdown",
   "metadata": {},
   "source": [
    "# Check if all rows of a matrix are circular rotations of each other"
   ]
  },
  {
   "cell_type": "markdown",
   "metadata": {},
   "source": [
    "<pre>\n",
    "The idea is based on below article.\n",
    "A Program to check if strings are rotations of each other or not\n",
    "\n",
    "Steps :\n",
    "\n",
    "Create a string of first row elements and concatenate the string with itself so that string search operations can be efficiently performed. Let this string be str_cat.\n",
    "Traverse all remaining rows. For every row being traversed, create a string str_curr of current row elements. If str_curr is not a substring of str_cat, return false.\n",
    "Return true.\n",
    "</pre>"
   ]
  },
  {
   "cell_type": "code",
   "execution_count": 7,
   "metadata": {},
   "outputs": [
    {
     "name": "stdout",
     "output_type": "stream",
     "text": [
      "True\n"
     ]
    }
   ],
   "source": [
    "def isRotation(arr):\n",
    "    strObj=''\n",
    "    for i in range(len(arr)):\n",
    "        strObj+=str(arr[0][i])\n",
    "    strObj+=strObj\n",
    "    for i in range(1,len(arr)):\n",
    "        str_curr=''.join(map(str,arr[i]))\n",
    "        if strObj.find(str_curr)<0:\n",
    "            return False\n",
    "    return True\n",
    "\n",
    "if __name__ == '__main__':\n",
    "    arr=[[1,2,3],[3,1,2],[2,3,1]]\n",
    "    # arr=[[1,2,3],[3,2,1],[1,3,2]]\n",
    "    print(isRotation(arr))\n"
   ]
  },
  {
   "cell_type": "markdown",
   "metadata": {},
   "source": [
    "Time Complexity - O(n * n), n rows and kmp takes n time to match pattern"
   ]
  },
  {
   "cell_type": "markdown",
   "metadata": {},
   "source": [
    "# Sort the given matrix"
   ]
  },
  {
   "cell_type": "markdown",
   "metadata": {},
   "source": [
    "Given a n x n matrix. The problem is to sort the given matrix in strict order. Here strict order means that matrix is sorted in a way such that all elements in a row are sorted in increasing order and for row ‘i’, where 1 <= i <= n-1, first element of row 'i' is greater than or equal to the last element of row 'i-1'."
   ]
  },
  {
   "cell_type": "markdown",
   "metadata": {},
   "source": [
    "Approach: Create a temp[] array of size n^2. Starting with the first row one by one copy the elements of the given matrix into temp[]. Sort temp[]. Now one by one copy the elements of temp[] back to the given matrix."
   ]
  },
  {
   "cell_type": "code",
   "execution_count": 9,
   "metadata": {},
   "outputs": [
    {
     "name": "stdout",
     "output_type": "stream",
     "text": [
      "[[1, 2, 3], [4, 5, 6], [7, 8, 9]]\n"
     ]
    }
   ],
   "source": [
    "def sortMatrix(arr):\n",
    "    n=len(arr)\n",
    "    temp=[0]*(n*n)\n",
    "    k=0\n",
    "    for i in range(n):\n",
    "        for j in range(n):\n",
    "            temp[k]=arr[i][j]\n",
    "            k+=1\n",
    "    temp.sort()\n",
    "    k=0\n",
    "    for i in range(n):\n",
    "        for j in range(n):\n",
    "            arr[i][j]=temp[k]\n",
    "            k+=1\n",
    "\n",
    "if __name__ == '__main__':\n",
    "    arr=[[5, 4, 7],[1, 3, 8],[2, 9, 6]]\n",
    "    sortMatrix(arr)\n",
    "    print(arr)\n"
   ]
  },
  {
   "cell_type": "markdown",
   "metadata": {},
   "source": [
    "Time Complexity - O(n<sup>2</sup>logn)"
   ]
  },
  {
   "cell_type": "markdown",
   "metadata": {},
   "source": [
    "# Find the row with maximum number of 1s"
   ]
  },
  {
   "cell_type": "markdown",
   "metadata": {},
   "source": [
    "Given a boolean 2D array, where each row is sorted. Find the row with the maximum number of 1s."
   ]
  },
  {
   "cell_type": "markdown",
   "metadata": {},
   "source": [
    "A simple method is to do a row wise traversal of the matrix, count the number of 1s in each row and compare the count with max. Finally, return the index of row with maximum 1s. The time complexity of this method is O(m*n) where m is number of rows and n is number of columns in matrix."
   ]
  },
  {
   "cell_type": "markdown",
   "metadata": {},
   "source": [
    "Since each row is sorted, we can use Binary Search to count of 1s in each row. We find the index of first instance of 1 in each row. The count of 1s will be equal to total number of columns minus the index of first 1."
   ]
  },
  {
   "cell_type": "code",
   "execution_count": 1,
   "metadata": {},
   "outputs": [
    {
     "name": "stdout",
     "output_type": "stream",
     "text": [
      "2\n"
     ]
    }
   ],
   "source": [
    "def findCount(arr,low,high):\n",
    "    if low<=high:\n",
    "        mid=(low+high)//2\n",
    "        if (mid==0 or arr[mid-1]==0) and arr[mid]==1:\n",
    "            return mid\n",
    "        if arr[mid]==0:\n",
    "            return findCount(arr,mid+1,high)\n",
    "        return findCount(arr,low,mid-1)\n",
    "    return -1\n",
    "\n",
    "\n",
    "def getRowWithMax1(arr,n):\n",
    "    rowIndex=0\n",
    "    maxCount=float('-infinity')\n",
    "    for i in range(n):\n",
    "        index=findCount(arr[i],0,n-1)\n",
    "        # print(n-index,i)\n",
    "        if index!=-1 and n-index>maxCount:\n",
    "            # print(n-index,i)\n",
    "            maxCount=n-index\n",
    "            rowIndex=i\n",
    "    return rowIndex\n",
    "\n",
    "\n",
    "if __name__ == '__main__':\n",
    "    arr=[[0, 0, 0, 1], [0, 1, 1, 1], [1, 1, 1, 1], [0, 0, 0, 0]]\n",
    "    print(getRowWithMax1(arr,len(arr)))\n"
   ]
  },
  {
   "cell_type": "markdown",
   "metadata": {},
   "source": [
    "Time Complexity - O(mlogn), n is the number of elements in each row and m is the number of rows "
   ]
  },
  {
   "cell_type": "markdown",
   "metadata": {},
   "source": [
    "The above solution can be optimized further. Instead of doing binary search in every row, we first check whether the row has more 1s than max so far. If the row has more 1s, then only count 1s in the row. Also, to count 1s in a row, we don’t do binary search in complete row, we do search in before the index of last max"
   ]
  },
  {
   "cell_type": "code",
   "execution_count": 2,
   "metadata": {},
   "outputs": [
    {
     "name": "stdout",
     "output_type": "stream",
     "text": [
      "Running for row 1\n",
      "3 1\n",
      "Running for row 2\n",
      "4 2\n",
      "2\n"
     ]
    }
   ],
   "source": [
    "def findCount(arr,low,high):\n",
    "    if low<=high:\n",
    "        mid=(low+high)//2\n",
    "        if (mid==0 or arr[mid-1]==0) and arr[mid]==1:\n",
    "            return mid\n",
    "        if arr[mid]==0:\n",
    "            return findCount(arr,mid+1,high)\n",
    "        return findCount(arr,low,mid-1)\n",
    "    return -1\n",
    "\n",
    "\n",
    "def getRowWithMax1(arr,n):\n",
    "    rowIndex=0\n",
    "    index=findCount(arr[0],0,n-1)\n",
    "    if index!=-1:\n",
    "        maxCount=n-index\n",
    "    else:\n",
    "        maxCount=float('-infinity')\n",
    "    for i in range(1,n):\n",
    "        if index>0 and arr[i][index-1]==1:\n",
    "            index=findCount(arr[i],0,n-1)\n",
    "            if index!=-1 and n-index>maxCount:\n",
    "                print(f\"Running for row {i}\")\n",
    "                print(n-index,i)\n",
    "                maxCount=n-index\n",
    "                rowIndex=i\n",
    "    return rowIndex\n",
    "\n",
    "\n",
    "if __name__ == '__main__':\n",
    "    arr=[[0, 0, 0, 1], [0, 1, 1, 1], [1, 1, 1, 1], [0, 0, 0, 0]]\n",
    "    print(getRowWithMax1(arr,len(arr)))\n"
   ]
  },
  {
   "cell_type": "markdown",
   "metadata": {},
   "source": [
    "The worst case time complexity of the above optimized version is also O(mLogn), the will solution work better on average"
   ]
  },
  {
   "cell_type": "markdown",
   "metadata": {},
   "source": [
    "<pre>\n",
    "The worst case of the above solution occurs for a matrix like following.\n",
    "0 0 0 … 0 1\n",
    "0 0 0 ..0 1 1\n",
    "0 … 0 1 1 1\n",
    "….0 1 1 1 1\n",
    "</pre>"
   ]
  },
  {
   "cell_type": "markdown",
   "metadata": {},
   "source": [
    "<pre>\n",
    "<strong>Following method works in O(m+n) time complexity in worst case.</strong>\n",
    "\n",
    "Step1: Get the index of first (or leftmost) 1 in the first row.\n",
    "\n",
    "Step2: Do following for every row after the first row\n",
    "…IF the element on left of previous leftmost 1 is 0, ignore this row.\n",
    "…ELSE Move left until a 0 is found. Update the leftmost index to this index and max_row_index to be the current row.\n",
    "\n",
    "The time complexity is O(m+n) because we can possibly go as far left as we came ahead in the first step.\n",
    "</pre>"
   ]
  },
  {
   "cell_type": "code",
   "execution_count": 3,
   "metadata": {},
   "outputs": [
    {
     "name": "stdout",
     "output_type": "stream",
     "text": [
      "2\n"
     ]
    }
   ],
   "source": [
    "def findCount(arr,low,high):\n",
    "    if low<=high:\n",
    "        mid=(low+high)//2\n",
    "        if (mid==0 or arr[mid-1]==0) and arr[mid]==1:\n",
    "            return mid\n",
    "        if arr[mid]==0:\n",
    "            return findCount(arr,mid+1,high)\n",
    "        return findCount(arr,low,mid-1)\n",
    "    return -1\n",
    "\n",
    "\n",
    "def getRowWithMax1(arr,n):\n",
    "    rowIndex=0\n",
    "    index=findCount(arr[0],0,n-1)\n",
    "    if index==-1:\n",
    "        index=n-1\n",
    "    for i in range(1,n):\n",
    "        while index>=0 and arr[i][index]==1:\n",
    "            index-=1\n",
    "            rowIndex=i\n",
    "    return rowIndex\n",
    "\n",
    "\n",
    "if __name__ == '__main__':\n",
    "    arr=[[0, 0, 0, 1], [0, 1, 1, 1], [1, 1, 1, 1], [0, 0, 0, 0]]\n",
    "    print(getRowWithMax1(arr,len(arr)))\n"
   ]
  },
  {
   "cell_type": "markdown",
   "metadata": {},
   "source": [
    "# Find median in row wise sorted matrix"
   ]
  },
  {
   "cell_type": "markdown",
   "metadata": {},
   "source": [
    "We are given a row wise sorted matrix of size r*c, we need to find the median of the matrix given. It is assumed that r*c is always odd."
   ]
  },
  {
   "cell_type": "markdown",
   "metadata": {},
   "source": [
    "The simplest method to solve this problem is to store all the elements of the given matrix in an array of size r*c. Then we can either sort the array and find the median element in O(r*clog(r*c)) or we can use the approach discussed (find kth largest/smallest element as we will need to find n//2 element) to find the median in O(r*c). Auxiliary space required will be O(r*c) in both the cases."
   ]
  },
  {
   "cell_type": "markdown",
   "metadata": {},
   "source": [
    "<pre>\n",
    "An efficient approach for this problem is to use binary search algorithm. The idea is that for a number to be median there should be exactly (n/2) numbers which are less than this number. So, we try to find the count of numbers less than all the numbers. Below is the step by step algorithm for this approach:\n",
    "Algorithm:\n",
    "\n",
    "First we find the minimum and maximum elements in the matrix. Minimum element can be easily found by comparing the first element of each row, and similarly the maximum element can be found by comparing the last element of each row.\n",
    "Then we use binary search on our range of numbers from minimum to maximum, we find the mid of the min and max, and get count of numbers less than our mid. And accordingly change the min or max.\n",
    "For a number to be median, there should be (r*c)/2 numbers smaller than that number. So for every number, we get the count of numbers less than that by using upper_bound() in each row of matrix, if it is less than the required count, the median must be greater than the selected number, else the median must be less than or equal to the selected number.\n",
    "</pre>"
   ]
  },
  {
   "cell_type": "code",
   "execution_count": 4,
   "metadata": {},
   "outputs": [
    {
     "name": "stdout",
     "output_type": "stream",
     "text": [
      "Median is 5\n"
     ]
    }
   ],
   "source": [
    "from bisect import bisect_right as upper_bound \n",
    "  \n",
    "MAX = 100; \n",
    "  \n",
    "# Function to find median in the matrix \n",
    "def binaryMedian(m, r, d): \n",
    "    mi = m[0][0] \n",
    "    mx = 0\n",
    "    for i in range(r): \n",
    "        if m[i][0] < mi: \n",
    "            mi = m[i][0] \n",
    "        if m[i][d-1] > mx : \n",
    "            mx =  m[i][d-1] \n",
    "      \n",
    "    desired = (r * d + 1) // 2\n",
    "      \n",
    "    while (mi < mx): \n",
    "        mid = mi + (mx - mi) // 2\n",
    "        place = [0]; \n",
    "          \n",
    "        # Find count of elements smaller than mid \n",
    "        for i in range(r): \n",
    "             j = upper_bound(m[i], mid) \n",
    "             place[0] = place[0] + j \n",
    "        if place[0] < desired: \n",
    "            mi = mid + 1\n",
    "        else: \n",
    "            mx = mid \n",
    "    print (\"Median is\", mi) \n",
    "    return    \n",
    "      \n",
    "# Driver code \n",
    "r, d = 3, 3\n",
    "  \n",
    "m = [ [1, 3, 5], [2, 6, 9], [3, 6, 9]] \n",
    "binaryMedian(m, r, d)"
   ]
  },
  {
   "cell_type": "markdown",
   "metadata": {},
   "source": [
    "Time Complexity: O(32 * r * log(c)). The upper bound function will take log(c) time and is performed for each row. And since the numbers will be max of 32 bit, so binary search of numbers from min to max will be performed in at most 32 ( log2(2^32) = 32 ) operations.\n",
    "Auxiliary Space : O(1)"
   ]
  },
  {
   "cell_type": "markdown",
   "metadata": {},
   "source": [
    "Revise"
   ]
  },
  {
   "cell_type": "markdown",
   "metadata": {},
   "source": [
    "# Program to multiply two matrices"
   ]
  },
  {
   "cell_type": "code",
   "execution_count": 6,
   "metadata": {},
   "outputs": [
    {
     "name": "stdout",
     "output_type": "stream",
     "text": [
      "10 10 10 10 \n",
      "20 20 20 20 \n",
      "30 30 30 30 \n",
      "40 40 40 40 \n"
     ]
    }
   ],
   "source": [
    "def matrix_multiplication(M,N): \n",
    "\tR = [[0, 0, 0, 0], \n",
    "\t\t[0, 0, 0, 0], \n",
    "\t\t[0, 0, 0, 0], \n",
    "\t\t[0, 0, 0, 0]] \n",
    "\n",
    "\tfor i in range(0, 4): \n",
    "\t\tfor j in range(0, 4): \n",
    "\t\t\tfor k in range(0, 4): \n",
    "\t\t\t\tR[i][j] += M[i][k] * N[k][j] \n",
    "\n",
    "\tfor i in range(0,4): \n",
    "\t\tfor j in range(0,4): \n",
    "\t\t\tprint(R[i][j],end=\" \") \n",
    "\t\tprint(\"\\n\",end=\"\") \n",
    "\n",
    "\n",
    "M = [[1, 1, 1, 1], \n",
    "\t[2, 2, 2, 2], \n",
    "\t[3, 3, 3, 3], \n",
    "\t[4, 4, 4, 4]] \n",
    "\n",
    "N = [[1, 1, 1, 1], \n",
    "\t[2, 2, 2, 2], \n",
    "\t[3, 3, 3, 3], \n",
    "\t[4, 4, 4, 4]] \n",
    "\t\n",
    "\n",
    "matrix_multiplication(M,N) \n"
   ]
  },
  {
   "cell_type": "markdown",
   "metadata": {},
   "source": [
    "# scalar multiplication of a matrix"
   ]
  },
  {
   "cell_type": "markdown",
   "metadata": {},
   "source": [
    "The scalar multiplication of a number k(scalar), multiply it on every entry in the matrix. and a matrix A is the matrix kA."
   ]
  },
  {
   "cell_type": "markdown",
   "metadata": {},
   "source": [
    "Time complexity - O(r*c)"
   ]
  },
  {
   "cell_type": "markdown",
   "metadata": {},
   "source": [
    "# Print Lower triangular and Upper triangular matrix of an array"
   ]
  },
  {
   "cell_type": "markdown",
   "metadata": {},
   "source": [
    "<pre>\n",
    "Lower triangular matrix is a matrix which contain elements below principle diagonal including principle diagonal elements and rest of the elements are 0.\n",
    "\n",
    "Upper triangular matrix is a matrix which contain elements above principle diagonal including principle diagonal elements and rest of the elements are 0.\n",
    "</pre>"
   ]
  },
  {
   "cell_type": "markdown",
   "metadata": {},
   "source": [
    "<pre>\n",
    "For lower triangular matrix, we check the index position i and j i.e row and column respectively. If column position is greater than row position we simply make that position 0.\n",
    "\n",
    "For upper triangular matrix, we check the index position i and j i.e row and column respectively. If column position is smaller than row position we simply make that position 0.\n",
    "</pre>"
   ]
  },
  {
   "cell_type": "code",
   "execution_count": 2,
   "metadata": {},
   "outputs": [
    {
     "name": "stdout",
     "output_type": "stream",
     "text": [
      "1 0 0 \n",
      "4 5 0 \n",
      "7 8 9 \n",
      "\n",
      "1 2 3 \n",
      "0 5 6 \n",
      "0 0 9 \n"
     ]
    }
   ],
   "source": [
    "def printUpperTriangular(arr):\n",
    "    for i in range(len(arr)):\n",
    "        for j in range(len(arr)):\n",
    "            if i>j:\n",
    "                print(0,end=\" \")\n",
    "            else:\n",
    "                print(arr[i][j],end=\" \")\n",
    "        print()\n",
    "\n",
    "\n",
    "def printLowerTriangular(arr):\n",
    "    for i in range(len(arr)):\n",
    "        for j in range(len(arr)):\n",
    "            if j>i:\n",
    "                print(0,end=\" \")\n",
    "            else:\n",
    "                print(arr[i][j],end=\" \")\n",
    "        print()\n",
    "\n",
    "\n",
    "if __name__ == '__main__':\n",
    "    arr=[[1,2,3],[4,5,6],[7,8,9]]\n",
    "    printLowerTriangular(arr)\n",
    "    print()\n",
    "    printUpperTriangular(arr)\n"
   ]
  },
  {
   "cell_type": "markdown",
   "metadata": {},
   "source": [
    "# Find distinct elements common to all rows of a matrix"
   ]
  },
  {
   "cell_type": "markdown",
   "metadata": {},
   "source": [
    "The problem is to find all the distinct elements common to all rows of the matrix. The elements can be printed in any order."
   ]
  },
  {
   "cell_type": "markdown",
   "metadata": {},
   "source": [
    "Sort all the rows of the matrix individually in increasing order. (modified appraoch as find-common-elements-three-sorted-arrays)"
   ]
  },
  {
   "cell_type": "code",
   "execution_count": 4,
   "metadata": {},
   "outputs": [
    {
     "name": "stdout",
     "output_type": "stream",
     "text": [
      "1 3 14 "
     ]
    }
   ],
   "source": [
    "def getCommonElements(arr,n):\n",
    "    #sort the matrix\n",
    "    for i in range(n):\n",
    "        arr[i].sort()\n",
    "\n",
    "    curr_index=[0]*n\n",
    "    f=0\n",
    "    while curr_index[0]<n:\n",
    "        #loop to run for every element of first row\n",
    "        value=arr[0][curr_index[0]]\n",
    "        present=True\n",
    "\n",
    "        #loop through each row and check if the lement exists\n",
    "        for i in range(1,n):\n",
    "            while curr_index[i]<n and arr[i][curr_index[i]]<=value:\n",
    "                curr_index[i]+=1\n",
    "\n",
    "            if (curr_index==0 or arr[i][curr_index[i]-1]!=value):\n",
    "                #if element does not exist\n",
    "                present=False\n",
    "\n",
    "            if curr_index[i]==n:\n",
    "                #if in a particular row all the elements are traversed, then no further common elements could be found\n",
    "                f=1\n",
    "\n",
    "        if present:\n",
    "            print(value,end=\" \")\n",
    "        if f==1:\n",
    "            # if flag is set no need to check for other elements\n",
    "            break\n",
    "        #check for next element\n",
    "        curr_index[0]+=1\n",
    "\n",
    "if __name__ == '__main__':\n",
    "    # arr=[[2,1,4,3],[1,2,3,2],[3,6,2,3],[5,2,5,3]]\n",
    "    arr=[[12, 1, 14, 3, 16], [14, 2, 1, 3, 35], [14, 1, 14, 3, 11], [14, 25, 3, 2, 1], [1, 18, 3, 21, 14]] \n",
    "    getCommonElements(arr,len(arr))\n"
   ]
  },
  {
   "cell_type": "markdown",
   "metadata": {},
   "source": [
    "Time Complexity: O(n2log n), each row of size n requires O(nlogn) for sorting and there are total n rows.\n",
    "Auxiliary Space: O(n) to store current column indexes for each row."
   ]
  },
  {
   "cell_type": "markdown",
   "metadata": {},
   "source": [
    "<pre>\n",
    "Another Approach-> Hashing.\n",
    "\n",
    "Map the element of 1st row in a hash table. Let it be hash.\n",
    "Fow row = 2 to n\n",
    "Map each element of the current row into a temporary hash table. Let it be temp.\n",
    "Iterate through the elements of hash and check that the elements in hash are present in temp. If not present then delete those elements from hash.\n",
    "When all the rows are being processed in this manner, then the elements left in hash are the required common elements.\n",
    "</pre>"
   ]
  },
  {
   "cell_type": "code",
   "execution_count": 5,
   "metadata": {},
   "outputs": [
    {
     "name": "stdout",
     "output_type": "stream",
     "text": [
      "1 14 3 "
     ]
    }
   ],
   "source": [
    "def getCommonElements(arr,n):\n",
    "    hash={}\n",
    "    for i in range(n):\n",
    "        hash[arr[0][i]]=True\n",
    "    for i in range(1,n):\n",
    "        temp={}\n",
    "        for j in range(n):\n",
    "            temp[arr[i][j]]=True\n",
    "        for i in list(hash):#cannot direclty use hash here because the size will change during iteration\n",
    "            if i not in temp:\n",
    "                del hash[i]\n",
    "        if len(hash)==0:\n",
    "            break\n",
    "    for i in hash:\n",
    "        print(i,end=\" \")\n",
    "\n",
    "\n",
    "if __name__ == '__main__':\n",
    "    # arr=[[2,1,4,3],[1,2,3,2],[3,6,2,3],[5,2,5,3]]\n",
    "    arr=[[12, 1, 14, 3, 16], [14, 2, 1, 3, 35], [14, 1, 14, 3, 11], [14, 25, 3, 2, 1], [1, 18, 3, 21, 14]]\n",
    "    getCommonElements(arr,len(arr))\n"
   ]
  },
  {
   "cell_type": "markdown",
   "metadata": {},
   "source": [
    "Time Complexity -> O(n*n) and Space Complexity ->O(n)"
   ]
  },
  {
   "cell_type": "markdown",
   "metadata": {},
   "source": [
    "# Print a given matrix in spiral form"
   ]
  },
  {
   "cell_type": "markdown",
   "metadata": {},
   "source": [
    "4 pointer approach which was used when rotating the matrix "
   ]
  },
  {
   "cell_type": "code",
   "execution_count": 6,
   "metadata": {},
   "outputs": [
    {
     "name": "stdout",
     "output_type": "stream",
     "text": [
      "1 2 3 4 8 12 16 15 14 13 9 5 6 7 11 10 "
     ]
    }
   ],
   "source": [
    "def printSpiral(arr,n):\n",
    "    top=0\n",
    "    bottom=n-1\n",
    "    left=0\n",
    "    right=n-1\n",
    "    while top<bottom and left<right:\n",
    "        for i in range(left,right+1):\n",
    "            print(arr[top][i],end=\" \")\n",
    "        top+=1\n",
    "\n",
    "        for i in range(top,bottom+1):\n",
    "            print(arr[i][right],end=\" \")\n",
    "        right-=1\n",
    "\n",
    "        for i in range(right,left-1,-1):\n",
    "            print(arr[bottom][i],end=\" \")\n",
    "        bottom-=1\n",
    "\n",
    "        for i in range(bottom,top-1,-1):\n",
    "            print(arr[i][left],end=\" \")\n",
    "        left+=1\n",
    "\n",
    "\n",
    "if __name__ == '__main__':\n",
    "    arr=[[1,2,3,4],[5,6,7,8],[9,10,11,12],[13,14,15,16]]\n",
    "    printSpiral(arr,len(arr))\n",
    "    \n"
   ]
  },
  {
   "cell_type": "markdown",
   "metadata": {},
   "source": [
    "Time Complexity - O(m*n) and space complexity -O(1)"
   ]
  },
  {
   "cell_type": "markdown",
   "metadata": {},
   "source": [
    "Recursive to do"
   ]
  },
  {
   "cell_type": "markdown",
   "metadata": {},
   "source": [
    "# Find maximum element of each row in a matrix"
   ]
  },
  {
   "cell_type": "markdown",
   "metadata": {},
   "source": [
    "<pre>\n",
    "Approach 1-> For all the rows in a matrix, find the max element O(n* m)\n",
    "\n",
    "Approach 2-> For all the rows in a matrix, create a max heap for each row, and print the root (n * m), m times to create a heap\n",
    "</pre>"
   ]
  },
  {
   "cell_type": "markdown",
   "metadata": {},
   "source": [
    "# Find unique elements in a matrix"
   ]
  },
  {
   "cell_type": "markdown",
   "metadata": {},
   "source": [
    "Given a matrix mat[][] having n rows and m columns. We need to find unique elements in matrix i.e, those elements which are not repeated in the matrix or those elements whose frequency is 1."
   ]
  },
  {
   "cell_type": "markdown",
   "metadata": {},
   "source": [
    "<strong>Concept - HASHING</strong>\n",
    "Use a dictionary, traverse through the elements, and store the count of each in the dictionary. At the end, print the elements as result which have frequency as 1"
   ]
  },
  {
   "cell_type": "markdown",
   "metadata": {},
   "source": [
    "Time Complexity - O(m* n) an space complexity - O(m * n), in worst case"
   ]
  },
  {
   "cell_type": "markdown",
   "metadata": {},
   "source": [
    "# Shift matrix elements row-wise by k"
   ]
  },
  {
   "cell_type": "markdown",
   "metadata": {},
   "source": [
    "Given a square matrix mat[][] and a number k. The task is to shift first k elements of each row in the right of the matrix."
   ]
  },
  {
   "cell_type": "markdown",
   "metadata": {},
   "source": [
    "Rotation count can br given by number of columns - k, so each row can be rotated by this rotation count with any of the rotation algorithm"
   ]
  },
  {
   "cell_type": "markdown",
   "metadata": {},
   "source": [
    "# Determinant. adjoint, inverse of a matrix - to do (20)"
   ]
  },
  {
   "cell_type": "markdown",
   "metadata": {},
   "source": [
    "# Print a given matrix in counter-clock wise spiral form"
   ]
  },
  {
   "cell_type": "markdown",
   "metadata": {},
   "source": [
    "Similar approach as that of clock wise direction, instead, print left column, top to bottom; bottom row, left to right; right column, bottom to top; top row, right to left;; and repeat this for the other square cycles"
   ]
  },
  {
   "cell_type": "markdown",
   "metadata": {},
   "source": [
    "Time complexity - O(mn), and space complexity - O(1)"
   ]
  },
  {
   "cell_type": "markdown",
   "metadata": {},
   "source": [
    "# Swap major and minor diagonals of a square matrix"
   ]
  },
  {
   "cell_type": "markdown",
   "metadata": {},
   "source": [
    "<pre>\n",
    "Major Diagonal Elements of a Matrix :\n",
    "The Major Diagonal Elements are the ones that occur from Top Left of Matrix Down To Bottom Right Corner. The Major Diagonal is also known as Main Diagonal or Primary Diagonal.\n",
    "\n",
    "Minor Diagonal Elements of a Matrix :\n",
    "The Minor Diagonal Elements are the ones that occur from Top Right of Matrix Down To Bottom Left Corner. Also known as Secondary Diagonal.\n",
    "</pre>"
   ]
  },
  {
   "cell_type": "code",
   "execution_count": 7,
   "metadata": {},
   "outputs": [
    {
     "name": "stdout",
     "output_type": "stream",
     "text": [
      "[4, 2, 3, 1]\n",
      "[5, 7, 6, 8]\n",
      "[9, 11, 10, 12]\n",
      "[16, 14, 15, 13]\n"
     ]
    }
   ],
   "source": [
    "def swapMajorMinor(arr,n):\n",
    "    for i in range(n):\n",
    "        arr[i][i],arr[i][n-i-1]=arr[i][n-i-1],arr[i][i]\n",
    "    for i in range(n):\n",
    "        print(arr[i])\n",
    "\n",
    "if __name__ == '__main__':\n",
    "    # arr=[[0,1,2],[3,4,5],[6,7,8]]\n",
    "    arr=[[1,2,3,4],[5,6,7,8],[9,10,11,12],[13,14,15,16]]\n",
    "    swapMajorMinor(arr,len(arr))\n"
   ]
  },
  {
   "cell_type": "markdown",
   "metadata": {},
   "source": [
    "Time Complexity - O(n* n) Space Complexity - O(1)"
   ]
  },
  {
   "cell_type": "markdown",
   "metadata": {},
   "source": [
    "# Maximum path sum in matrix"
   ]
  },
  {
   "cell_type": "markdown",
   "metadata": {},
   "source": [
    "Given a matrix of N * M. Find the maximum path sum in matrix. The maximum path is sum of all elements from first row to last row where you are allowed to move only down or diagonally to left or right. You can start from any element in first row."
   ]
  },
  {
   "cell_type": "code",
   "execution_count": 8,
   "metadata": {},
   "outputs": [
    {
     "name": "stdout",
     "output_type": "stream",
     "text": [
      "74\n"
     ]
    }
   ],
   "source": [
    "def maxPathSum(arr,row,col):\n",
    "    result=0\n",
    "    maxNum=float('-infinity')\n",
    "    r=0;c=0\n",
    "    for i in range(col):\n",
    "        if arr[0][i]>maxNum:\n",
    "            maxNum=arr[0][i]\n",
    "            # c=i\n",
    "    result+=maxNum\n",
    "\n",
    "    for i in range(1,row):\n",
    "        res=float('-infinity');\n",
    "        for j in range(col):\n",
    "            if j>0 and j<col-1:\n",
    "                arr[i][j]+=max(arr[i-1][j-1],arr[i-1][j],arr[i-1][j+1])\n",
    "            elif j>0:\n",
    "                arr[i][j]+=max(arr[i-1][j-1],arr[i-1][j])\n",
    "            else:\n",
    "                arr[i][j]+=max(arr[i-1][j],arr[i-1][j+1])\n",
    "            res=max(arr[i][j],res)\n",
    "    print(res)\n",
    "\n",
    "    # for i in range(1,row):\n",
    "    #     if c-1>0:\n",
    "    #         left=arr[i][c-1]\n",
    "    #     else:\n",
    "    #         left=0\n",
    "    #     down=arr[i][c]\n",
    "    #     if c+1<col:\n",
    "    #         right=arr[i][c+1]\n",
    "    #     else:\n",
    "    #         right=0\n",
    "    #     maxNum=max(left,right,down)\n",
    "    #     result+=maxNum\n",
    "    #     if maxNum==left:\n",
    "    #         c=c-1\n",
    "    #     elif maxNum==right:\n",
    "    #         c=c+1\n",
    "    # print(result)\n",
    "\n",
    "\n",
    "if __name__ == '__main__':\n",
    "    arr=[[10, 10, 2, 0, 20, 4 ],[1, 0, 0, 30, 2, 5],[0, 10, 4, 0, 2, 0],[1, 0, 2, 20, 0, 4]]\n",
    "    row=4\n",
    "    col=6\n",
    "    maxPathSum(arr,row,col)\n"
   ]
  },
  {
   "cell_type": "markdown",
   "metadata": {},
   "source": [
    "Time Complexity - O(m* n)"
   ]
  },
  {
   "cell_type": "markdown",
   "metadata": {},
   "source": [
    "# Squares of Matrix Diagonal Elements"
   ]
  },
  {
   "cell_type": "markdown",
   "metadata": {},
   "source": [
    "You have given an integer matrix with odd dimensions. Find the square of the diagonals elements on both sides."
   ]
  },
  {
   "cell_type": "code",
   "execution_count": 9,
   "metadata": {},
   "outputs": [
    {
     "name": "stdout",
     "output_type": "stream",
     "text": [
      "1 25 81\n",
      "9 25 49\n"
     ]
    }
   ],
   "source": [
    "from math import pow\n",
    "\n",
    "def squareDiagonal(arr,n):\n",
    "    diagonalOne=[]\n",
    "    diagonalTwo=[]\n",
    "    for i in range(n):\n",
    "        diagonalOne.append(int(pow(arr[i][i],2)))\n",
    "        diagonalTwo.append(int(pow(arr[i][n-i-1],2)))\n",
    "    print(\" \".join(map(str,diagonalOne)))\n",
    "    print(\" \".join(map(str,diagonalTwo)))\n",
    "\n",
    "if __name__ == '__main__':\n",
    "    arr=[[1,2,3],[4,5,6],[7,8,9]]\n",
    "    squareDiagonal(arr,len(arr))\n"
   ]
  },
  {
   "cell_type": "markdown",
   "metadata": {},
   "source": [
    "Time Complexity - O(row) =~ O(n)"
   ]
  },
  {
   "cell_type": "code",
   "execution_count": null,
   "metadata": {},
   "outputs": [],
   "source": []
  }
 ],
 "metadata": {
  "kernelspec": {
   "display_name": "Python 3",
   "language": "python",
   "name": "python3"
  },
  "language_info": {
   "codemirror_mode": {
    "name": "ipython",
    "version": 3
   },
   "file_extension": ".py",
   "mimetype": "text/x-python",
   "name": "python",
   "nbconvert_exporter": "python",
   "pygments_lexer": "ipython3",
   "version": "3.7.6"
  }
 },
 "nbformat": 4,
 "nbformat_minor": 4
}
