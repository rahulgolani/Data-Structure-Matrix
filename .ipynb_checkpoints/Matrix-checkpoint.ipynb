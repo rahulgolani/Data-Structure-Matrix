{
 "cells": [
  {
   "cell_type": "markdown",
   "metadata": {},
   "source": [
    "# Rotate Matrix Elements"
   ]
  },
  {
   "cell_type": "markdown",
   "metadata": {},
   "source": [
    "<pre>\n",
    "The idea is to use loops. One by one rotate all rings of elements, starting from the outermost. To rotate a ring, we need to do following.\n",
    "    1) Move elements of top row.\n",
    "    2) Move elements of last column.\n",
    "    3) Move elements of bottom row.\n",
    "    4) Move elements of first column.\n",
    "Repeat above steps for inner ring while there is an inner ring.\n",
    "</pre>"
   ]
  },
  {
   "cell_type": "code",
   "execution_count": 2,
   "metadata": {},
   "outputs": [
    {
     "name": "stdout",
     "output_type": "stream",
     "text": [
      "[5, 1, 2, 3]\n",
      "[9, 10, 6, 4]\n",
      "[13, 11, 7, 8]\n",
      "[14, 15, 16, 12]\n"
     ]
    }
   ],
   "source": [
    "def rotateMatrix(arr):\n",
    "    top=0 #top row\n",
    "    bottom=len(arr)-1 #bottom row\n",
    "    left=0 #leftmost column\n",
    "    right=len(arr)-1 #rightmost column\n",
    "\n",
    "    while top<bottom and left<right:\n",
    "\n",
    "        #store the next row element which will be the first element of the current row\n",
    "        prev=arr[top+1][left]\n",
    "\n",
    "        for i in range(left,right+1):\n",
    "            #move the first row elements from left to right\n",
    "            curr=arr[top][i]\n",
    "            arr[top][i]=prev\n",
    "            prev=curr\n",
    "\n",
    "        top+=1\n",
    "\n",
    "        for i in range(top,bottom+1):\n",
    "            #move the rightmost column elements from top to bottom\n",
    "            curr=arr[i][right]\n",
    "            arr[i][right]=prev\n",
    "            prev=curr\n",
    "\n",
    "        right-=1\n",
    "\n",
    "        for i in range(right,left-1,-1):\n",
    "            #move the bottom row elements from right to left\n",
    "            curr=arr[bottom][i]\n",
    "            arr[bottom][i]=prev\n",
    "            prev=curr\n",
    "\n",
    "        bottom-=1\n",
    "\n",
    "        for i in range(bottom,top-1,-1):\n",
    "            #move the leftmost column elements from bottom to top\n",
    "            curr=arr[i][left]\n",
    "            arr[i][left]=prev\n",
    "            prev=curr\n",
    "\n",
    "        left+=1\n",
    "\n",
    "\n",
    "if __name__ == '__main__':\n",
    "    arr=[[1,2,3,4],[5,6,7,8],[9,10,11,12],[13,14,15,16]]\n",
    "    rotateMatrix(arr)\n",
    "    for i in range(len(arr)):\n",
    "        print(arr[i])\n"
   ]
  },
  {
   "cell_type": "markdown",
   "metadata": {},
   "source": [
    "# Inplace rotate square matrix by 90 degrees"
   ]
  },
  {
   "cell_type": "markdown",
   "metadata": {},
   "source": [
    "Rotate using extra space"
   ]
  },
  {
   "cell_type": "markdown",
   "metadata": {},
   "source": [
    "<pre>\n",
    "first row of source ------> last column of destination\n",
    "second row of source ------> last but-one column of destination\n",
    "so ... on\n",
    "last row of source ------> first column of destination\n",
    "</pre>"
   ]
  },
  {
   "cell_type": "code",
   "execution_count": 1,
   "metadata": {},
   "outputs": [
    {
     "name": "stdout",
     "output_type": "stream",
     "text": [
      "[1, 2, 3]\n",
      "[4, 5, 6]\n",
      "[7, 8, 9]\n",
      "\n",
      "[3, 6, 9]\n",
      "[2, 5, 8]\n",
      "[1, 4, 7]\n"
     ]
    }
   ],
   "source": [
    "def rotateMatrixBy90(arr):\n",
    "    n=len(arr)\n",
    "    resultMatrix=[[0 for j in range(n)] for i in range(n)]\n",
    "    # print(resultMatrix)\n",
    "    for row in range(n):\n",
    "        for col in range(n):\n",
    "            # resultMatrix[col][n-row-1]=arr[row][col] #clockise\n",
    "            resultMatrix[n-col-1][row]=arr[row][col] #anticlockwise\n",
    "    for i in range(n):\n",
    "        print(resultMatrix[i])\n",
    "\n",
    "\n",
    "\n",
    "if __name__ == '__main__':\n",
    "    arr=[[1,2,3],[4,5,6],[7,8,9]]\n",
    "    for i in range(len(arr)):\n",
    "        print(arr[i])\n",
    "    print()\n",
    "    rotateMatrixBy90(arr)\n"
   ]
  },
  {
   "cell_type": "markdown",
   "metadata": {},
   "source": [
    "Approach: To solve the question without any extra space, rotate the array in form of squares, dividing the matrix into squares or cycles. For example,\n",
    "A 4 X 4 matrix will have 2 cycles. The first cycle is formed by its 1st row, last column, last row and 1st column. The second cycle is formed by 2nd row, second-last column, second-last row and 2nd column. The idea is for each square cycle, swap the elements involved with the corresponding cell in the matrix in anti-clockwise direction i.e. from top to left, left to bottom, bottom to right and from right to top one at a time using nothing but a temporary variable to achieve this."
   ]
  },
  {
   "cell_type": "markdown",
   "metadata": {},
   "source": [
    "<pre>\n",
    "Algorithm:\n",
    "\n",
    "There is N/2 squares or cycles in a matrix of side N. Process a square one at a time. Run a loop to traverse the matrix a cycle at a time, i.e loop from 0 to N/2 – 1, loop counter is i\n",
    "\n",
    "So run a loop in each cycle from x to N – x – 1, loop counter is y\n",
    "\n",
    "The elements in the current group is (x, y), (y, N-1-x), (N-1-x, N-1-y), (N-1-y, x), now rotate the these 4 elements, i.e (x, y) <- (y, N-1-x), (y, N-1-x)<- (N-1-x, N-1-y), (N-1-x, N-1-y)<- (N-1-y, x), (N-1-y, x)<- (x, y)\n",
    "\n",
    "Print the matrix.\n",
    "</pre>"
   ]
  },
  {
   "cell_type": "code",
   "execution_count": 1,
   "metadata": {},
   "outputs": [
    {
     "name": "stdout",
     "output_type": "stream",
     "text": [
      "[4, 8, 12, 16]\n",
      "[3, 7, 11, 15]\n",
      "[2, 6, 10, 14]\n",
      "[1, 5, 9, 13]\n"
     ]
    }
   ],
   "source": [
    "def rotateMatrixBy90Inplace(arr):\n",
    "    #anticlockwise\n",
    "    n=len(arr)\n",
    "    for x in range(n//2):\n",
    "        for y in range(x,n-x-1):\n",
    "            prev=arr[x][y]\n",
    "            arr[x][y]=arr[y][n-x-1]\n",
    "            arr[y][n-x-1]=arr[n-x-1][n-y-1]\n",
    "            arr[n-x-1][n-y-1]=arr[n-y-1][x]\n",
    "            arr[n-y-1][x]=prev\n",
    "    for i in range(n):\n",
    "        print(arr[i])\n",
    "\n",
    "\n",
    "if __name__ == '__main__':\n",
    "    arr=[[1,2,3,4],[5,6,7,8],[9,10,11,12],[13,14,15,16]]\n",
    "    rotateMatrixBy90Inplace(arr)\n"
   ]
  },
  {
   "cell_type": "markdown",
   "metadata": {},
   "source": [
    "Clockwise"
   ]
  },
  {
   "cell_type": "code",
   "execution_count": 2,
   "metadata": {},
   "outputs": [
    {
     "name": "stdout",
     "output_type": "stream",
     "text": [
      "[13, 9, 5, 1]\n",
      "[14, 10, 6, 2]\n",
      "[15, 11, 7, 3]\n",
      "[16, 12, 8, 4]\n"
     ]
    }
   ],
   "source": [
    "def rotateMatrixBy90Inplace(arr):\n",
    "    #clockwise\n",
    "    n=len(arr)\n",
    "    for x in range(n//2):\n",
    "        for y in range(x,n-x-1):\n",
    "            prev=arr[x][y]\n",
    "            arr[x][y]=arr[n-y-1][x]\n",
    "            arr[n-y-1][x]=arr[n-x-1][n-y-1]\n",
    "            arr[n-x-1][n-y-1]=arr[y][n-x-1]\n",
    "            arr[y][n-x-1]=prev\n",
    "    for i in range(n):\n",
    "        print(arr[i])\n",
    "\n",
    "\n",
    "if __name__ == '__main__':\n",
    "    arr=[[1,2,3,4],[5,6,7,8],[9,10,11,12],[13,14,15,16]]\n",
    "    rotateMatrixBy90Inplace(arr)\n"
   ]
  },
  {
   "cell_type": "markdown",
   "metadata": {},
   "source": [
    "Concept-> Decide on the swap values manually"
   ]
  },
  {
   "cell_type": "markdown",
   "metadata": {},
   "source": [
    "Time complexity - O(n*n)"
   ]
  },
  {
   "cell_type": "markdown",
   "metadata": {},
   "source": [
    "# Rotate a matrix by 90 degree without using any extra space | Set 2"
   ]
  },
  {
   "cell_type": "markdown",
   "metadata": {},
   "source": [
    "Approach: The idea is to find the transpose of the matrix and then reverse the columns of the transposed matrix."
   ]
  },
  {
   "cell_type": "markdown",
   "metadata": {},
   "source": [
    "<pre>\n",
    "Algorithm:\n",
    "\n",
    "To solve the given problem there are two tasks. 1st is finding the transpose and second is reversing the columns without using extra space\n",
    "\n",
    "A transpose of a matrix is when the matrix is flipped over its diagonal, i.e the row index of an element becomes the column index and vice versa. So to find the transpose interchange the elements at position (i, j) with (j, i). Run two loops, the outer loop from 0 to row count and inner loop from 0 to index of the outer loop.\n",
    "\n",
    "To reverse the column of the transposed matrix, run two nested loops, the outer loop from 0 to column count and inner loop from 0 to row count/2, interchange elements at (i, j) with (i, row[count-1-j]), where i and j are indices of inner and outer loop respectively.\n",
    "</pre>"
   ]
  },
  {
   "cell_type": "code",
   "execution_count": 3,
   "metadata": {},
   "outputs": [
    {
     "name": "stdout",
     "output_type": "stream",
     "text": [
      "[4, 8, 12, 16]\n",
      "[3, 7, 11, 15]\n",
      "[2, 6, 10, 14]\n",
      "[1, 5, 9, 13]\n"
     ]
    }
   ],
   "source": [
    "def rotateMatrixBy90Inplace(arr):\n",
    "\n",
    "    n=len(arr)\n",
    "\n",
    "    for i in range(n):\n",
    "        for j in range(i,n):\n",
    "            temp=arr[i][j]\n",
    "            arr[i][j]=arr[j][i]\n",
    "            arr[j][i]=temp\n",
    "\n",
    "    #clockise\n",
    "    # reverse the rows for clockwise\n",
    "    # for i in range(n):\n",
    "    #     arr[i].reverse()\n",
    "\n",
    "    # for i in range(n):\n",
    "    #     print(arr[i])\n",
    "\n",
    "    #anticlockwise\n",
    "    for i in range(n):#column\n",
    "        for j in range(n//2):#row\n",
    "            arr[j][i],arr[n-j-1][i]=arr[n-j-1][i],arr[j][i]\n",
    "\n",
    "    for i in range(n):\n",
    "        print(arr[i])\n",
    "\n",
    "if __name__ == '__main__':\n",
    "    arr=[[1,2,3,4],[5,6,7,8],[9,10,11,12],[13,14,15,16]]\n",
    "    rotateMatrixBy90Inplace(arr)\n"
   ]
  },
  {
   "cell_type": "markdown",
   "metadata": {},
   "source": [
    "# Rotate a Matrix by 180 degree"
   ]
  },
  {
   "cell_type": "markdown",
   "metadata": {},
   "source": [
    "Approach 1-> Simply print the matrix in reverse order"
   ]
  },
  {
   "cell_type": "code",
   "execution_count": 1,
   "metadata": {},
   "outputs": [
    {
     "name": "stdout",
     "output_type": "stream",
     "text": [
      "9 8 7 \n",
      "6 5 4 \n",
      "3 2 1 \n"
     ]
    }
   ],
   "source": [
    "def rotateBy180(arr):\n",
    "    n=len(arr)\n",
    "    for i in range(n-1,-1,-1):\n",
    "        for j in range(n-1,-1,-1):\n",
    "            print(arr[i][j],end=\" \")\n",
    "        print()\n",
    "\n",
    "\n",
    "if __name__ == '__main__':\n",
    "    arr=[[1,2,3],[4,5,6],[7,8,9]]\n",
    "    rotateBy180(arr)\n"
   ]
  },
  {
   "cell_type": "markdown",
   "metadata": {},
   "source": [
    "Time complexity - O(n* n) and space complexity - O(1)"
   ]
  },
  {
   "cell_type": "markdown",
   "metadata": {},
   "source": [
    "Approach 2-> Transpose->reverse columns -> Transpose -> ReverseColumns"
   ]
  },
  {
   "cell_type": "code",
   "execution_count": 2,
   "metadata": {},
   "outputs": [
    {
     "name": "stdout",
     "output_type": "stream",
     "text": [
      "[9, 8, 7]\n",
      "[6, 5, 4]\n",
      "[3, 2, 1]\n"
     ]
    }
   ],
   "source": [
    "def transpose(arr,n):\n",
    "    for i in range(n):\n",
    "        for j in range(i,n):\n",
    "            arr[i][j],arr[j][i]=arr[j][i],arr[i][j]\n",
    "\n",
    "def reverseColumns(arr,n):\n",
    "    for i in range(n):\n",
    "        for j in range(n//2):\n",
    "            arr[j][i],arr[n-j-1][i]=arr[n-j-1][i],arr[j][i]\n",
    "\n",
    "def rotateBy180(arr):\n",
    "    n=len(arr)\n",
    "\n",
    "    transpose(arr,n)\n",
    "    reverseColumns(arr,n)\n",
    "    transpose(arr,n)\n",
    "    reverseColumns(arr,n)\n",
    "\n",
    "\n",
    "\n",
    "\n",
    "if __name__ == '__main__':\n",
    "    arr=[[1,2,3],[4,5,6],[7,8,9]]\n",
    "    rotateBy180(arr)\n",
    "    for i in range(len(arr)):\n",
    "        print(arr[i])\n"
   ]
  },
  {
   "cell_type": "markdown",
   "metadata": {},
   "source": [
    "Time Complexity - Row*Column and Space Complexity - O(1)"
   ]
  },
  {
   "cell_type": "markdown",
   "metadata": {},
   "source": [
    "Approach 3-> In the code above, transpose of the matrix has to be found twice and also, columns have to be reversed twice.\n",
    "So, we can have a better solution. We can reverse the rows and again reverse the columns to get the desired output"
   ]
  },
  {
   "cell_type": "code",
   "execution_count": 3,
   "metadata": {},
   "outputs": [
    {
     "name": "stdout",
     "output_type": "stream",
     "text": [
      "[9, 8, 7]\n",
      "[6, 5, 4]\n",
      "[3, 2, 1]\n"
     ]
    }
   ],
   "source": [
    "# def transpose(arr,n):\n",
    "#     for i in range(n):\n",
    "#         for j in range(i,n):\n",
    "#             arr[i][j],arr[j][i]=arr[j][i],arr[i][j]\n",
    "\n",
    "def reverseRows(arr,n):\n",
    "    for i in range(n):\n",
    "        arr[i].reverse()\n",
    "\n",
    "def reverseColumns(arr,n):\n",
    "    for i in range(n):\n",
    "        for j in range(n//2):\n",
    "            arr[j][i],arr[n-j-1][i]=arr[n-j-1][i],arr[j][i]\n",
    "\n",
    "def rotateBy180(arr):\n",
    "    n=len(arr)\n",
    "\n",
    "    reverseRows(arr,n)\n",
    "    reverseColumns(arr,n)\n",
    "\n",
    "if __name__ == '__main__':\n",
    "    arr=[[1,2,3],[4,5,6],[7,8,9]]\n",
    "    rotateBy180(arr)\n",
    "    for i in range(len(arr)):\n",
    "        print(arr[i])\n"
   ]
  },
  {
   "cell_type": "markdown",
   "metadata": {},
   "source": [
    "Time Complexity - O(row*column) and space complexity - O(1)"
   ]
  },
  {
   "cell_type": "markdown",
   "metadata": {},
   "source": [
    "# Rotate each ring of matrix anticlockwise by K elements"
   ]
  },
  {
   "cell_type": "markdown",
   "metadata": {},
   "source": [
    "Given a matrix of order M*N and a value K, the task is to rotate each ring of the matrix anticlockwise by K elements. If in any ring elements are less than and equal K then don’t rotate it."
   ]
  },
  {
   "cell_type": "code",
   "execution_count": 5,
   "metadata": {},
   "outputs": [
    {
     "name": "stdout",
     "output_type": "stream",
     "text": [
      "[3, 4, 5, 6]\n",
      "[2, 11, 12, 7]\n",
      "[1, 10, 9, 8]\n"
     ]
    }
   ],
   "source": [
    "def rotateByk(arr,k,r,c):\n",
    "    n=len(arr)\n",
    "\n",
    "    count=k\n",
    "    while count>0:\n",
    "        # top=0\n",
    "        # bottom=n-1\n",
    "        # left=0\n",
    "        # right=n-1\n",
    "        top=0\n",
    "        bottom=r-1\n",
    "        left=0\n",
    "        right=c-1\n",
    "        if right-left+1>=k:\n",
    "            prev=arr[top+1][right]\n",
    "            #move elements from right to left for the top row\n",
    "            for i in range(right,left-1,-1):\n",
    "                curr=arr[top][i]\n",
    "                arr[top][i]=prev\n",
    "                prev=curr\n",
    "\n",
    "            top+=1\n",
    "            #move elements from top to bottom for the left column\n",
    "            for i in range(top,bottom+1):\n",
    "                curr=arr[i][left]\n",
    "                arr[i][left]=prev\n",
    "                prev=curr\n",
    "\n",
    "            left+=1\n",
    "\n",
    "            #move elements from left to right for the bottom row\n",
    "            for i in range(left,right+1):\n",
    "                curr=arr[bottom][i]\n",
    "                arr[bottom][i]=prev\n",
    "                prev=curr\n",
    "\n",
    "            bottom-=1\n",
    "            #move elements from bottome to top for the right column\n",
    "            for i in range(bottom,top-1,-1):\n",
    "                curr=arr[i][right]\n",
    "                arr[i][right]=prev\n",
    "                prev=curr\n",
    "\n",
    "            right-=1\n",
    "            count-=1\n",
    "        else:\n",
    "            break\n",
    "\n",
    "if __name__ == '__main__':\n",
    "    # arr=[[1,2,3,4],[5,6,7,8],[9,10,11,12],[13,14,15,16]]\n",
    "    arr=[[1,2,3,4],[10,11,12,5],[9,8,7,6]]\n",
    "    k=2\n",
    "    n=3;m=4\n",
    "    # n=4;m=4\n",
    "    rotateByk(arr,k,n,m)\n",
    "    for i in range(len(arr)):\n",
    "        print(arr[i])\n"
   ]
  },
  {
   "cell_type": "markdown",
   "metadata": {},
   "source": [
    "Time Complexity - k* O(m*n) and space complexity O(1)"
   ]
  },
  {
   "cell_type": "markdown",
   "metadata": {},
   "source": [
    "# Turn an image by 90 degree"
   ]
  },
  {
   "cell_type": "markdown",
   "metadata": {},
   "source": [
    "Given an image,turn it by 90 degrees? \n",
    "An image can be treated as 2D matrix which can be stored in a buffer\n",
    "Same as rotate matrix by 90 degree"
   ]
  },
  {
   "cell_type": "markdown",
   "metadata": {},
   "source": [
    "# A Program to check if strings are rotations of each other or not"
   ]
  },
  {
   "cell_type": "markdown",
   "metadata": {},
   "source": [
    "<pre>\n",
    " 1. Create a temp string and store concatenation of str1 to\n",
    "       str1 in temp.\n",
    "                          temp = str1.str1\n",
    " 2. If str2 is a substring of temp then str1 and str2 are \n",
    "       rotations of each other.\n",
    "\n",
    "    Example:                 \n",
    "                     str1 = \"ABACD\"\n",
    "                     str2 = \"CDABA\"\n",
    "\n",
    "     temp = str1.str1 = \"ABACDABACD\"\n",
    "     Since str2 is a substring of temp, str1 and str2 are \n",
    "     rotations of each other.\n",
    "</pre>"
   ]
  },
  {
   "cell_type": "code",
   "execution_count": 6,
   "metadata": {},
   "outputs": [
    {
     "name": "stdout",
     "output_type": "stream",
     "text": [
      "true\n"
     ]
    }
   ],
   "source": [
    "def isRotation(target,source):\n",
    "    if len(source)!=len(target):\n",
    "        print('false')\n",
    "        return\n",
    "    temp=source+source\n",
    "    if temp.count(target):\n",
    "        print('true')\n",
    "    else:\n",
    "        print('false')\n",
    "\n",
    "\n",
    "if __name__ == '__main__':\n",
    "    str1=\"ABACD\"\n",
    "    str2=\"CDABA\"\n",
    "    isRotation(str2,str1)\n"
   ]
  },
  {
   "cell_type": "markdown",
   "metadata": {},
   "source": [
    "Time Complexity: Time complexity of this problem depends on the implementation of strstr function.\n",
    "If implementation of strstr is done using KMP matcher then complexity of the above program is (-)(n1 + n2) where n1 and n2 are lengths of strings. KMP matcher takes (-)(n) time to find a substrng in a string of length n where length of substring is assumed to be smaller than the string."
   ]
  },
  {
   "cell_type": "markdown",
   "metadata": {},
   "source": [
    "# Check if all rows of a matrix are circular rotations of each other"
   ]
  },
  {
   "cell_type": "markdown",
   "metadata": {},
   "source": [
    "<pre>\n",
    "The idea is based on below article.\n",
    "A Program to check if strings are rotations of each other or not\n",
    "\n",
    "Steps :\n",
    "\n",
    "Create a string of first row elements and concatenate the string with itself so that string search operations can be efficiently performed. Let this string be str_cat.\n",
    "Traverse all remaining rows. For every row being traversed, create a string str_curr of current row elements. If str_curr is not a substring of str_cat, return false.\n",
    "Return true.\n",
    "</pre>"
   ]
  },
  {
   "cell_type": "code",
   "execution_count": 7,
   "metadata": {},
   "outputs": [
    {
     "name": "stdout",
     "output_type": "stream",
     "text": [
      "True\n"
     ]
    }
   ],
   "source": [
    "def isRotation(arr):\n",
    "    strObj=''\n",
    "    for i in range(len(arr)):\n",
    "        strObj+=str(arr[0][i])\n",
    "    strObj+=strObj\n",
    "    for i in range(1,len(arr)):\n",
    "        str_curr=''.join(map(str,arr[i]))\n",
    "        if strObj.find(str_curr)<0:\n",
    "            return False\n",
    "    return True\n",
    "\n",
    "if __name__ == '__main__':\n",
    "    arr=[[1,2,3],[3,1,2],[2,3,1]]\n",
    "    # arr=[[1,2,3],[3,2,1],[1,3,2]]\n",
    "    print(isRotation(arr))\n"
   ]
  },
  {
   "cell_type": "markdown",
   "metadata": {},
   "source": [
    "Time Complexity - O(n * n), n rows and kmp takes n time to match pattern"
   ]
  },
  {
   "cell_type": "markdown",
   "metadata": {},
   "source": [
    "# Sort the given matrix"
   ]
  },
  {
   "cell_type": "markdown",
   "metadata": {},
   "source": [
    "Given a n x n matrix. The problem is to sort the given matrix in strict order. Here strict order means that matrix is sorted in a way such that all elements in a row are sorted in increasing order and for row ‘i’, where 1 <= i <= n-1, first element of row 'i' is greater than or equal to the last element of row 'i-1'."
   ]
  },
  {
   "cell_type": "markdown",
   "metadata": {},
   "source": [
    "Approach: Create a temp[] array of size n^2. Starting with the first row one by one copy the elements of the given matrix into temp[]. Sort temp[]. Now one by one copy the elements of temp[] back to the given matrix."
   ]
  },
  {
   "cell_type": "code",
   "execution_count": 9,
   "metadata": {},
   "outputs": [
    {
     "name": "stdout",
     "output_type": "stream",
     "text": [
      "[[1, 2, 3], [4, 5, 6], [7, 8, 9]]\n"
     ]
    }
   ],
   "source": [
    "def sortMatrix(arr):\n",
    "    n=len(arr)\n",
    "    temp=[0]*(n*n)\n",
    "    k=0\n",
    "    for i in range(n):\n",
    "        for j in range(n):\n",
    "            temp[k]=arr[i][j]\n",
    "            k+=1\n",
    "    temp.sort()\n",
    "    k=0\n",
    "    for i in range(n):\n",
    "        for j in range(n):\n",
    "            arr[i][j]=temp[k]\n",
    "            k+=1\n",
    "\n",
    "if __name__ == '__main__':\n",
    "    arr=[[5, 4, 7],[1, 3, 8],[2, 9, 6]]\n",
    "    sortMatrix(arr)\n",
    "    print(arr)\n"
   ]
  },
  {
   "cell_type": "markdown",
   "metadata": {},
   "source": [
    "Time Complexity - O(n<sup>2</sup>logn)"
   ]
  },
  {
   "cell_type": "markdown",
   "metadata": {},
   "source": [
    "# Find the row with maximum number of 1s"
   ]
  },
  {
   "cell_type": "markdown",
   "metadata": {},
   "source": [
    "Given a boolean 2D array, where each row is sorted. Find the row with the maximum number of 1s."
   ]
  },
  {
   "cell_type": "code",
   "execution_count": null,
   "metadata": {},
   "outputs": [],
   "source": []
  }
 ],
 "metadata": {
  "kernelspec": {
   "display_name": "Python 3",
   "language": "python",
   "name": "python3"
  },
  "language_info": {
   "codemirror_mode": {
    "name": "ipython",
    "version": 3
   },
   "file_extension": ".py",
   "mimetype": "text/x-python",
   "name": "python",
   "nbconvert_exporter": "python",
   "pygments_lexer": "ipython3",
   "version": "3.7.6"
  }
 },
 "nbformat": 4,
 "nbformat_minor": 4
}
