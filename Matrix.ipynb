{
 "cells": [
  {
   "cell_type": "markdown",
   "metadata": {},
   "source": [
    "# Rotate Matrix Elements"
   ]
  },
  {
   "cell_type": "markdown",
   "metadata": {},
   "source": [
    "<pre>\n",
    "The idea is to use loops. One by one rotate all rings of elements, starting from the outermost. To rotate a ring, we need to do following.\n",
    "    1) Move elements of top row.\n",
    "    2) Move elements of last column.\n",
    "    3) Move elements of bottom row.\n",
    "    4) Move elements of first column.\n",
    "Repeat above steps for inner ring while there is an inner ring.\n",
    "</pre>"
   ]
  },
  {
   "cell_type": "code",
   "execution_count": 2,
   "metadata": {},
   "outputs": [
    {
     "name": "stdout",
     "output_type": "stream",
     "text": [
      "[5, 1, 2, 3]\n",
      "[9, 10, 6, 4]\n",
      "[13, 11, 7, 8]\n",
      "[14, 15, 16, 12]\n"
     ]
    }
   ],
   "source": [
    "def rotateMatrix(arr):\n",
    "    top=0 #top row\n",
    "    bottom=len(arr)-1 #bottom row\n",
    "    left=0 #leftmost column\n",
    "    right=len(arr)-1 #rightmost column\n",
    "\n",
    "    while top<bottom and left<right:\n",
    "\n",
    "        #store the next row element which will be the first element of the current row\n",
    "        prev=arr[top+1][left]\n",
    "\n",
    "        for i in range(left,right+1):\n",
    "            #move the first row elements from left to right\n",
    "            curr=arr[top][i]\n",
    "            arr[top][i]=prev\n",
    "            prev=curr\n",
    "\n",
    "        top+=1\n",
    "\n",
    "        for i in range(top,bottom+1):\n",
    "            #move the rightmost column elements from top to bottom\n",
    "            curr=arr[i][right]\n",
    "            arr[i][right]=prev\n",
    "            prev=curr\n",
    "\n",
    "        right-=1\n",
    "\n",
    "        for i in range(right,left-1,-1):\n",
    "            #move the bottom row elements from right to left\n",
    "            curr=arr[bottom][i]\n",
    "            arr[bottom][i]=prev\n",
    "            prev=curr\n",
    "\n",
    "        bottom-=1\n",
    "\n",
    "        for i in range(bottom,top-1,-1):\n",
    "            #move the leftmost column elements from bottom to top\n",
    "            curr=arr[i][left]\n",
    "            arr[i][left]=prev\n",
    "            prev=curr\n",
    "\n",
    "        left+=1\n",
    "\n",
    "\n",
    "if __name__ == '__main__':\n",
    "    arr=[[1,2,3,4],[5,6,7,8],[9,10,11,12],[13,14,15,16]]\n",
    "    rotateMatrix(arr)\n",
    "    for i in range(len(arr)):\n",
    "        print(arr[i])\n"
   ]
  },
  {
   "cell_type": "markdown",
   "metadata": {},
   "source": [
    "# Inplace rotate square matrix by 90 degrees"
   ]
  },
  {
   "cell_type": "markdown",
   "metadata": {},
   "source": [
    "Rotate using extra space"
   ]
  },
  {
   "cell_type": "markdown",
   "metadata": {},
   "source": [
    "<pre>\n",
    "first row of source ------> last column of destination\n",
    "second row of source ------> last but-one column of destination\n",
    "so ... on\n",
    "last row of source ------> first column of destination\n",
    "</pre>"
   ]
  },
  {
   "cell_type": "code",
   "execution_count": 1,
   "metadata": {},
   "outputs": [
    {
     "name": "stdout",
     "output_type": "stream",
     "text": [
      "[1, 2, 3]\n",
      "[4, 5, 6]\n",
      "[7, 8, 9]\n",
      "\n",
      "[3, 6, 9]\n",
      "[2, 5, 8]\n",
      "[1, 4, 7]\n"
     ]
    }
   ],
   "source": [
    "def rotateMatrixBy90(arr):\n",
    "    n=len(arr)\n",
    "    resultMatrix=[[0 for j in range(n)] for i in range(n)]\n",
    "    # print(resultMatrix)\n",
    "    for row in range(n):\n",
    "        for col in range(n):\n",
    "            # resultMatrix[col][n-row-1]=arr[row][col] #clockise\n",
    "            resultMatrix[n-col-1][row]=arr[row][col] #anticlockwise\n",
    "    for i in range(n):\n",
    "        print(resultMatrix[i])\n",
    "\n",
    "\n",
    "\n",
    "if __name__ == '__main__':\n",
    "    arr=[[1,2,3],[4,5,6],[7,8,9]]\n",
    "    for i in range(len(arr)):\n",
    "        print(arr[i])\n",
    "    print()\n",
    "    rotateMatrixBy90(arr)\n"
   ]
  },
  {
   "cell_type": "markdown",
   "metadata": {},
   "source": [
    "Approach: To solve the question without any extra space, rotate the array in form of squares, dividing the matrix into squares or cycles. For example,\n",
    "A 4 X 4 matrix will have 2 cycles. The first cycle is formed by its 1st row, last column, last row and 1st column. The second cycle is formed by 2nd row, second-last column, second-last row and 2nd column. The idea is for each square cycle, swap the elements involved with the corresponding cell in the matrix in anti-clockwise direction i.e. from top to left, left to bottom, bottom to right and from right to top one at a time using nothing but a temporary variable to achieve this."
   ]
  },
  {
   "cell_type": "markdown",
   "metadata": {},
   "source": [
    "<pre>\n",
    "Algorithm:\n",
    "\n",
    "There is N/2 squares or cycles in a matrix of side N. Process a square one at a time. Run a loop to traverse the matrix a cycle at a time, i.e loop from 0 to N/2 – 1, loop counter is i\n",
    "\n",
    "So run a loop in each cycle from x to N – x – 1, loop counter is y\n",
    "\n",
    "The elements in the current group is (x, y), (y, N-1-x), (N-1-x, N-1-y), (N-1-y, x), now rotate the these 4 elements, i.e (x, y) <- (y, N-1-x), (y, N-1-x)<- (N-1-x, N-1-y), (N-1-x, N-1-y)<- (N-1-y, x), (N-1-y, x)<- (x, y)\n",
    "\n",
    "Print the matrix.\n",
    "</pre>"
   ]
  },
  {
   "cell_type": "code",
   "execution_count": 1,
   "metadata": {},
   "outputs": [
    {
     "name": "stdout",
     "output_type": "stream",
     "text": [
      "[4, 8, 12, 16]\n",
      "[3, 7, 11, 15]\n",
      "[2, 6, 10, 14]\n",
      "[1, 5, 9, 13]\n"
     ]
    }
   ],
   "source": [
    "def rotateMatrixBy90Inplace(arr):\n",
    "    #anticlockwise\n",
    "    n=len(arr)\n",
    "    for x in range(n//2):\n",
    "        for y in range(x,n-x-1):\n",
    "            prev=arr[x][y]\n",
    "            arr[x][y]=arr[y][n-x-1]\n",
    "            arr[y][n-x-1]=arr[n-x-1][n-y-1]\n",
    "            arr[n-x-1][n-y-1]=arr[n-y-1][x]\n",
    "            arr[n-y-1][x]=prev\n",
    "    for i in range(n):\n",
    "        print(arr[i])\n",
    "\n",
    "\n",
    "if __name__ == '__main__':\n",
    "    arr=[[1,2,3,4],[5,6,7,8],[9,10,11,12],[13,14,15,16]]\n",
    "    rotateMatrixBy90Inplace(arr)\n"
   ]
  },
  {
   "cell_type": "markdown",
   "metadata": {},
   "source": [
    "Clockwise"
   ]
  },
  {
   "cell_type": "code",
   "execution_count": 2,
   "metadata": {},
   "outputs": [
    {
     "name": "stdout",
     "output_type": "stream",
     "text": [
      "[13, 9, 5, 1]\n",
      "[14, 10, 6, 2]\n",
      "[15, 11, 7, 3]\n",
      "[16, 12, 8, 4]\n"
     ]
    }
   ],
   "source": [
    "def rotateMatrixBy90Inplace(arr):\n",
    "    #clockwise\n",
    "    n=len(arr)\n",
    "    for x in range(n//2):\n",
    "        for y in range(x,n-x-1):\n",
    "            prev=arr[x][y]\n",
    "            arr[x][y]=arr[n-y-1][x]\n",
    "            arr[n-y-1][x]=arr[n-x-1][n-y-1]\n",
    "            arr[n-x-1][n-y-1]=arr[y][n-x-1]\n",
    "            arr[y][n-x-1]=prev\n",
    "    for i in range(n):\n",
    "        print(arr[i])\n",
    "\n",
    "\n",
    "if __name__ == '__main__':\n",
    "    arr=[[1,2,3,4],[5,6,7,8],[9,10,11,12],[13,14,15,16]]\n",
    "    rotateMatrixBy90Inplace(arr)\n"
   ]
  },
  {
   "cell_type": "markdown",
   "metadata": {},
   "source": [
    "Concept-> Decide on the swap values manually"
   ]
  },
  {
   "cell_type": "markdown",
   "metadata": {},
   "source": [
    "Time complexity - O(n*n)"
   ]
  },
  {
   "cell_type": "markdown",
   "metadata": {},
   "source": [
    "# Rotate a matrix by 90 degree without using any extra space | Set 2"
   ]
  },
  {
   "cell_type": "markdown",
   "metadata": {},
   "source": [
    "Approach: The idea is to find the transpose of the matrix and then reverse the columns of the transposed matrix."
   ]
  },
  {
   "cell_type": "markdown",
   "metadata": {},
   "source": [
    "<pre>\n",
    "Algorithm:\n",
    "\n",
    "To solve the given problem there are two tasks. 1st is finding the transpose and second is reversing the columns without using extra space\n",
    "\n",
    "A transpose of a matrix is when the matrix is flipped over its diagonal, i.e the row index of an element becomes the column index and vice versa. So to find the transpose interchange the elements at position (i, j) with (j, i). Run two loops, the outer loop from 0 to row count and inner loop from 0 to index of the outer loop.\n",
    "\n",
    "To reverse the column of the transposed matrix, run two nested loops, the outer loop from 0 to column count and inner loop from 0 to row count/2, interchange elements at (i, j) with (i, row[count-1-j]), where i and j are indices of inner and outer loop respectively.\n",
    "</pre>"
   ]
  },
  {
   "cell_type": "code",
   "execution_count": 3,
   "metadata": {},
   "outputs": [
    {
     "name": "stdout",
     "output_type": "stream",
     "text": [
      "[4, 8, 12, 16]\n",
      "[3, 7, 11, 15]\n",
      "[2, 6, 10, 14]\n",
      "[1, 5, 9, 13]\n"
     ]
    }
   ],
   "source": [
    "def rotateMatrixBy90Inplace(arr):\n",
    "\n",
    "    n=len(arr)\n",
    "\n",
    "    for i in range(n):\n",
    "        for j in range(i,n):\n",
    "            temp=arr[i][j]\n",
    "            arr[i][j]=arr[j][i]\n",
    "            arr[j][i]=temp\n",
    "\n",
    "    #clockise\n",
    "    # for i in range(n):\n",
    "    #     arr[i].reverse()\n",
    "\n",
    "    # for i in range(n):\n",
    "    #     print(arr[i])\n",
    "\n",
    "    #anticlockwise\n",
    "    for i in range(n):#column\n",
    "        for j in range(n//2):#row\n",
    "            arr[j][i],arr[n-j-1][i]=arr[n-j-1][i],arr[j][i]\n",
    "\n",
    "    for i in range(n):\n",
    "        print(arr[i])\n",
    "\n",
    "if __name__ == '__main__':\n",
    "    arr=[[1,2,3,4],[5,6,7,8],[9,10,11,12],[13,14,15,16]]\n",
    "    rotateMatrixBy90Inplace(arr)\n"
   ]
  },
  {
   "cell_type": "code",
   "execution_count": null,
   "metadata": {},
   "outputs": [],
   "source": []
  }
 ],
 "metadata": {
  "kernelspec": {
   "display_name": "Python 3",
   "language": "python",
   "name": "python3"
  },
  "language_info": {
   "codemirror_mode": {
    "name": "ipython",
    "version": 3
   },
   "file_extension": ".py",
   "mimetype": "text/x-python",
   "name": "python",
   "nbconvert_exporter": "python",
   "pygments_lexer": "ipython3",
   "version": "3.7.6"
  }
 },
 "nbformat": 4,
 "nbformat_minor": 4
}
