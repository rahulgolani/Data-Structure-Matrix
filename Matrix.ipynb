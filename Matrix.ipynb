{
 "cells": [
  {
   "cell_type": "markdown",
   "metadata": {},
   "source": [
    "# Rotate Matrix Elements"
   ]
  },
  {
   "cell_type": "markdown",
   "metadata": {},
   "source": [
    "<pre>\n",
    "The idea is to use loops. One by one rotate all rings of elements, starting from the outermost. To rotate a ring, we need to do following.\n",
    "    1) Move elements of top row.\n",
    "    2) Move elements of last column.\n",
    "    3) Move elements of bottom row.\n",
    "    4) Move elements of first column.\n",
    "Repeat above steps for inner ring while there is an inner ring.\n",
    "</pre>"
   ]
  },
  {
   "cell_type": "code",
   "execution_count": 2,
   "metadata": {},
   "outputs": [
    {
     "name": "stdout",
     "output_type": "stream",
     "text": [
      "[5, 1, 2, 3]\n",
      "[9, 10, 6, 4]\n",
      "[13, 11, 7, 8]\n",
      "[14, 15, 16, 12]\n"
     ]
    }
   ],
   "source": [
    "def rotateMatrix(arr):\n",
    "    top=0 #top row\n",
    "    bottom=len(arr)-1 #bottom row\n",
    "    left=0 #leftmost column\n",
    "    right=len(arr)-1 #rightmost column\n",
    "\n",
    "    while top<bottom and left<right:\n",
    "\n",
    "        #store the next row element which will be the first element of the current row\n",
    "        prev=arr[top+1][left]\n",
    "\n",
    "        for i in range(left,right+1):\n",
    "            #move the first row elements from left to right\n",
    "            curr=arr[top][i]\n",
    "            arr[top][i]=prev\n",
    "            prev=curr\n",
    "\n",
    "        top+=1\n",
    "\n",
    "        for i in range(top,bottom+1):\n",
    "            #move the rightmost column elements from top to bottom\n",
    "            curr=arr[i][right]\n",
    "            arr[i][right]=prev\n",
    "            prev=curr\n",
    "\n",
    "        right-=1\n",
    "\n",
    "        for i in range(right,left-1,-1):\n",
    "            #move the bottom row elements from right to left\n",
    "            curr=arr[bottom][i]\n",
    "            arr[bottom][i]=prev\n",
    "            prev=curr\n",
    "\n",
    "        bottom-=1\n",
    "\n",
    "        for i in range(bottom,top-1,-1):\n",
    "            #move the leftmost column elements from bottom to top\n",
    "            curr=arr[i][left]\n",
    "            arr[i][left]=prev\n",
    "            prev=curr\n",
    "\n",
    "        left+=1\n",
    "\n",
    "\n",
    "if __name__ == '__main__':\n",
    "    arr=[[1,2,3,4],[5,6,7,8],[9,10,11,12],[13,14,15,16]]\n",
    "    rotateMatrix(arr)\n",
    "    for i in range(len(arr)):\n",
    "        print(arr[i])\n"
   ]
  },
  {
   "cell_type": "markdown",
   "metadata": {},
   "source": [
    "# Inplace rotate square matrix by 90 degrees"
   ]
  },
  {
   "cell_type": "markdown",
   "metadata": {},
   "source": [
    "Rotate using extra space"
   ]
  },
  {
   "cell_type": "markdown",
   "metadata": {},
   "source": [
    "<pre>\n",
    "first row of source ------> last column of destination\n",
    "second row of source ------> last but-one column of destination\n",
    "so ... on\n",
    "last row of source ------> first column of destination\n",
    "</pre>"
   ]
  },
  {
   "cell_type": "code",
   "execution_count": 1,
   "metadata": {},
   "outputs": [
    {
     "name": "stdout",
     "output_type": "stream",
     "text": [
      "[1, 2, 3]\n",
      "[4, 5, 6]\n",
      "[7, 8, 9]\n",
      "\n",
      "[3, 6, 9]\n",
      "[2, 5, 8]\n",
      "[1, 4, 7]\n"
     ]
    }
   ],
   "source": [
    "def rotateMatrixBy90(arr):\n",
    "    n=len(arr)\n",
    "    resultMatrix=[[0 for j in range(n)] for i in range(n)]\n",
    "    # print(resultMatrix)\n",
    "    for row in range(n):\n",
    "        for col in range(n):\n",
    "            # resultMatrix[col][n-row-1]=arr[row][col] #clockise\n",
    "            resultMatrix[n-col-1][row]=arr[row][col] #anticlockwise\n",
    "    for i in range(n):\n",
    "        print(resultMatrix[i])\n",
    "\n",
    "\n",
    "\n",
    "if __name__ == '__main__':\n",
    "    arr=[[1,2,3],[4,5,6],[7,8,9]]\n",
    "    for i in range(len(arr)):\n",
    "        print(arr[i])\n",
    "    print()\n",
    "    rotateMatrixBy90(arr)\n"
   ]
  },
  {
   "cell_type": "markdown",
   "metadata": {},
   "source": [
    "Approach: To solve the question without any extra space, rotate the array in form of squares, dividing the matrix into squares or cycles. For example,\n",
    "A 4 X 4 matrix will have 2 cycles. The first cycle is formed by its 1st row, last column, last row and 1st column. The second cycle is formed by 2nd row, second-last column, second-last row and 2nd column. The idea is for each square cycle, swap the elements involved with the corresponding cell in the matrix in anti-clockwise direction i.e. from top to left, left to bottom, bottom to right and from right to top one at a time using nothing but a temporary variable to achieve this."
   ]
  },
  {
   "cell_type": "markdown",
   "metadata": {},
   "source": [
    "<pre>\n",
    "Algorithm:\n",
    "\n",
    "There is N/2 squares or cycles in a matrix of side N. Process a square one at a time. Run a loop to traverse the matrix a cycle at a time, i.e loop from 0 to N/2 – 1, loop counter is i\n",
    "\n",
    "So run a loop in each cycle from x to N – x – 1, loop counter is y\n",
    "\n",
    "The elements in the current group is (x, y), (y, N-1-x), (N-1-x, N-1-y), (N-1-y, x), now rotate the these 4 elements, i.e (x, y) <- (y, N-1-x), (y, N-1-x)<- (N-1-x, N-1-y), (N-1-x, N-1-y)<- (N-1-y, x), (N-1-y, x)<- (x, y)\n",
    "\n",
    "Print the matrix.\n",
    "</pre>"
   ]
  },
  {
   "cell_type": "code",
   "execution_count": 1,
   "metadata": {},
   "outputs": [
    {
     "name": "stdout",
     "output_type": "stream",
     "text": [
      "[4, 8, 12, 16]\n",
      "[3, 7, 11, 15]\n",
      "[2, 6, 10, 14]\n",
      "[1, 5, 9, 13]\n"
     ]
    }
   ],
   "source": [
    "def rotateMatrixBy90Inplace(arr):\n",
    "    #anticlockwise\n",
    "    n=len(arr)\n",
    "    for x in range(n//2):\n",
    "        for y in range(x,n-x-1):\n",
    "            prev=arr[x][y]\n",
    "            arr[x][y]=arr[y][n-x-1]\n",
    "            arr[y][n-x-1]=arr[n-x-1][n-y-1]\n",
    "            arr[n-x-1][n-y-1]=arr[n-y-1][x]\n",
    "            arr[n-y-1][x]=prev\n",
    "    for i in range(n):\n",
    "        print(arr[i])\n",
    "\n",
    "\n",
    "if __name__ == '__main__':\n",
    "    arr=[[1,2,3,4],[5,6,7,8],[9,10,11,12],[13,14,15,16]]\n",
    "    rotateMatrixBy90Inplace(arr)\n"
   ]
  },
  {
   "cell_type": "markdown",
   "metadata": {},
   "source": [
    "Clockwise"
   ]
  },
  {
   "cell_type": "code",
   "execution_count": 2,
   "metadata": {},
   "outputs": [
    {
     "name": "stdout",
     "output_type": "stream",
     "text": [
      "[13, 9, 5, 1]\n",
      "[14, 10, 6, 2]\n",
      "[15, 11, 7, 3]\n",
      "[16, 12, 8, 4]\n"
     ]
    }
   ],
   "source": [
    "def rotateMatrixBy90Inplace(arr):\n",
    "    #clockwise\n",
    "    n=len(arr)\n",
    "    for x in range(n//2):\n",
    "        for y in range(x,n-x-1):\n",
    "            prev=arr[x][y]\n",
    "            arr[x][y]=arr[n-y-1][x]\n",
    "            arr[n-y-1][x]=arr[n-x-1][n-y-1]\n",
    "            arr[n-x-1][n-y-1]=arr[y][n-x-1]\n",
    "            arr[y][n-x-1]=prev\n",
    "    for i in range(n):\n",
    "        print(arr[i])\n",
    "\n",
    "\n",
    "if __name__ == '__main__':\n",
    "    arr=[[1,2,3,4],[5,6,7,8],[9,10,11,12],[13,14,15,16]]\n",
    "    rotateMatrixBy90Inplace(arr)\n"
   ]
  },
  {
   "cell_type": "markdown",
   "metadata": {},
   "source": [
    "Concept-> Decide on the swap values manually"
   ]
  },
  {
   "cell_type": "markdown",
   "metadata": {},
   "source": [
    "Time complexity - O(n*n)"
   ]
  },
  {
   "cell_type": "markdown",
   "metadata": {},
   "source": [
    "# Rotate a matrix by 90 degree without using any extra space | Set 2"
   ]
  },
  {
   "cell_type": "markdown",
   "metadata": {},
   "source": [
    "Approach: The idea is to find the transpose of the matrix and then reverse the columns of the transposed matrix."
   ]
  },
  {
   "cell_type": "markdown",
   "metadata": {},
   "source": [
    "<pre>\n",
    "Algorithm:\n",
    "\n",
    "To solve the given problem there are two tasks. 1st is finding the transpose and second is reversing the columns without using extra space\n",
    "\n",
    "A transpose of a matrix is when the matrix is flipped over its diagonal, i.e the row index of an element becomes the column index and vice versa. So to find the transpose interchange the elements at position (i, j) with (j, i). Run two loops, the outer loop from 0 to row count and inner loop from 0 to index of the outer loop.\n",
    "\n",
    "To reverse the column of the transposed matrix, run two nested loops, the outer loop from 0 to column count and inner loop from 0 to row count/2, interchange elements at (i, j) with (i, row[count-1-j]), where i and j are indices of inner and outer loop respectively.\n",
    "</pre>"
   ]
  },
  {
   "cell_type": "code",
   "execution_count": 3,
   "metadata": {},
   "outputs": [
    {
     "name": "stdout",
     "output_type": "stream",
     "text": [
      "[4, 8, 12, 16]\n",
      "[3, 7, 11, 15]\n",
      "[2, 6, 10, 14]\n",
      "[1, 5, 9, 13]\n"
     ]
    }
   ],
   "source": [
    "def rotateMatrixBy90Inplace(arr):\n",
    "\n",
    "    n=len(arr)\n",
    "\n",
    "    for i in range(n):\n",
    "        for j in range(i,n):\n",
    "            temp=arr[i][j]\n",
    "            arr[i][j]=arr[j][i]\n",
    "            arr[j][i]=temp\n",
    "\n",
    "    #clockise\n",
    "    # reverse the rows for clockwise\n",
    "    # for i in range(n):\n",
    "    #     arr[i].reverse()\n",
    "\n",
    "    # for i in range(n):\n",
    "    #     print(arr[i])\n",
    "\n",
    "    #anticlockwise\n",
    "    for i in range(n):#column\n",
    "        for j in range(n//2):#row\n",
    "            arr[j][i],arr[n-j-1][i]=arr[n-j-1][i],arr[j][i]\n",
    "\n",
    "    for i in range(n):\n",
    "        print(arr[i])\n",
    "\n",
    "if __name__ == '__main__':\n",
    "    arr=[[1,2,3,4],[5,6,7,8],[9,10,11,12],[13,14,15,16]]\n",
    "    rotateMatrixBy90Inplace(arr)\n"
   ]
  },
  {
   "cell_type": "markdown",
   "metadata": {},
   "source": [
    "# Rotate a Matrix by 180 degree"
   ]
  },
  {
   "cell_type": "markdown",
   "metadata": {},
   "source": [
    "Approach 1-> Simply print the matrix in reverse order"
   ]
  },
  {
   "cell_type": "code",
   "execution_count": 1,
   "metadata": {},
   "outputs": [
    {
     "name": "stdout",
     "output_type": "stream",
     "text": [
      "9 8 7 \n",
      "6 5 4 \n",
      "3 2 1 \n"
     ]
    }
   ],
   "source": [
    "def rotateBy180(arr):\n",
    "    n=len(arr)\n",
    "    for i in range(n-1,-1,-1):\n",
    "        for j in range(n-1,-1,-1):\n",
    "            print(arr[i][j],end=\" \")\n",
    "        print()\n",
    "\n",
    "\n",
    "if __name__ == '__main__':\n",
    "    arr=[[1,2,3],[4,5,6],[7,8,9]]\n",
    "    rotateBy180(arr)\n"
   ]
  },
  {
   "cell_type": "markdown",
   "metadata": {},
   "source": [
    "Time complexity - O(n* n) and space complexity - O(1)"
   ]
  },
  {
   "cell_type": "markdown",
   "metadata": {},
   "source": [
    "Approach 2-> Transpose->reverse columns -> Transpose -> ReverseColumns"
   ]
  },
  {
   "cell_type": "code",
   "execution_count": 2,
   "metadata": {},
   "outputs": [
    {
     "name": "stdout",
     "output_type": "stream",
     "text": [
      "[9, 8, 7]\n",
      "[6, 5, 4]\n",
      "[3, 2, 1]\n"
     ]
    }
   ],
   "source": [
    "def transpose(arr,n):\n",
    "    for i in range(n):\n",
    "        for j in range(i,n):\n",
    "            arr[i][j],arr[j][i]=arr[j][i],arr[i][j]\n",
    "\n",
    "def reverseColumns(arr,n):\n",
    "    for i in range(n):\n",
    "        for j in range(n//2):\n",
    "            arr[j][i],arr[n-j-1][i]=arr[n-j-1][i],arr[j][i]\n",
    "\n",
    "def rotateBy180(arr):\n",
    "    n=len(arr)\n",
    "\n",
    "    transpose(arr,n)\n",
    "    reverseColumns(arr,n)\n",
    "    transpose(arr,n)\n",
    "    reverseColumns(arr,n)\n",
    "\n",
    "\n",
    "\n",
    "\n",
    "if __name__ == '__main__':\n",
    "    arr=[[1,2,3],[4,5,6],[7,8,9]]\n",
    "    rotateBy180(arr)\n",
    "    for i in range(len(arr)):\n",
    "        print(arr[i])\n"
   ]
  },
  {
   "cell_type": "markdown",
   "metadata": {},
   "source": [
    "Time Complexity - Row*Column and Space Complexity - O(1)"
   ]
  },
  {
   "cell_type": "markdown",
   "metadata": {},
   "source": [
    "Approach 3-> In the code above, transpose of the matrix has to be found twice and also, columns have to be reversed twice.\n",
    "So, we can have a better solution. We can reverse the rows and again reverse the columns to get the desired output"
   ]
  },
  {
   "cell_type": "code",
   "execution_count": 3,
   "metadata": {},
   "outputs": [
    {
     "name": "stdout",
     "output_type": "stream",
     "text": [
      "[9, 8, 7]\n",
      "[6, 5, 4]\n",
      "[3, 2, 1]\n"
     ]
    }
   ],
   "source": [
    "# def transpose(arr,n):\n",
    "#     for i in range(n):\n",
    "#         for j in range(i,n):\n",
    "#             arr[i][j],arr[j][i]=arr[j][i],arr[i][j]\n",
    "\n",
    "def reverseRows(arr,n):\n",
    "    for i in range(n):\n",
    "        arr[i].reverse()\n",
    "\n",
    "def reverseColumns(arr,n):\n",
    "    for i in range(n):\n",
    "        for j in range(n//2):\n",
    "            arr[j][i],arr[n-j-1][i]=arr[n-j-1][i],arr[j][i]\n",
    "\n",
    "def rotateBy180(arr):\n",
    "    n=len(arr)\n",
    "\n",
    "    reverseRows(arr,n)\n",
    "    reverseColumns(arr,n)\n",
    "\n",
    "if __name__ == '__main__':\n",
    "    arr=[[1,2,3],[4,5,6],[7,8,9]]\n",
    "    rotateBy180(arr)\n",
    "    for i in range(len(arr)):\n",
    "        print(arr[i])\n"
   ]
  },
  {
   "cell_type": "markdown",
   "metadata": {},
   "source": [
    "Time Complexity - O(row*column) and space complexity - O(1)"
   ]
  },
  {
   "cell_type": "markdown",
   "metadata": {},
   "source": [
    "# Rotate each ring of matrix anticlockwise by K elements"
   ]
  },
  {
   "cell_type": "markdown",
   "metadata": {},
   "source": [
    "Given a matrix of order M*N and a value K, the task is to rotate each ring of the matrix anticlockwise by K elements. If in any ring elements are less than and equal K then don’t rotate it."
   ]
  },
  {
   "cell_type": "code",
   "execution_count": 5,
   "metadata": {},
   "outputs": [
    {
     "name": "stdout",
     "output_type": "stream",
     "text": [
      "[3, 4, 5, 6]\n",
      "[2, 11, 12, 7]\n",
      "[1, 10, 9, 8]\n"
     ]
    }
   ],
   "source": [
    "def rotateByk(arr,k,r,c):\n",
    "    n=len(arr)\n",
    "\n",
    "    count=k\n",
    "    while count>0:\n",
    "        # top=0\n",
    "        # bottom=n-1\n",
    "        # left=0\n",
    "        # right=n-1\n",
    "        top=0\n",
    "        bottom=r-1\n",
    "        left=0\n",
    "        right=c-1\n",
    "        if right-left+1>=k:\n",
    "            prev=arr[top+1][right]\n",
    "            #move elements from right to left for the top row\n",
    "            for i in range(right,left-1,-1):\n",
    "                curr=arr[top][i]\n",
    "                arr[top][i]=prev\n",
    "                prev=curr\n",
    "\n",
    "            top+=1\n",
    "            #move elements from top to bottom for the left column\n",
    "            for i in range(top,bottom+1):\n",
    "                curr=arr[i][left]\n",
    "                arr[i][left]=prev\n",
    "                prev=curr\n",
    "\n",
    "            left+=1\n",
    "\n",
    "            #move elements from left to right for the bottom row\n",
    "            for i in range(left,right+1):\n",
    "                curr=arr[bottom][i]\n",
    "                arr[bottom][i]=prev\n",
    "                prev=curr\n",
    "\n",
    "            bottom-=1\n",
    "            #move elements from bottome to top for the right column\n",
    "            for i in range(bottom,top-1,-1):\n",
    "                curr=arr[i][right]\n",
    "                arr[i][right]=prev\n",
    "                prev=curr\n",
    "\n",
    "            right-=1\n",
    "            count-=1\n",
    "        else:\n",
    "            break\n",
    "\n",
    "if __name__ == '__main__':\n",
    "    # arr=[[1,2,3,4],[5,6,7,8],[9,10,11,12],[13,14,15,16]]\n",
    "    arr=[[1,2,3,4],[10,11,12,5],[9,8,7,6]]\n",
    "    k=2\n",
    "    n=3;m=4\n",
    "    # n=4;m=4\n",
    "    rotateByk(arr,k,n,m)\n",
    "    for i in range(len(arr)):\n",
    "        print(arr[i])\n"
   ]
  },
  {
   "cell_type": "markdown",
   "metadata": {},
   "source": [
    "Time Complexity - k* O(m*n) and space complexity O(1)"
   ]
  },
  {
   "cell_type": "markdown",
   "metadata": {},
   "source": [
    "# Turn an image by 90 degree"
   ]
  },
  {
   "cell_type": "markdown",
   "metadata": {},
   "source": [
    "Given an image,turn it by 90 degrees? \n",
    "An image can be treated as 2D matrix which can be stored in a buffer\n",
    "Same as rotate matrix by 90 degree"
   ]
  },
  {
   "cell_type": "markdown",
   "metadata": {},
   "source": [
    "# A Program to check if strings are rotations of each other or not"
   ]
  },
  {
   "cell_type": "markdown",
   "metadata": {},
   "source": [
    "<pre>\n",
    " 1. Create a temp string and store concatenation of str1 to\n",
    "       str1 in temp.\n",
    "                          temp = str1.str1\n",
    " 2. If str2 is a substring of temp then str1 and str2 are \n",
    "       rotations of each other.\n",
    "\n",
    "    Example:                 \n",
    "                     str1 = \"ABACD\"\n",
    "                     str2 = \"CDABA\"\n",
    "\n",
    "     temp = str1.str1 = \"ABACDABACD\"\n",
    "     Since str2 is a substring of temp, str1 and str2 are \n",
    "     rotations of each other.\n",
    "</pre>"
   ]
  },
  {
   "cell_type": "code",
   "execution_count": 6,
   "metadata": {},
   "outputs": [
    {
     "name": "stdout",
     "output_type": "stream",
     "text": [
      "true\n"
     ]
    }
   ],
   "source": [
    "def isRotation(target,source):\n",
    "    if len(source)!=len(target):\n",
    "        print('false')\n",
    "        return\n",
    "    temp=source+source\n",
    "    if temp.count(target):\n",
    "        print('true')\n",
    "    else:\n",
    "        print('false')\n",
    "\n",
    "\n",
    "if __name__ == '__main__':\n",
    "    str1=\"ABACD\"\n",
    "    str2=\"CDABA\"\n",
    "    isRotation(str2,str1)\n"
   ]
  },
  {
   "cell_type": "markdown",
   "metadata": {},
   "source": [
    "Time Complexity: Time complexity of this problem depends on the implementation of strstr function.\n",
    "If implementation of strstr is done using KMP matcher then complexity of the above program is (-)(n1 + n2) where n1 and n2 are lengths of strings. KMP matcher takes (-)(n) time to find a substrng in a string of length n where length of substring is assumed to be smaller than the string."
   ]
  },
  {
   "cell_type": "markdown",
   "metadata": {},
   "source": [
    "# Check if all rows of a matrix are circular rotations of each other"
   ]
  },
  {
   "cell_type": "markdown",
   "metadata": {},
   "source": [
    "<pre>\n",
    "The idea is based on below article.\n",
    "A Program to check if strings are rotations of each other or not\n",
    "\n",
    "Steps :\n",
    "\n",
    "Create a string of first row elements and concatenate the string with itself so that string search operations can be efficiently performed. Let this string be str_cat.\n",
    "Traverse all remaining rows. For every row being traversed, create a string str_curr of current row elements. If str_curr is not a substring of str_cat, return false.\n",
    "Return true.\n",
    "</pre>"
   ]
  },
  {
   "cell_type": "code",
   "execution_count": 7,
   "metadata": {},
   "outputs": [
    {
     "name": "stdout",
     "output_type": "stream",
     "text": [
      "True\n"
     ]
    }
   ],
   "source": [
    "def isRotation(arr):\n",
    "    strObj=''\n",
    "    for i in range(len(arr)):\n",
    "        strObj+=str(arr[0][i])\n",
    "    strObj+=strObj\n",
    "    for i in range(1,len(arr)):\n",
    "        str_curr=''.join(map(str,arr[i]))\n",
    "        if strObj.find(str_curr)<0:\n",
    "            return False\n",
    "    return True\n",
    "\n",
    "if __name__ == '__main__':\n",
    "    arr=[[1,2,3],[3,1,2],[2,3,1]]\n",
    "    # arr=[[1,2,3],[3,2,1],[1,3,2]]\n",
    "    print(isRotation(arr))\n"
   ]
  },
  {
   "cell_type": "markdown",
   "metadata": {},
   "source": [
    "Time Complexity - O(n * n), n rows and kmp takes n time to match pattern"
   ]
  },
  {
   "cell_type": "markdown",
   "metadata": {},
   "source": [
    "# Sort the given matrix"
   ]
  },
  {
   "cell_type": "markdown",
   "metadata": {},
   "source": [
    "Given a n x n matrix. The problem is to sort the given matrix in strict order. Here strict order means that matrix is sorted in a way such that all elements in a row are sorted in increasing order and for row ‘i’, where 1 <= i <= n-1, first element of row 'i' is greater than or equal to the last element of row 'i-1'."
   ]
  },
  {
   "cell_type": "markdown",
   "metadata": {},
   "source": [
    "Approach: Create a temp[] array of size n^2. Starting with the first row one by one copy the elements of the given matrix into temp[]. Sort temp[]. Now one by one copy the elements of temp[] back to the given matrix."
   ]
  },
  {
   "cell_type": "code",
   "execution_count": 9,
   "metadata": {},
   "outputs": [
    {
     "name": "stdout",
     "output_type": "stream",
     "text": [
      "[[1, 2, 3], [4, 5, 6], [7, 8, 9]]\n"
     ]
    }
   ],
   "source": [
    "def sortMatrix(arr):\n",
    "    n=len(arr)\n",
    "    temp=[0]*(n*n)\n",
    "    k=0\n",
    "    for i in range(n):\n",
    "        for j in range(n):\n",
    "            temp[k]=arr[i][j]\n",
    "            k+=1\n",
    "    temp.sort()\n",
    "    k=0\n",
    "    for i in range(n):\n",
    "        for j in range(n):\n",
    "            arr[i][j]=temp[k]\n",
    "            k+=1\n",
    "\n",
    "if __name__ == '__main__':\n",
    "    arr=[[5, 4, 7],[1, 3, 8],[2, 9, 6]]\n",
    "    sortMatrix(arr)\n",
    "    print(arr)\n"
   ]
  },
  {
   "cell_type": "markdown",
   "metadata": {},
   "source": [
    "Time Complexity - O(n<sup>2</sup>logn)"
   ]
  },
  {
   "cell_type": "markdown",
   "metadata": {},
   "source": [
    "# Find the row with maximum number of 1s"
   ]
  },
  {
   "cell_type": "markdown",
   "metadata": {},
   "source": [
    "Given a boolean 2D array, where each row is sorted. Find the row with the maximum number of 1s."
   ]
  },
  {
   "cell_type": "markdown",
   "metadata": {},
   "source": [
    "A simple method is to do a row wise traversal of the matrix, count the number of 1s in each row and compare the count with max. Finally, return the index of row with maximum 1s. The time complexity of this method is O(m*n) where m is number of rows and n is number of columns in matrix."
   ]
  },
  {
   "cell_type": "markdown",
   "metadata": {},
   "source": [
    "Since each row is sorted, we can use Binary Search to count of 1s in each row. We find the index of first instance of 1 in each row. The count of 1s will be equal to total number of columns minus the index of first 1."
   ]
  },
  {
   "cell_type": "code",
   "execution_count": 1,
   "metadata": {},
   "outputs": [
    {
     "name": "stdout",
     "output_type": "stream",
     "text": [
      "2\n"
     ]
    }
   ],
   "source": [
    "def findCount(arr,low,high):\n",
    "    if low<=high:\n",
    "        mid=(low+high)//2\n",
    "        if (mid==0 or arr[mid-1]==0) and arr[mid]==1:\n",
    "            return mid\n",
    "        if arr[mid]==0:\n",
    "            return findCount(arr,mid+1,high)\n",
    "        return findCount(arr,low,mid-1)\n",
    "    return -1\n",
    "\n",
    "\n",
    "def getRowWithMax1(arr,n):\n",
    "    rowIndex=0\n",
    "    maxCount=float('-infinity')\n",
    "    for i in range(n):\n",
    "        index=findCount(arr[i],0,n-1)\n",
    "        # print(n-index,i)\n",
    "        if index!=-1 and n-index>maxCount:\n",
    "            # print(n-index,i)\n",
    "            maxCount=n-index\n",
    "            rowIndex=i\n",
    "    return rowIndex\n",
    "\n",
    "\n",
    "if __name__ == '__main__':\n",
    "    arr=[[0, 0, 0, 1], [0, 1, 1, 1], [1, 1, 1, 1], [0, 0, 0, 0]]\n",
    "    print(getRowWithMax1(arr,len(arr)))\n"
   ]
  },
  {
   "cell_type": "markdown",
   "metadata": {},
   "source": [
    "Time Complexity - O(mlogn), n is the number of elements in each row and m is the number of rows "
   ]
  },
  {
   "cell_type": "markdown",
   "metadata": {},
   "source": [
    "The above solution can be optimized further. Instead of doing binary search in every row, we first check whether the row has more 1s than max so far. If the row has more 1s, then only count 1s in the row. Also, to count 1s in a row, we don’t do binary search in complete row, we do search in before the index of last max"
   ]
  },
  {
   "cell_type": "code",
   "execution_count": 2,
   "metadata": {},
   "outputs": [
    {
     "name": "stdout",
     "output_type": "stream",
     "text": [
      "Running for row 1\n",
      "3 1\n",
      "Running for row 2\n",
      "4 2\n",
      "2\n"
     ]
    }
   ],
   "source": [
    "def findCount(arr,low,high):\n",
    "    if low<=high:\n",
    "        mid=(low+high)//2\n",
    "        if (mid==0 or arr[mid-1]==0) and arr[mid]==1:\n",
    "            return mid\n",
    "        if arr[mid]==0:\n",
    "            return findCount(arr,mid+1,high)\n",
    "        return findCount(arr,low,mid-1)\n",
    "    return -1\n",
    "\n",
    "\n",
    "def getRowWithMax1(arr,n):\n",
    "    rowIndex=0\n",
    "    index=findCount(arr[0],0,n-1)\n",
    "    if index!=-1:\n",
    "        maxCount=n-index\n",
    "    else:\n",
    "        maxCount=float('-infinity')\n",
    "    for i in range(1,n):\n",
    "        if index>0 and arr[i][index-1]==1:\n",
    "            index=findCount(arr[i],0,n-1)\n",
    "            if index!=-1 and n-index>maxCount:\n",
    "                print(f\"Running for row {i}\")\n",
    "                print(n-index,i)\n",
    "                maxCount=n-index\n",
    "                rowIndex=i\n",
    "    return rowIndex\n",
    "\n",
    "\n",
    "if __name__ == '__main__':\n",
    "    arr=[[0, 0, 0, 1], [0, 1, 1, 1], [1, 1, 1, 1], [0, 0, 0, 0]]\n",
    "    print(getRowWithMax1(arr,len(arr)))\n"
   ]
  },
  {
   "cell_type": "markdown",
   "metadata": {},
   "source": [
    "The worst case time complexity of the above optimized version is also O(mLogn), the will solution work better on average"
   ]
  },
  {
   "cell_type": "markdown",
   "metadata": {},
   "source": [
    "<pre>\n",
    "The worst case of the above solution occurs for a matrix like following.\n",
    "0 0 0 … 0 1\n",
    "0 0 0 ..0 1 1\n",
    "0 … 0 1 1 1\n",
    "….0 1 1 1 1\n",
    "</pre>"
   ]
  },
  {
   "cell_type": "markdown",
   "metadata": {},
   "source": [
    "<pre>\n",
    "<strong>Following method works in O(m+n) time complexity in worst case.</strong>\n",
    "\n",
    "Step1: Get the index of first (or leftmost) 1 in the first row.\n",
    "\n",
    "Step2: Do following for every row after the first row\n",
    "…IF the element on left of previous leftmost 1 is 0, ignore this row.\n",
    "…ELSE Move left until a 0 is found. Update the leftmost index to this index and max_row_index to be the current row.\n",
    "\n",
    "The time complexity is O(m+n) because we can possibly go as far left as we came ahead in the first step.\n",
    "</pre>"
   ]
  },
  {
   "cell_type": "code",
   "execution_count": 3,
   "metadata": {},
   "outputs": [
    {
     "name": "stdout",
     "output_type": "stream",
     "text": [
      "2\n"
     ]
    }
   ],
   "source": [
    "def findCount(arr,low,high):\n",
    "    if low<=high:\n",
    "        mid=(low+high)//2\n",
    "        if (mid==0 or arr[mid-1]==0) and arr[mid]==1:\n",
    "            return mid\n",
    "        if arr[mid]==0:\n",
    "            return findCount(arr,mid+1,high)\n",
    "        return findCount(arr,low,mid-1)\n",
    "    return -1\n",
    "\n",
    "\n",
    "def getRowWithMax1(arr,n):\n",
    "    rowIndex=0\n",
    "    index=findCount(arr[0],0,n-1)\n",
    "    if index==-1:\n",
    "        index=n-1\n",
    "    for i in range(1,n):\n",
    "        while index>=0 and arr[i][index]==1:\n",
    "            index-=1\n",
    "            rowIndex=i\n",
    "    return rowIndex\n",
    "\n",
    "\n",
    "if __name__ == '__main__':\n",
    "    arr=[[0, 0, 0, 1], [0, 1, 1, 1], [1, 1, 1, 1], [0, 0, 0, 0]]\n",
    "    print(getRowWithMax1(arr,len(arr)))\n"
   ]
  },
  {
   "cell_type": "markdown",
   "metadata": {},
   "source": [
    "# Find median in row wise sorted matrix"
   ]
  },
  {
   "cell_type": "markdown",
   "metadata": {},
   "source": [
    "We are given a row wise sorted matrix of size r*c, we need to find the median of the matrix given. It is assumed that r*c is always odd."
   ]
  },
  {
   "cell_type": "markdown",
   "metadata": {},
   "source": [
    "The simplest method to solve this problem is to store all the elements of the given matrix in an array of size r*c. Then we can either sort the array and find the median element in O(r*clog(r*c)) or we can use the approach discussed (find kth largest/smallest element as we will need to find n//2 element) to find the median in O(r*c). Auxiliary space required will be O(r*c) in both the cases."
   ]
  },
  {
   "cell_type": "markdown",
   "metadata": {},
   "source": [
    "<pre>\n",
    "An efficient approach for this problem is to use binary search algorithm. The idea is that for a number to be median there should be exactly (n/2) numbers which are less than this number. So, we try to find the count of numbers less than all the numbers. Below is the step by step algorithm for this approach:\n",
    "Algorithm:\n",
    "\n",
    "First we find the minimum and maximum elements in the matrix. Minimum element can be easily found by comparing the first element of each row, and similarly the maximum element can be found by comparing the last element of each row.\n",
    "Then we use binary search on our range of numbers from minimum to maximum, we find the mid of the min and max, and get count of numbers less than our mid. And accordingly change the min or max.\n",
    "For a number to be median, there should be (r*c)/2 numbers smaller than that number. So for every number, we get the count of numbers less than that by using upper_bound() in each row of matrix, if it is less than the required count, the median must be greater than the selected number, else the median must be less than or equal to the selected number.\n",
    "</pre>"
   ]
  },
  {
   "cell_type": "code",
   "execution_count": 4,
   "metadata": {},
   "outputs": [
    {
     "name": "stdout",
     "output_type": "stream",
     "text": [
      "Median is 5\n"
     ]
    }
   ],
   "source": [
    "from bisect import bisect_right as upper_bound \n",
    "  \n",
    "MAX = 100; \n",
    "  \n",
    "# Function to find median in the matrix \n",
    "def binaryMedian(m, r, d): \n",
    "    mi = m[0][0] \n",
    "    mx = 0\n",
    "    for i in range(r): \n",
    "        if m[i][0] < mi: \n",
    "            mi = m[i][0] \n",
    "        if m[i][d-1] > mx : \n",
    "            mx =  m[i][d-1] \n",
    "      \n",
    "    desired = (r * d + 1) // 2\n",
    "      \n",
    "    while (mi < mx): \n",
    "        mid = mi + (mx - mi) // 2\n",
    "        place = [0]; \n",
    "          \n",
    "        # Find count of elements smaller than mid \n",
    "        for i in range(r): \n",
    "             j = upper_bound(m[i], mid) \n",
    "             place[0] = place[0] + j \n",
    "        if place[0] < desired: \n",
    "            mi = mid + 1\n",
    "        else: \n",
    "            mx = mid \n",
    "    print (\"Median is\", mi) \n",
    "    return    \n",
    "      \n",
    "# Driver code \n",
    "r, d = 3, 3\n",
    "  \n",
    "m = [ [1, 3, 5], [2, 6, 9], [3, 6, 9]] \n",
    "binaryMedian(m, r, d)"
   ]
  },
  {
   "cell_type": "markdown",
   "metadata": {},
   "source": [
    "Time Complexity: O(32 * r * log(c)). The upper bound function will take log(c) time and is performed for each row. And since the numbers will be max of 32 bit, so binary search of numbers from min to max will be performed in at most 32 ( log2(2^32) = 32 ) operations.\n",
    "Auxiliary Space : O(1)"
   ]
  },
  {
   "cell_type": "markdown",
   "metadata": {},
   "source": [
    "Revise"
   ]
  },
  {
   "cell_type": "markdown",
   "metadata": {},
   "source": [
    "# Program to multiply two matrices"
   ]
  },
  {
   "cell_type": "code",
   "execution_count": 6,
   "metadata": {},
   "outputs": [
    {
     "name": "stdout",
     "output_type": "stream",
     "text": [
      "10 10 10 10 \n",
      "20 20 20 20 \n",
      "30 30 30 30 \n",
      "40 40 40 40 \n"
     ]
    }
   ],
   "source": [
    "def matrix_multiplication(M,N): \n",
    "\tR = [[0, 0, 0, 0], \n",
    "\t\t[0, 0, 0, 0], \n",
    "\t\t[0, 0, 0, 0], \n",
    "\t\t[0, 0, 0, 0]] \n",
    "\n",
    "\tfor i in range(0, 4): \n",
    "\t\tfor j in range(0, 4): \n",
    "\t\t\tfor k in range(0, 4): \n",
    "\t\t\t\tR[i][j] += M[i][k] * N[k][j] \n",
    "\n",
    "\tfor i in range(0,4): \n",
    "\t\tfor j in range(0,4): \n",
    "\t\t\tprint(R[i][j],end=\" \") \n",
    "\t\tprint(\"\\n\",end=\"\") \n",
    "\n",
    "\n",
    "M = [[1, 1, 1, 1], \n",
    "\t[2, 2, 2, 2], \n",
    "\t[3, 3, 3, 3], \n",
    "\t[4, 4, 4, 4]] \n",
    "\n",
    "N = [[1, 1, 1, 1], \n",
    "\t[2, 2, 2, 2], \n",
    "\t[3, 3, 3, 3], \n",
    "\t[4, 4, 4, 4]] \n",
    "\t\n",
    "\n",
    "matrix_multiplication(M,N) \n"
   ]
  },
  {
   "cell_type": "markdown",
   "metadata": {},
   "source": [
    "# scalar multiplication of a matrix"
   ]
  },
  {
   "cell_type": "markdown",
   "metadata": {},
   "source": [
    "The scalar multiplication of a number k(scalar), multiply it on every entry in the matrix. and a matrix A is the matrix kA."
   ]
  },
  {
   "cell_type": "markdown",
   "metadata": {},
   "source": [
    "Time complexity - O(r*c)"
   ]
  },
  {
   "cell_type": "markdown",
   "metadata": {},
   "source": [
    "# Print Lower triangular and Upper triangular matrix of an array"
   ]
  },
  {
   "cell_type": "markdown",
   "metadata": {},
   "source": [
    "<pre>\n",
    "Lower triangular matrix is a matrix which contain elements below principle diagonal including principle diagonal elements and rest of the elements are 0.\n",
    "\n",
    "Upper triangular matrix is a matrix which contain elements above principle diagonal including principle diagonal elements and rest of the elements are 0.\n",
    "</pre>"
   ]
  },
  {
   "cell_type": "markdown",
   "metadata": {},
   "source": [
    "<pre>\n",
    "For lower triangular matrix, we check the index position i and j i.e row and column respectively. If column position is greater than row position we simply make that position 0.\n",
    "\n",
    "For upper triangular matrix, we check the index position i and j i.e row and column respectively. If column position is smaller than row position we simply make that position 0.\n",
    "</pre>"
   ]
  },
  {
   "cell_type": "code",
   "execution_count": 2,
   "metadata": {},
   "outputs": [
    {
     "name": "stdout",
     "output_type": "stream",
     "text": [
      "1 0 0 \n",
      "4 5 0 \n",
      "7 8 9 \n",
      "\n",
      "1 2 3 \n",
      "0 5 6 \n",
      "0 0 9 \n"
     ]
    }
   ],
   "source": [
    "def printUpperTriangular(arr):\n",
    "    for i in range(len(arr)):\n",
    "        for j in range(len(arr)):\n",
    "            if i>j:\n",
    "                print(0,end=\" \")\n",
    "            else:\n",
    "                print(arr[i][j],end=\" \")\n",
    "        print()\n",
    "\n",
    "\n",
    "def printLowerTriangular(arr):\n",
    "    for i in range(len(arr)):\n",
    "        for j in range(len(arr)):\n",
    "            if j>i:\n",
    "                print(0,end=\" \")\n",
    "            else:\n",
    "                print(arr[i][j],end=\" \")\n",
    "        print()\n",
    "\n",
    "\n",
    "if __name__ == '__main__':\n",
    "    arr=[[1,2,3],[4,5,6],[7,8,9]]\n",
    "    printLowerTriangular(arr)\n",
    "    print()\n",
    "    printUpperTriangular(arr)\n"
   ]
  },
  {
   "cell_type": "markdown",
   "metadata": {},
   "source": [
    "# Find distinct elements common to all rows of a matrix"
   ]
  },
  {
   "cell_type": "markdown",
   "metadata": {},
   "source": [
    "The problem is to find all the distinct elements common to all rows of the matrix. The elements can be printed in any order."
   ]
  },
  {
   "cell_type": "markdown",
   "metadata": {},
   "source": [
    "Sort all the rows of the matrix individually in increasing order. (modified appraoch as find-common-elements-three-sorted-arrays)"
   ]
  },
  {
   "cell_type": "code",
   "execution_count": 4,
   "metadata": {},
   "outputs": [
    {
     "name": "stdout",
     "output_type": "stream",
     "text": [
      "1 3 14 "
     ]
    }
   ],
   "source": [
    "def getCommonElements(arr,n):\n",
    "    #sort the matrix\n",
    "    for i in range(n):\n",
    "        arr[i].sort()\n",
    "\n",
    "    curr_index=[0]*n\n",
    "    f=0\n",
    "    while curr_index[0]<n:\n",
    "        #loop to run for every element of first row\n",
    "        value=arr[0][curr_index[0]]\n",
    "        present=True\n",
    "\n",
    "        #loop through each row and check if the lement exists\n",
    "        for i in range(1,n):\n",
    "            while curr_index[i]<n and arr[i][curr_index[i]]<=value:\n",
    "                curr_index[i]+=1\n",
    "\n",
    "            if (curr_index==0 or arr[i][curr_index[i]-1]!=value):\n",
    "                #if element does not exist\n",
    "                present=False\n",
    "\n",
    "            if curr_index[i]==n:\n",
    "                #if in a particular row all the elements are traversed, then no further common elements could be found\n",
    "                f=1\n",
    "\n",
    "        if present:\n",
    "            print(value,end=\" \")\n",
    "        if f==1:\n",
    "            # if flag is set no need to check for other elements\n",
    "            break\n",
    "        #check for next element\n",
    "        curr_index[0]+=1\n",
    "\n",
    "if __name__ == '__main__':\n",
    "    # arr=[[2,1,4,3],[1,2,3,2],[3,6,2,3],[5,2,5,3]]\n",
    "    arr=[[12, 1, 14, 3, 16], [14, 2, 1, 3, 35], [14, 1, 14, 3, 11], [14, 25, 3, 2, 1], [1, 18, 3, 21, 14]] \n",
    "    getCommonElements(arr,len(arr))\n"
   ]
  },
  {
   "cell_type": "markdown",
   "metadata": {},
   "source": [
    "Time Complexity: O(n2log n), each row of size n requires O(nlogn) for sorting and there are total n rows.\n",
    "Auxiliary Space: O(n) to store current column indexes for each row."
   ]
  },
  {
   "cell_type": "markdown",
   "metadata": {},
   "source": [
    "<pre>\n",
    "Another Approach-> Hashing.\n",
    "\n",
    "Map the element of 1st row in a hash table. Let it be hash.\n",
    "Fow row = 2 to n\n",
    "Map each element of the current row into a temporary hash table. Let it be temp.\n",
    "Iterate through the elements of hash and check that the elements in hash are present in temp. If not present then delete those elements from hash.\n",
    "When all the rows are being processed in this manner, then the elements left in hash are the required common elements.\n",
    "</pre>"
   ]
  },
  {
   "cell_type": "code",
   "execution_count": 5,
   "metadata": {},
   "outputs": [
    {
     "name": "stdout",
     "output_type": "stream",
     "text": [
      "1 14 3 "
     ]
    }
   ],
   "source": [
    "def getCommonElements(arr,n):\n",
    "    hash={}\n",
    "    for i in range(n):\n",
    "        hash[arr[0][i]]=True\n",
    "    for i in range(1,n):\n",
    "        temp={}\n",
    "        for j in range(n):\n",
    "            temp[arr[i][j]]=True\n",
    "        for i in list(hash):#cannot direclty use hash here because the size will change during iteration\n",
    "            if i not in temp:\n",
    "                del hash[i]\n",
    "        if len(hash)==0:\n",
    "            break\n",
    "    for i in hash:\n",
    "        print(i,end=\" \")\n",
    "\n",
    "\n",
    "if __name__ == '__main__':\n",
    "    # arr=[[2,1,4,3],[1,2,3,2],[3,6,2,3],[5,2,5,3]]\n",
    "    arr=[[12, 1, 14, 3, 16], [14, 2, 1, 3, 35], [14, 1, 14, 3, 11], [14, 25, 3, 2, 1], [1, 18, 3, 21, 14]]\n",
    "    getCommonElements(arr,len(arr))\n"
   ]
  },
  {
   "cell_type": "markdown",
   "metadata": {},
   "source": [
    "Time Complexity -> O(n*n) and Space Complexity ->O(n)"
   ]
  },
  {
   "cell_type": "markdown",
   "metadata": {},
   "source": [
    "# Print a given matrix in spiral form"
   ]
  },
  {
   "cell_type": "markdown",
   "metadata": {},
   "source": [
    "4 pointer approach which was used when rotating the matrix "
   ]
  },
  {
   "cell_type": "code",
   "execution_count": 6,
   "metadata": {},
   "outputs": [
    {
     "name": "stdout",
     "output_type": "stream",
     "text": [
      "1 2 3 4 8 12 16 15 14 13 9 5 6 7 11 10 "
     ]
    }
   ],
   "source": [
    "def printSpiral(arr,n):\n",
    "    top=0\n",
    "    bottom=n-1\n",
    "    left=0\n",
    "    right=n-1\n",
    "    while top<bottom and left<right:\n",
    "        for i in range(left,right+1):\n",
    "            print(arr[top][i],end=\" \")\n",
    "        top+=1\n",
    "\n",
    "        for i in range(top,bottom+1):\n",
    "            print(arr[i][right],end=\" \")\n",
    "        right-=1\n",
    "\n",
    "        for i in range(right,left-1,-1):\n",
    "            print(arr[bottom][i],end=\" \")\n",
    "        bottom-=1\n",
    "\n",
    "        for i in range(bottom,top-1,-1):\n",
    "            print(arr[i][left],end=\" \")\n",
    "        left+=1\n",
    "\n",
    "\n",
    "if __name__ == '__main__':\n",
    "    arr=[[1,2,3,4],[5,6,7,8],[9,10,11,12],[13,14,15,16]]\n",
    "    printSpiral(arr,len(arr))\n",
    "    \n"
   ]
  },
  {
   "cell_type": "markdown",
   "metadata": {},
   "source": [
    "Time Complexity - O(m*n) and space complexity -O(1)"
   ]
  },
  {
   "cell_type": "markdown",
   "metadata": {},
   "source": [
    "Recursive to do"
   ]
  },
  {
   "cell_type": "markdown",
   "metadata": {},
   "source": [
    "# Find maximum element of each row in a matrix"
   ]
  },
  {
   "cell_type": "markdown",
   "metadata": {},
   "source": [
    "<pre>\n",
    "Approach 1-> For all the rows in a matrix, find the max element O(n* m)\n",
    "\n",
    "Approach 2-> For all the rows in a matrix, create a max heap for each row, and print the root (n * m), m times to create a heap\n",
    "</pre>"
   ]
  },
  {
   "cell_type": "markdown",
   "metadata": {},
   "source": [
    "# Find unique elements in a matrix"
   ]
  },
  {
   "cell_type": "markdown",
   "metadata": {},
   "source": [
    "Given a matrix mat[][] having n rows and m columns. We need to find unique elements in matrix i.e, those elements which are not repeated in the matrix or those elements whose frequency is 1."
   ]
  },
  {
   "cell_type": "markdown",
   "metadata": {},
   "source": [
    "<strong>Concept - HASHING</strong>\n",
    "Use a dictionary, traverse through the elements, and store the count of each in the dictionary. At the end, print the elements as result which have frequency as 1"
   ]
  },
  {
   "cell_type": "markdown",
   "metadata": {},
   "source": [
    "Time Complexity - O(m* n) an space complexity - O(m * n), in worst case"
   ]
  },
  {
   "cell_type": "markdown",
   "metadata": {},
   "source": [
    "# Shift matrix elements row-wise by k"
   ]
  },
  {
   "cell_type": "markdown",
   "metadata": {},
   "source": [
    "Given a square matrix mat[][] and a number k. The task is to shift first k elements of each row in the right of the matrix."
   ]
  },
  {
   "cell_type": "markdown",
   "metadata": {},
   "source": [
    "Rotation count can br given by number of columns - k, so each row can be rotated by this rotation count with any of the rotation algorithm"
   ]
  },
  {
   "cell_type": "markdown",
   "metadata": {},
   "source": [
    "# Determinant. adjoint, inverse of a matrix - to do (20)"
   ]
  },
  {
   "cell_type": "markdown",
   "metadata": {},
   "source": [
    "# Print a given matrix in counter-clock wise spiral form"
   ]
  },
  {
   "cell_type": "markdown",
   "metadata": {},
   "source": [
    "Similar approach as that of clock wise direction, instead, print left column, top to bottom; bottom row, left to right; right column, bottom to top; top row, right to left;; and repeat this for the other square cycles"
   ]
  },
  {
   "cell_type": "markdown",
   "metadata": {},
   "source": [
    "Time complexity - O(mn), and space complexity - O(1)"
   ]
  },
  {
   "cell_type": "markdown",
   "metadata": {},
   "source": [
    "# Swap major and minor diagonals of a square matrix"
   ]
  },
  {
   "cell_type": "markdown",
   "metadata": {},
   "source": [
    "<pre>\n",
    "Major Diagonal Elements of a Matrix :\n",
    "The Major Diagonal Elements are the ones that occur from Top Left of Matrix Down To Bottom Right Corner. The Major Diagonal is also known as Main Diagonal or Primary Diagonal.\n",
    "\n",
    "Minor Diagonal Elements of a Matrix :\n",
    "The Minor Diagonal Elements are the ones that occur from Top Right of Matrix Down To Bottom Left Corner. Also known as Secondary Diagonal.\n",
    "</pre>"
   ]
  },
  {
   "cell_type": "code",
   "execution_count": 7,
   "metadata": {},
   "outputs": [
    {
     "name": "stdout",
     "output_type": "stream",
     "text": [
      "[4, 2, 3, 1]\n",
      "[5, 7, 6, 8]\n",
      "[9, 11, 10, 12]\n",
      "[16, 14, 15, 13]\n"
     ]
    }
   ],
   "source": [
    "def swapMajorMinor(arr,n):\n",
    "    for i in range(n):\n",
    "        arr[i][i],arr[i][n-i-1]=arr[i][n-i-1],arr[i][i]\n",
    "    for i in range(n):\n",
    "        print(arr[i])\n",
    "\n",
    "if __name__ == '__main__':\n",
    "    # arr=[[0,1,2],[3,4,5],[6,7,8]]\n",
    "    arr=[[1,2,3,4],[5,6,7,8],[9,10,11,12],[13,14,15,16]]\n",
    "    swapMajorMinor(arr,len(arr))\n"
   ]
  },
  {
   "cell_type": "markdown",
   "metadata": {},
   "source": [
    "Time Complexity - O(n* n) Space Complexity - O(1)"
   ]
  },
  {
   "cell_type": "markdown",
   "metadata": {},
   "source": [
    "# Maximum path sum in matrix"
   ]
  },
  {
   "cell_type": "markdown",
   "metadata": {},
   "source": [
    "Given a matrix of N * M. Find the maximum path sum in matrix. The maximum path is sum of all elements from first row to last row where you are allowed to move only down or diagonally to left or right. You can start from any element in first row."
   ]
  },
  {
   "cell_type": "code",
   "execution_count": 8,
   "metadata": {},
   "outputs": [
    {
     "name": "stdout",
     "output_type": "stream",
     "text": [
      "74\n"
     ]
    }
   ],
   "source": [
    "def maxPathSum(arr,row,col):\n",
    "    result=0\n",
    "    maxNum=float('-infinity')\n",
    "    r=0;c=0\n",
    "    for i in range(col):\n",
    "        if arr[0][i]>maxNum:\n",
    "            maxNum=arr[0][i]\n",
    "            # c=i\n",
    "    result+=maxNum\n",
    "\n",
    "    for i in range(1,row):\n",
    "        res=float('-infinity');\n",
    "        for j in range(col):\n",
    "            if j>0 and j<col-1:\n",
    "                arr[i][j]+=max(arr[i-1][j-1],arr[i-1][j],arr[i-1][j+1])\n",
    "            elif j>0:\n",
    "                arr[i][j]+=max(arr[i-1][j-1],arr[i-1][j])\n",
    "            else:\n",
    "                arr[i][j]+=max(arr[i-1][j],arr[i-1][j+1])\n",
    "            res=max(arr[i][j],res)\n",
    "    print(res)\n",
    "\n",
    "    # for i in range(1,row):\n",
    "    #     if c-1>0:\n",
    "    #         left=arr[i][c-1]\n",
    "    #     else:\n",
    "    #         left=0\n",
    "    #     down=arr[i][c]\n",
    "    #     if c+1<col:\n",
    "    #         right=arr[i][c+1]\n",
    "    #     else:\n",
    "    #         right=0\n",
    "    #     maxNum=max(left,right,down)\n",
    "    #     result+=maxNum\n",
    "    #     if maxNum==left:\n",
    "    #         c=c-1\n",
    "    #     elif maxNum==right:\n",
    "    #         c=c+1\n",
    "    # print(result)\n",
    "\n",
    "\n",
    "if __name__ == '__main__':\n",
    "    arr=[[10, 10, 2, 0, 20, 4 ],[1, 0, 0, 30, 2, 5],[0, 10, 4, 0, 2, 0],[1, 0, 2, 20, 0, 4]]\n",
    "    row=4\n",
    "    col=6\n",
    "    maxPathSum(arr,row,col)\n"
   ]
  },
  {
   "cell_type": "markdown",
   "metadata": {},
   "source": [
    "Time Complexity - O(m* n)"
   ]
  },
  {
   "cell_type": "markdown",
   "metadata": {},
   "source": [
    "# Squares of Matrix Diagonal Elements"
   ]
  },
  {
   "cell_type": "markdown",
   "metadata": {},
   "source": [
    "You have given an integer matrix with odd dimensions. Find the square of the diagonals elements on both sides."
   ]
  },
  {
   "cell_type": "code",
   "execution_count": 9,
   "metadata": {},
   "outputs": [
    {
     "name": "stdout",
     "output_type": "stream",
     "text": [
      "1 25 81\n",
      "9 25 49\n"
     ]
    }
   ],
   "source": [
    "from math import pow\n",
    "\n",
    "def squareDiagonal(arr,n):\n",
    "    diagonalOne=[]\n",
    "    diagonalTwo=[]\n",
    "    for i in range(n):\n",
    "        diagonalOne.append(int(pow(arr[i][i],2)))\n",
    "        diagonalTwo.append(int(pow(arr[i][n-i-1],2)))\n",
    "    print(\" \".join(map(str,diagonalOne)))\n",
    "    print(\" \".join(map(str,diagonalTwo)))\n",
    "\n",
    "if __name__ == '__main__':\n",
    "    arr=[[1,2,3],[4,5,6],[7,8,9]]\n",
    "    squareDiagonal(arr,len(arr))\n"
   ]
  },
  {
   "cell_type": "markdown",
   "metadata": {},
   "source": [
    "Time Complexity - O(row) =~ O(n)"
   ]
  },
  {
   "cell_type": "markdown",
   "metadata": {},
   "source": [
    "# Move matrix elements in given direction and add elements with same value\n",
    "to do"
   ]
  },
  {
   "cell_type": "markdown",
   "metadata": {},
   "source": [
    "# Sorting rows of matrix in ascending order followed by columns in descending order"
   ]
  },
  {
   "cell_type": "code",
   "execution_count": 1,
   "metadata": {},
   "outputs": [
    {
     "name": "stdout",
     "output_type": "stream",
     "text": [
      "[7, 8, 9]\n",
      "[4, 5, 6]\n",
      "[1, 2, 3]\n"
     ]
    }
   ],
   "source": [
    "def sortRows(arr,n):\n",
    "    for i in range(n):\n",
    "        arr[i].sort()\n",
    "\n",
    "def reverseColumns(arr,n):\n",
    "    for i in range(n//2):\n",
    "        for j in range(n):\n",
    "            arr[i][j],arr[n-i-1][j]=arr[n-i-1][j],arr[i][j]\n",
    "\n",
    "def sortRowCol(arr):\n",
    "    n=len(arr)\n",
    "    sortRows(arr,n)\n",
    "    reverseColumns(arr,n)\n",
    "    for i in range(n):\n",
    "        print(arr[i])\n",
    "\n",
    "if __name__ == '__main__':\n",
    "    arr=[[1,2,3],[4,5,6],[7,8,9]]\n",
    "    sortRowCol(arr)\n"
   ]
  },
  {
   "cell_type": "markdown",
   "metadata": {},
   "source": [
    "<pre>\n",
    "Approach1 -> Strict sort the matrix and reverse the columns [incorrect approach], follow below approach\n",
    "\n",
    "Approach2 -> Sort the rows in ascending order, tranpose the matrix, sort the rows in descending order, and again find the transpose\n",
    "</pre>"
   ]
  },
  {
   "cell_type": "markdown",
   "metadata": {},
   "source": [
    "Time Complexity - O(n * n) or row* column"
   ]
  },
  {
   "cell_type": "markdown",
   "metadata": {},
   "source": [
    "# Sum of middle row and column in Matrix"
   ]
  },
  {
   "cell_type": "markdown",
   "metadata": {},
   "source": [
    "Given a integer matrix of odd dimensions (3 * 3, 5 * 5). then the task is to find the sum of the middle row & column elements (separately)"
   ]
  },
  {
   "cell_type": "markdown",
   "metadata": {},
   "source": [
    "Loop through n , arr[i][n//2] will give the middle column elements, arr[n//2][i] will give middle row elements "
   ]
  },
  {
   "cell_type": "markdown",
   "metadata": {},
   "source": [
    "Time Complexity - O(n)"
   ]
  },
  {
   "cell_type": "markdown",
   "metadata": {},
   "source": [
    "# Row-wise vs column-wise traversal of matrix"
   ]
  },
  {
   "cell_type": "markdown",
   "metadata": {},
   "source": [
    "Two common ways of traversing a matrix are row-major-order and column-major-order.\n",
    "Row Major Order : When matrix is accessed row by row.\n",
    "Column Major Order : When matrix is accessed column by column."
   ]
  },
  {
   "cell_type": "markdown",
   "metadata": {},
   "source": [
    "Difference: If we see according to time complexity, both lead to O(n2), but when it comes to cache level one of the orders access will be faster as compare to other one. It depends on the language we are using. Like in C, store matrix in row major form so while accessing the i+1th element after ith, most probably it will lead to a hit, which will further reduce the time of program."
   ]
  },
  {
   "cell_type": "markdown",
   "metadata": {},
   "source": [
    "# Rotate the matrix right by K times"
   ]
  },
  {
   "cell_type": "code",
   "execution_count": 2,
   "metadata": {},
   "outputs": [
    {
     "name": "stdout",
     "output_type": "stream",
     "text": [
      "[23, 34, 12]\n",
      "[56, 67, 45]\n",
      "[89, 91, 78]\n"
     ]
    }
   ],
   "source": [
    "def displayMatrix(arr,n,m):\n",
    "    for i in range(n):\n",
    "        print(arr[i])\n",
    "\n",
    "def rotateRight(arr,n,m,k):\n",
    "\n",
    "    # to rotate within the size of the matrix\n",
    "    k=k%m\n",
    "\n",
    "    # temprary array to store the m-k elements\n",
    "    temp=[0]*(m-k)\n",
    "    # rotating row wise\n",
    "    # print(k,m-k)\n",
    "    for i in range(n):\n",
    "        # store first m-k elements which will come at the end in the array\n",
    "        for t in range(m-k):\n",
    "            temp[t]=arr[i][t]\n",
    "\n",
    "        # now move the rest elements to the start\n",
    "        for j in range(m-k,m):\n",
    "            arr[i][j-(m-k)]=arr[i][j]\n",
    "\n",
    "        # move the temporary array elements to the end\n",
    "        for j in range(k,m):\n",
    "            arr[i][j]=temp[j-k]\n",
    "\n",
    "if __name__ == '__main__':\n",
    "    arr=[[12,23,34],[45,56,67],[78,89,91]]\n",
    "    n=3\n",
    "    m=3\n",
    "    k=5\n",
    "    rotateRight(arr,n,m,k)\n",
    "    displayMatrix(arr,n,m)\n"
   ]
  },
  {
   "cell_type": "markdown",
   "metadata": {},
   "source": [
    "Time Complexity - O(m * n)"
   ]
  },
  {
   "cell_type": "markdown",
   "metadata": {},
   "source": [
    "# Program to check idempotent matrix"
   ]
  },
  {
   "cell_type": "markdown",
   "metadata": {},
   "source": [
    "Given a N * N matrix and the task is to check matrix is idempotent matrix or not.\n",
    "\n",
    "Idempotent matrix: A matrix is said to be idempotent matrix if matrix multiplied by itself return the same matrix. The matrix M is said to be idempotent matrix if and only if M * M = M. In idempotent matrix M is a square matrix."
   ]
  },
  {
   "cell_type": "markdown",
   "metadata": {},
   "source": [
    "Approach -> Multiply the matrix with itseflf and compare them"
   ]
  },
  {
   "cell_type": "markdown",
   "metadata": {},
   "source": [
    "# Program to check Involutory Matrix"
   ]
  },
  {
   "cell_type": "markdown",
   "metadata": {},
   "source": [
    "<pre>\n",
    "Given a matrix and the task is to check matrix is involutory matrix or not.\n",
    "\n",
    "Involutory Matrix: A matrix is said to be involutory matrix if matrix multiply by itself return the identity matrix. Involutory matrix is the matrix that is its own inverse. The matrix A is said to be involutory matrix if A * A = I. Where I is the identity matrix.\n",
    "</pre>"
   ]
  },
  {
   "cell_type": "markdown",
   "metadata": {},
   "source": [
    "Approach-> Multiply a matrix with itself and check if the diagonal matrix are 1 and rest all elements are 0"
   ]
  },
  {
   "cell_type": "markdown",
   "metadata": {},
   "source": [
    "Time Complexity - same as multipying of a matrix"
   ]
  },
  {
   "cell_type": "markdown",
   "metadata": {},
   "source": [
    "# Interchange elements of first and last rows in matrix"
   ]
  },
  {
   "cell_type": "markdown",
   "metadata": {},
   "source": [
    "Given a 4 x 4 matrix, we have to interchange the elements of first and last row and show the resulting matrix."
   ]
  },
  {
   "cell_type": "code",
   "execution_count": 1,
   "metadata": {},
   "outputs": [
    {
     "name": "stdout",
     "output_type": "stream",
     "text": [
      "[9, 9, 7, 7]\n",
      "[4, 7, 6, 5]\n",
      "[3, 2, 1, 8]\n",
      "[8, 9, 7, 6]\n"
     ]
    }
   ],
   "source": [
    "def interchangeLast(arr,n):\n",
    "    for i in range(n):\n",
    "        arr[0][i],arr[n-1][i]=arr[n-1][i],arr[0][i]\n",
    "    for i in range(n):\n",
    "        print(arr[i])\n",
    "\n",
    "if __name__ == '__main__':\n",
    "    arr=[[8, 9, 7, 6],[4, 7, 6, 5],[3, 2, 1, 8],[9, 9, 7, 7]]\n",
    "    interchangeLast(arr,len(arr))\n"
   ]
  },
  {
   "cell_type": "markdown",
   "metadata": {},
   "source": [
    "Time Complexity - O(n)"
   ]
  },
  {
   "cell_type": "markdown",
   "metadata": {},
   "source": [
    "# Print matrix in zag-zag fashion"
   ]
  },
  {
   "cell_type": "markdown",
   "metadata": {},
   "source": [
    "<strong>Concept - Parity Sum</strong>"
   ]
  },
  {
   "cell_type": "markdown",
   "metadata": {},
   "source": [
    "This approach is simple. While travelling the matrix in the usual fashion, on basis of parity of the sum of the indices of the element, add that particular element to the list either at the beginning or at the end if sum of i and j is either even or odd respectively. Print the solution list as it is."
   ]
  },
  {
   "cell_type": "code",
   "execution_count": 2,
   "metadata": {},
   "outputs": [
    {
     "name": "stdout",
     "output_type": "stream",
     "text": [
      "1 2 5 9 6 3 4 7 10 13 14 11 8 12 15 16 "
     ]
    }
   ],
   "source": [
    "def printZigZag(arr,row,col):\n",
    "    solution=[[] for i in range(row+col-1)]\n",
    "    for i in range(row):\n",
    "        for j in range(col):\n",
    "            sum=i+j\n",
    "            if sum%2==0:\n",
    "                solution[sum].insert(0,arr[i][j])\n",
    "            else:\n",
    "                solution[sum].append(arr[i][j])\n",
    "    for i in range(len(solution)):\n",
    "        print(\" \".join(map(str,solution[i])),end=\" \")\n",
    "if __name__ == '__main__':\n",
    "    arr=[[1,2,3,4],[5,6,7,8],[9,10,11,12],[13,14,15,16]]\n",
    "    row=4\n",
    "    col=4\n",
    "    printZigZag(arr,row,col)\n"
   ]
  },
  {
   "cell_type": "markdown",
   "metadata": {},
   "source": [
    "Time Complexity - O(row* column)"
   ]
  },
  {
   "cell_type": "markdown",
   "metadata": {},
   "source": [
    "# Row wise sorting in 2D array"
   ]
  },
  {
   "cell_type": "markdown",
   "metadata": {},
   "source": [
    "Approach-> For every row, use arr.sort(heap sort), Time Complexity- O(m* nlogn)"
   ]
  },
  {
   "cell_type": "markdown",
   "metadata": {},
   "source": [
    "# Program for Markov matrix"
   ]
  },
  {
   "cell_type": "markdown",
   "metadata": {},
   "source": [
    "<strong>Markov Matrix : The matrix in which the sum of each row is equal to 1.</strong>"
   ]
  },
  {
   "cell_type": "markdown",
   "metadata": {},
   "source": [
    "Approach-> For each row, calculate the sum, if the sum is not 1 return false, else after the complete traversal return true"
   ]
  },
  {
   "cell_type": "markdown",
   "metadata": {},
   "source": [
    "Time Complexity-> O(m* n)"
   ]
  },
  {
   "cell_type": "markdown",
   "metadata": {},
   "source": [
    "# Program to check diagonal matrix and scalar matrix"
   ]
  },
  {
   "cell_type": "markdown",
   "metadata": {},
   "source": [
    "<strong>A square matrix is said to be diagonal matrix if the elements of matrix except main diagonal are zero</strong>"
   ]
  },
  {
   "cell_type": "markdown",
   "metadata": {},
   "source": [
    "<strong>A square matrix, in which all diagonal elements are equal to same scalar and all other elements are zero, is called a scalar matrix.</strong>"
   ]
  },
  {
   "cell_type": "code",
   "execution_count": 2,
   "metadata": {},
   "outputs": [
    {
     "name": "stdout",
     "output_type": "stream",
     "text": [
      "Diagonal and Scalar\n"
     ]
    }
   ],
   "source": [
    "def checkDiagonalScalarMatrix(arr):\n",
    "    scalar=True\n",
    "    # diagonal=True\n",
    "    for i in range(len(arr)):\n",
    "        for j in range(len(arr)):\n",
    "            if i==j:\n",
    "                if arr[i][j]==0:\n",
    "                    return False\n",
    "                if i>1 and j>1:\n",
    "                    if scalar:\n",
    "                        if arr[i-1][j-1]!=arr[i][j]:\n",
    "                            scalar=False\n",
    "            else:\n",
    "                if arr[i][j]!=0:\n",
    "                    return False\n",
    "    return (True,scalar)\n",
    "\n",
    "\n",
    "if __name__ == '__main__':\n",
    "    arr=[[6, 0, 0, 0],[0, 6, 0, 0],[0, 0, 6, 0],[0, 0, 0, 6]]\n",
    "    result=checkDiagonalScalarMatrix(arr)\n",
    "    if not result:\n",
    "        print(\"Neither Diagonal nor Scalar\")\n",
    "    elif result[0]==True and result[1]==False:\n",
    "        print(\"Diagonal but not Scalar\")\n",
    "    else:\n",
    "        print(\"Diagonal and Scalar\")\n"
   ]
  },
  {
   "cell_type": "markdown",
   "metadata": {},
   "source": [
    "# Sort the matrix row-wise and column-wise"
   ]
  },
  {
   "cell_type": "markdown",
   "metadata": {},
   "source": [
    "<pre>\n",
    "<strong>Approach:</strong> Following are the steps:\n",
    "\n",
    "Sort each row of the matrix. [for row sort]\n",
    "Get transpose of the matrix.\n",
    "Again sort each row of the matrix.(Ascending) [for column sort]\n",
    "Again get transpose of the matrix.\n",
    "</pre>"
   ]
  },
  {
   "cell_type": "markdown",
   "metadata": {},
   "source": [
    "# Find the number of islands"
   ]
  },
  {
   "cell_type": "markdown",
   "metadata": {},
   "source": [
    "Given a boolean 2D matrix, find the number of islands. A group of connected 1s forms an island."
   ]
  },
  {
   "cell_type": "markdown",
   "metadata": {},
   "source": [
    "This problem is a variation of the standard problem: “Counting the number of connected components in an undirected graph”."
   ]
  },
  {
   "cell_type": "markdown",
   "metadata": {},
   "source": [
    "<strong>Connected Components in an undirected graph<strong>"
   ]
  },
  {
   "cell_type": "code",
   "execution_count": 2,
   "metadata": {},
   "outputs": [
    {
     "name": "stdout",
     "output_type": "stream",
     "text": [
      "2\n"
     ]
    }
   ],
   "source": [
    "from collections import defaultdict\n",
    "\n",
    "class Graph:\n",
    "    def __init__(self,v):\n",
    "        self.v=v\n",
    "        self.graph=defaultdict(list)\n",
    "\n",
    "    def addEdge(self,u,v):\n",
    "        self.graph[u].append(v)\n",
    "        self.graph[v].append(u)\n",
    "\n",
    "    def DFSUtil(self,v,visited):\n",
    "        visited[v]=True\n",
    "        # print(v,end=\" \")\n",
    "        for i in self.graph[v]:\n",
    "            if visited[i]==False:\n",
    "                self.DFSUtil(i,visited)\n",
    "\n",
    "\n",
    "    def findConnectedComponents(self):\n",
    "        self.visited=[False]*self.v\n",
    "        self.count=0\n",
    "        for i in range(self.v):\n",
    "            if self.visited[i]==False:\n",
    "                self.count+=1\n",
    "                self.DFSUtil(i,self.visited)\n",
    "                # print('')\n",
    "        return self.count\n",
    "\n",
    "if __name__ == '__main__':\n",
    "    g=Graph(5)\n",
    "    g.addEdge(1,0)\n",
    "    g.addEdge(2,3)\n",
    "    g.addEdge(3,4)\n",
    "    result=g.findConnectedComponents()\n",
    "    print(result)\n"
   ]
  },
  {
   "cell_type": "markdown",
   "metadata": {},
   "source": [
    "A graph where all vertices are connected with each other has exactly one connected component, consisting of the whole graph. Such a graph with only one connected component is called a Strongly Connected Graph."
   ]
  },
  {
   "cell_type": "markdown",
   "metadata": {},
   "source": [
    "The problem can be easily solved by applying DFS() on each component. In each DFS() call, a component or a sub-graph is visited. We will call DFS on the next un-visited component. The number of calls to DFS() gives the number of connected components."
   ]
  },
  {
   "cell_type": "markdown",
   "metadata": {},
   "source": [
    "A cell in 2D matrix can be connected to 8 neighbours. So, unlike standard DFS(), where we recursively call for all adjacent vertices, here we can recursively call for 8 neighbours only. We keep track of the visited 1s so that they are not visited again."
   ]
  },
  {
   "cell_type": "code",
   "execution_count": 3,
   "metadata": {},
   "outputs": [
    {
     "name": "stdout",
     "output_type": "stream",
     "text": [
      "4\n"
     ]
    }
   ],
   "source": [
    "from collections import defaultdict\n",
    "\n",
    "class Islands:\n",
    "\n",
    "    def isSafe(self,arr,r,c,visited,row,col):\n",
    "        return r>=0 and r<row and c>=0 and c<col and (arr[r][c]==1 and visited[r][c]==False)\n",
    "\n",
    "\n",
    "    def findIslandsUtil(self,arr,i,j,visited,row,col):\n",
    "\n",
    "        visited[i][j]=True\n",
    "        possRow=[-1,-1,-1,0,0,1,1,1]\n",
    "        possCol=[-1,0,1,-1,1,-1,0,1]\n",
    "\n",
    "        for k in range(8):\n",
    "            if self.isSafe(arr,i+possRow[k],j+possCol[k],visited,row,col):\n",
    "                self.findIslandsUtil(arr,i+possRow[k],j+possCol[k],visited,row,col)\n",
    "\n",
    "    def findIslands(self,arr,row,col):\n",
    "        self.visited=[[False for j in range(col)] for i in range(row)]\n",
    "        self.count=0\n",
    "        for i in range(row):\n",
    "            for j in range(col):\n",
    "                if (arr[i][j]==1 and self.visited[i][j]==False):\n",
    "                    self.findIslandsUtil(arr,i,j,self.visited,row,col)\n",
    "                    self.count+=1\n",
    "        return self.count\n",
    "\n",
    "\n",
    "\n",
    "if __name__ == '__main__':\n",
    "    # arr=[[ 1, 1, 0, 0, 0 ],[0, 1, 0, 0, 1],[1, 0, 0, 1, 1 ],[0, 0, 0, 0, 0 ],[ 1, 0, 1, 0, 1]]\n",
    "    arr=[[ 1, 1, 0, 0, 0 ],[0, 1, 0, 0, 1],[1, 0, 0, 1, 1 ],[0, 0, 0, 0, 0 ],[ 1, 0, 1, 1, 0]]\n",
    "    row=5\n",
    "    col=5\n",
    "    i=Islands()\n",
    "    result=i.findIslands(arr,row,col)\n",
    "    print(result)\n"
   ]
  },
  {
   "cell_type": "markdown",
   "metadata": {},
   "source": [
    "Time Complexity - O(row* col)"
   ]
  },
  {
   "cell_type": "markdown",
   "metadata": {},
   "source": [
    "Using Disjoint set and BFS"
   ]
  },
  {
   "cell_type": "markdown",
   "metadata": {},
   "source": [
    "# Magic Square"
   ]
  },
  {
   "cell_type": "markdown",
   "metadata": {},
   "source": [
    "A magic square of order n is an arrangement of n^2 numbers, usually distinct integers, in a square, such that the n numbers in all rows, all columns, and both diagonals sum to the same constant. A magic square contains the integers from 1 to n^2."
   ]
  },
  {
   "cell_type": "markdown",
   "metadata": {},
   "source": [
    "The constant sum in every row, column and diagonal is called the magic constant or magic sum, M. The magic constant of a normal magic square depends only on n and has the following value:\n",
    "M = n (n^2 + 1) / 2."
   ]
  },
  {
   "cell_type": "markdown",
   "metadata": {},
   "source": [
    "<pre>\n",
    "Magic squares are divided into three major categories depending upon order of square.\n",
    "1) Odd order Magic Square. Example: 3,5,7,… (2*n +1)\n",
    "2) Doubly-even order Magic Square. Example : 4,8,12,16,.. (4*n)\n",
    "3) Singly-even order Magic Square. Example : 6,10,14,18,..(4*n +2)\n",
    "</pre>"
   ]
  },
  {
   "cell_type": "markdown",
   "metadata": {},
   "source": [
    "<strong>Generate Doubly even magic square</strong>"
   ]
  },
  {
   "cell_type": "markdown",
   "metadata": {},
   "source": [
    "change value of Array elements at fix location as per rule (n*n+1)-arr[i][j]"
   ]
  },
  {
   "cell_type": "code",
   "execution_count": 4,
   "metadata": {},
   "outputs": [
    {
     "name": "stdout",
     "output_type": "stream",
     "text": [
      "[16, 2, 3, 13]\n",
      "[5, 11, 10, 8]\n",
      "[9, 7, 6, 12]\n",
      "[4, 14, 15, 1]\n"
     ]
    }
   ],
   "source": [
    "def magicSquare(arr,n):\n",
    "    # top left corner\n",
    "    for i in range(n//4):\n",
    "        for j in range(n//4):\n",
    "            arr[i][j]=((n*n)+1)-arr[i][j]\n",
    "\n",
    "    # top right corner\n",
    "    for i in range(n//4):\n",
    "        for j in range(3*n//4,n):\n",
    "            arr[i][j]=((n*n)+1)-arr[i][j]\n",
    "\n",
    "    # bottom left corner\n",
    "    for i in range(3*n//4,n):\n",
    "        for j in range(n//4):\n",
    "            arr[i][j]=((n*n)+1)-arr[i][j]\n",
    "\n",
    "    # bottom right corner\n",
    "    for i in range(3*n//4,n):\n",
    "        for j in range(3*n//4,n):\n",
    "            arr[i][j]=((n*n)+1)-arr[i][j]\n",
    "\n",
    "    # center matrix\n",
    "    for i in range(n//4,3*n//4):\n",
    "        for j in range(n//4,3*n//4):\n",
    "            arr[i][j]=((n*n)+1)-arr[i][j]\n",
    "\n",
    "\n",
    "if __name__ == '__main__':\n",
    "    arr=[[1,2,3,4],[5,6,7,8],[9,10,11,12],[13,14,15,16]]\n",
    "    magicSquare(arr,len(arr))\n",
    "    for i in range(len(arr)):\n",
    "        print(arr[i])\n"
   ]
  },
  {
   "cell_type": "markdown",
   "metadata": {},
   "source": [
    "Time Complexity - O(n^2)"
   ]
  },
  {
   "cell_type": "markdown",
   "metadata": {},
   "source": [
    "# Magic Square | Odd Order"
   ]
  },
  {
   "cell_type": "markdown",
   "metadata": {},
   "source": [
    "In any magic square, the first number i.e. 1 is stored at position (n/2, n-1). Let this position be (i,j). The next number is stored at position (i-1, j+1) where we can consider each row & column as circular array i.e. they wrap around."
   ]
  },
  {
   "cell_type": "markdown",
   "metadata": {},
   "source": [
    "<pre>\n",
    "<strong>Three conditions hold:</strong>\n",
    "\n",
    "1. The position of next number is calculated by decrementing row number of previous number by 1, and incrementing the column number of previous number by 1. At any time, if the calculated row position becomes -1, it will wrap around to n-1. Similarly, if the calculated column position becomes n, it will wrap around to 0.\n",
    "\n",
    "2. If the magic square already contains a number at the calculated position, calculated column position will be decremented by 2, and calculated row position will be incremented by 1.\n",
    "\n",
    "3. If the calculated row position is -1 & calculated column position is n, the new position would be: (0, n-2).\n",
    "</pre>"
   ]
  },
  {
   "cell_type": "code",
   "execution_count": 5,
   "metadata": {},
   "outputs": [
    {
     "name": "stdout",
     "output_type": "stream",
     "text": [
      "[20, 12, 4, 45, 37, 29, 28]\n",
      "[11, 3, 44, 36, 35, 27, 19]\n",
      "[2, 43, 42, 34, 26, 18, 10]\n",
      "[49, 41, 33, 25, 17, 9, 1]\n",
      "[40, 32, 24, 16, 8, 7, 48]\n",
      "[31, 23, 15, 14, 6, 47, 39]\n",
      "[22, 21, 13, 5, 46, 38, 30]\n"
     ]
    }
   ],
   "source": [
    "def generateMagicSquare(n):\n",
    "    arr=[[None for j in range(n)]for i in range(n)]\n",
    "    num=1\n",
    "    i=n//2\n",
    "    j=n-1\n",
    "\n",
    "    while num<=n*n:\n",
    "        if i==-1 and j==n:\n",
    "            i=0\n",
    "            j=n-2\n",
    "        else:\n",
    "            if i<0:\n",
    "                i=n-1\n",
    "            if j==n:\n",
    "                j=0\n",
    "        # print(i,j)\n",
    "        if arr[i][j]:\n",
    "            i+=1\n",
    "            j-=2\n",
    "            continue\n",
    "        else:\n",
    "            arr[i][j]=num\n",
    "            num+=1\n",
    "            i-=1\n",
    "            j+=1\n",
    "\n",
    "    for i in range(n):\n",
    "        print(arr[i])\n",
    "\n",
    "\n",
    "if __name__ == '__main__':\n",
    "    n=7\n",
    "    generateMagicSquare(n)\n"
   ]
  },
  {
   "cell_type": "markdown",
   "metadata": {},
   "source": [
    "# Check given matrix is magic square or not"
   ]
  },
  {
   "cell_type": "code",
   "execution_count": 6,
   "metadata": {},
   "outputs": [
    {
     "name": "stdout",
     "output_type": "stream",
     "text": [
      "Magic Square\n"
     ]
    }
   ],
   "source": [
    "def isMagicSquare(arr,n):\n",
    "    total=n*((n*n)+1)//2\n",
    "    pDiagonal=0\n",
    "    sDiagonal=0\n",
    "    for i in range(n):\n",
    "        pDiagonal+=arr[i][i]\n",
    "    if pDiagonal!=total:\n",
    "        return False\n",
    "    for i in range(n):\n",
    "        sDiagonal+=arr[i][n-i-1]\n",
    "    if sDiagonal!=total:\n",
    "        return False\n",
    "\n",
    "    for i in range(n):\n",
    "        rowSum=sum(arr[i])\n",
    "        if rowSum!=total:\n",
    "            return False\n",
    "\n",
    "    for i in range(n):\n",
    "        colSum=0\n",
    "        for j in range(n):\n",
    "            colSum+=arr[j][i]\n",
    "        if colSum!=total:\n",
    "            return False\n",
    "    return True\n",
    "\n",
    "\n",
    "\n",
    "if __name__ == '__main__':\n",
    "    arr=[[2, 7, 6],[9, 5, 1],[4, 3, 8 ]]\n",
    "    # arr=[[1,2,2],[2,2,1],[2,1,2]]\n",
    "    result=isMagicSquare(arr,len(arr))\n",
    "    if result:\n",
    "        print(\"Magic Square\")\n",
    "    else:\n",
    "        print(\"Not Magic Square\")\n"
   ]
  },
  {
   "cell_type": "markdown",
   "metadata": {},
   "source": [
    "Time Complexity - O(n* n)"
   ]
  },
  {
   "cell_type": "markdown",
   "metadata": {},
   "source": [
    "# Kronecker Product of two matrices"
   ]
  },
  {
   "cell_type": "markdown",
   "metadata": {},
   "source": [
    "# Count all sub-arrays having sum divisible by k [in 1d array]"
   ]
  },
  {
   "cell_type": "markdown",
   "metadata": {},
   "source": [
    "Approach 1-> One by one calculate sum of all sub-arrays possible and check divisible by K. The time complexity for this approach will be O(n^2)."
   ]
  },
  {
   "cell_type": "markdown",
   "metadata": {},
   "source": [
    "Efficient Solution"
   ]
  },
  {
   "cell_type": "markdown",
   "metadata": {},
   "source": [
    "<pre>\n",
    "Let there be a subarray (i, j) whose sum is divisible by k\n",
    "  sum(i, j) = sum(0, j) - sum(0, i-1)\n",
    "Sum for any subarray can be written as q*k + rem where q \n",
    "is a quotient and rem is remainder\n",
    "Thus,     \n",
    "    sum(i, j) = (q1 * k + rem1) - (q2 * k + rem2)\n",
    "    sum(i, j) = (q1 - q2)k + rem1-rem2\n",
    "     \n",
    "We see, for sum(i, j) i.e. for sum of any subarray to be\n",
    "divisible by k, the RHS should also be divisible by k.\n",
    "(q1 - q2)k is obviously divisible by k, for (rem1-rem2) to \n",
    "follow the same, rem1 = rem2 where\n",
    "    rem1 = Sum of subarray (0, j) % k\n",
    "    rem2 = Sum of subarray (0, i-1) % k \n",
    "</pre>"
   ]
  },
  {
   "cell_type": "markdown",
   "metadata": {},
   "source": [
    "rem1 and rem2 has to be same because rem will always be less than k and for rem1-rem2 to be divisible by k, rem1-rem2 has to be 0 as 0 is the only number which is less than k and divisible by k"
   ]
  },
  {
   "cell_type": "code",
   "execution_count": 11,
   "metadata": {},
   "outputs": [
    {
     "name": "stdout",
     "output_type": "stream",
     "text": [
      "7\n"
     ]
    }
   ],
   "source": [
    "def findSubArrays(arr,k):\n",
    "    mapCounter={0:1}\n",
    "    result=0\n",
    "    cumulativeSum=0\n",
    "    for i in range(len(arr)):\n",
    "        cumulativeSum+=arr[i]\n",
    "        rem=cumulativeSum%k\n",
    "        if rem in mapCounter:\n",
    "            result+=mapCounter[rem]\n",
    "            mapCounter[rem]+=1\n",
    "        else:\n",
    "            mapCounter[rem]=1\n",
    "    return result\n",
    "\n",
    "\n",
    "if __name__ == '__main__':\n",
    "    arr=[4, 5, 0, -2, -3, 1]\n",
    "    # arr=[4, 5, 0, -12, -23, 1]\n",
    "    k=5\n",
    "    result=findSubArrays(arr,k)\n",
    "    print(result)\n"
   ]
  },
  {
   "cell_type": "markdown",
   "metadata": {},
   "source": [
    "Concept-> Remainder Tracking/ Cumulative Sum"
   ]
  },
  {
   "cell_type": "markdown",
   "metadata": {},
   "source": [
    "Time Complexity - O(n) and space complexity - O(k)"
   ]
  },
  {
   "cell_type": "markdown",
   "metadata": {},
   "source": [
    "# Count sub-matrices having sum divisible ‘k’"
   ]
  },
  {
   "cell_type": "markdown",
   "metadata": {},
   "source": [
    "Naive Approach: The naive solution for this problem is to check every possible rectangle in given 2D array. This solution requires 4 nested loops and time complexity of this solution would be O(n^4)"
   ]
  },
  {
   "cell_type": "markdown",
   "metadata": {},
   "source": [
    "The idea is to fix the left and right columns one by one and count sub-arrays for every left and right column pair. Calculate sum of elements in every row from left to right and store these sums in an array say temp[]. So temp[i] indicates sum of elements from left to right in row i. Count sub-arrays in temp[] having sum divisible by k. This count is the number of sub-matrices having sum divisible by k with left and right as boundary columns. Sum up all the counts for each temp[] with different left and right column pairs."
   ]
  },
  {
   "cell_type": "code",
   "execution_count": 1,
   "metadata": {},
   "outputs": [
    {
     "name": "stdout",
     "output_type": "stream",
     "text": [
      "6\n"
     ]
    }
   ],
   "source": [
    "def findSubArray(array,k):\n",
    "    count=0\n",
    "    mapCounter={0:1}\n",
    "    cumulativeSum=0\n",
    "    for i in range(len(array)):\n",
    "        cumulativeSum+=array[i]\n",
    "        rem=cumulativeSum%k\n",
    "        if rem in mapCounter:\n",
    "            count+=mapCounter[rem]\n",
    "            mapCounter[rem]+=1\n",
    "        else:\n",
    "            mapCounter[rem]=1\n",
    "    return count\n",
    "\n",
    "def getSubArrayWithSum(arr,k,n):\n",
    "    result=0\n",
    "    for left in range(n):\n",
    "        temp=[0]*n\n",
    "        for right in range(left,n):\n",
    "            for i in range(n):\n",
    "                temp[i]=temp[i]+arr[i][right]\n",
    "            result+=findSubArray(temp,k)\n",
    "    return result\n",
    "\n",
    "\n",
    "\n",
    "if __name__ == '__main__':\n",
    "    arr=[[5, -1, 6],[-2, 3, 8],[7, 4, -9]]\n",
    "    k=4\n",
    "    n=3\n",
    "    result=getSubArrayWithSum(arr,k,n)\n",
    "    print(result)\n"
   ]
  },
  {
   "cell_type": "markdown",
   "metadata": {},
   "source": [
    "Time Complexity - O(n^3)"
   ]
  },
  {
   "cell_type": "markdown",
   "metadata": {},
   "source": [
    "# Diagonally Dominant Matrix"
   ]
  },
  {
   "cell_type": "markdown",
   "metadata": {},
   "source": [
    "In mathematics, a square matrix is said to be diagonally dominant if for every row of the matrix, the magnitude of the diagonal entry in a row is larger than or equal to the sum of the magnitudes of all the other (non-diagonal) entries in that row."
   ]
  },
  {
   "cell_type": "code",
   "execution_count": 2,
   "metadata": {},
   "outputs": [
    {
     "name": "stdout",
     "output_type": "stream",
     "text": [
      "True\n"
     ]
    }
   ],
   "source": [
    "def isDiagonallyDominant(arr):\n",
    "    n=len(arr)\n",
    "    for i in range(n):\n",
    "        total=0\n",
    "        for j in range(n):\n",
    "            total+=abs(arr[i][j])\n",
    "        total-=abs(arr[i][i])\n",
    "        if abs(arr[i][i])<total:\n",
    "            return False\n",
    "    return True\n",
    "\n",
    "if __name__ == '__main__':\n",
    "    arr=[[3,-2,1],[1,-3,2],[-1,2,4]]\n",
    "    # arr=[[-2, 2, 1 ],[ 1, 3, 2 ],[1, -2, 0 ]]\n",
    "    print(isDiagonallyDominant(arr))\n"
   ]
  },
  {
   "cell_type": "markdown",
   "metadata": {},
   "source": [
    "# Minimum number of steps to convert a given matrix into Diagonally Dominant Matrix"
   ]
  },
  {
   "cell_type": "markdown",
   "metadata": {},
   "source": [
    "Approach-> For each row, check if the diagonal element is less than the sum of all the other values, if yes, then add this difference to the result. Repeat this for all the rows"
   ]
  },
  {
   "cell_type": "markdown",
   "metadata": {},
   "source": [
    "Time Complexity - O(n^2)"
   ]
  },
  {
   "cell_type": "markdown",
   "metadata": {},
   "source": [
    "# Minimum operations required to make each row and column of matrix equals same sum"
   ]
  },
  {
   "cell_type": "markdown",
   "metadata": {},
   "source": [
    "Given a square matrix of size n * n. Find minimum number of operation are required such that sum of elements on each row and column becomes equals. In one operation, increment any value of cell of matrix by 1"
   ]
  },
  {
   "cell_type": "code",
   "execution_count": 3,
   "metadata": {},
   "outputs": [
    {
     "name": "stdout",
     "output_type": "stream",
     "text": [
      "6\n",
      "[2, 4, 3]\n",
      "[4, 2, 3]\n",
      "[3, 3, 3]\n"
     ]
    }
   ],
   "source": [
    "def minOperation(arr,n):\n",
    "    sumRow=[0]*n #to store the sum of each row\n",
    "    sumCol=[0]*n #to store the sum of each column\n",
    "    for i in range(n):\n",
    "        for j in range(n):\n",
    "            sumRow[i]+=arr[i][j]\n",
    "            sumCol[j]+=arr[i][j]\n",
    "    # maxsum of row and column\n",
    "    maxSum=max(max(sumRow),max(sumCol))\n",
    "\n",
    "    count=0\n",
    "    i=0;j=0\n",
    "    while i<n and j<n:\n",
    "        diff=min(maxSum-sumRow[i],maxSum-sumCol[j])\n",
    "        # get the minimum increment to be made to each value\n",
    "\n",
    "        arr[i][j]+=diff\n",
    "        # update the array value\n",
    "        sumRow[i]+=diff\n",
    "        # update new sum\n",
    "        sumCol[j]+=diff\n",
    "        # update new sum\n",
    "\n",
    "        count+=diff\n",
    "        # increment answer\n",
    "\n",
    "        if sumRow[i]==maxSum:\n",
    "            # if row satisfies the condition move forward\n",
    "            i+=1\n",
    "\n",
    "        if sumCol[j]==maxSum:\n",
    "            # if column satisfies the condition move forward\n",
    "            j+=1\n",
    "\n",
    "    return count\n",
    "\n",
    "if __name__ == '__main__':\n",
    "    arr=[[1,2,3],[4,2,3],[3,2,1]]\n",
    "    n=len(arr)\n",
    "    result=minOperation(arr,n)\n",
    "    print(result)\n",
    "    for i in range(n):\n",
    "        print(arr[i])\n"
   ]
  },
  {
   "cell_type": "markdown",
   "metadata": {},
   "source": [
    "Time Complexity - O(n^2) and Space Complexity - O(n)"
   ]
  },
  {
   "cell_type": "markdown",
   "metadata": {},
   "source": [
    "It is given that you can not decrease any value ,you have to only increase value by 1 .so we try to make sum of each row or column equal to maximum row sum or column sum(because you can't decrease any value so only way to equal each row sum and column sum is that we can make each row sum =maximum column sum or maximum row sum).\n",
    "so,\n",
    "total row or column=n\n",
    "so x=total_sum when all row and colum sum equall=n*any of row sum\n",
    "so total_operation=inital total matrix_sum-x;"
   ]
  },
  {
   "cell_type": "markdown",
   "metadata": {},
   "source": [
    "# Count frequency of k in a matrix of size n where matrix(i, j) = i+j"
   ]
  },
  {
   "cell_type": "markdown",
   "metadata": {},
   "source": [
    "Approach 1-> Create the matrix and count the frequency"
   ]
  },
  {
   "cell_type": "markdown",
   "metadata": {},
   "source": [
    "Approach 2-> The value k depends on the indexes, the problem can be brought down to the number of subarrays constaining sum k"
   ]
  },
  {
   "cell_type": "code",
   "execution_count": 5,
   "metadata": {},
   "outputs": [
    {
     "name": "stdout",
     "output_type": "stream",
     "text": [
      "3\n"
     ]
    }
   ],
   "source": [
    "def findFrequency(n,k):\n",
    "    arr=list(range(1,n+1))\n",
    "    low=0\n",
    "    high=len(arr)-1\n",
    "    count=0\n",
    "    while low<=high:\n",
    "        # print(arr[low],arr[high])\n",
    "        if (arr[low]+arr[high])==k:\n",
    "            if low!=high:\n",
    "                count+=2\n",
    "            else:\n",
    "                count+=1\n",
    "        if (arr[low]+arr[high])<k:\n",
    "            low+=1\n",
    "        else:\n",
    "            high-=1\n",
    "    return count\n",
    "\n",
    "\n",
    "if __name__ == '__main__':\n",
    "    n=5\n",
    "    k=4\n",
    "    result=findFrequency(n,k)\n",
    "    print(result)\n"
   ]
  },
  {
   "cell_type": "markdown",
   "metadata": {},
   "source": [
    "Time Complexity - O(n)"
   ]
  },
  {
   "cell_type": "markdown",
   "metadata": {},
   "source": [
    "<pre>\n",
    "Approach 3-> If we notice how the values are same in the secondary Diagonal, and we can also find a pattern in the count it increases like 1, 2, 3, 4,\n",
    "here we can see that\n",
    "if (n+1)>=k then frequency of k is k-1\n",
    "else frequency will be 2*n+1-k\n",
    "</pre>"
   ]
  },
  {
   "cell_type": "markdown",
   "metadata": {},
   "source": [
    "Time Complexity - O(1)"
   ]
  },
  {
   "cell_type": "markdown",
   "metadata": {},
   "source": [
    "# Given 1’s, 2’s, 3’s ……k’s print them in zig zag way."
   ]
  },
  {
   "cell_type": "code",
   "execution_count": 1,
   "metadata": {},
   "outputs": [
    {
     "name": "stdout",
     "output_type": "stream",
     "text": [
      "[1, 1, 1, 2, 2]\n",
      "[4, 3, 3, 2, 2]\n",
      "[4, 5, 5, 5, 6]\n",
      "[7, 7, 7, 7, 7]\n"
     ]
    }
   ],
   "source": [
    "def buildMatrix(rows,columns,numbers):\n",
    "    mat=[[0 for j in range(columns)]for i in range(rows)]\n",
    "    k=0\n",
    "    for i in range(rows):\n",
    "        if i%2==0:\n",
    "            j=0\n",
    "            while j<columns and numbers[k]>0:\n",
    "                mat[i][j]=k+1\n",
    "                numbers[k]-=1\n",
    "                if numbers[k]==0:\n",
    "                    k+=1\n",
    "                j+=1\n",
    "        else:\n",
    "            j=columns-1\n",
    "            while j>=0 and numbers[k]>0:\n",
    "                mat[i][j]=k+1\n",
    "                numbers[k]-=1\n",
    "                if numbers[k]==0:\n",
    "                    k+=1\n",
    "                j-=1\n",
    "    return mat\n",
    "\n",
    "\n",
    "if __name__ == '__main__':\n",
    "    rows=4\n",
    "    columns=5\n",
    "    numbers=[3, 4, 2, 2, 3, 1, 5]\n",
    "    mat=buildMatrix(rows,columns,numbers)\n",
    "    for i in range(rows):\n",
    "        print(mat[i])\n"
   ]
  },
  {
   "cell_type": "markdown",
   "metadata": {},
   "source": [
    "Time Complexity -> O(row * columns)"
   ]
  },
  {
   "cell_type": "markdown",
   "metadata": {},
   "source": [
    "# Number of cells a queen can move with obstacles on the chessboard"
   ]
  },
  {
   "cell_type": "markdown",
   "metadata": {},
   "source": [
    "Consider a N X N chessboard with a Queen and K obstacles. The Queen cannot pass through obstacles. Given the position (x, y) of Queen, the task is to find the number of cells the queen can move."
   ]
  },
  {
   "cell_type": "markdown",
   "metadata": {},
   "source": [
    "Approach 1 -> Create a matrix with the obstacles and for each direction count the total number of moves"
   ]
  },
  {
   "cell_type": "code",
   "execution_count": 1,
   "metadata": {},
   "outputs": [
    {
     "name": "stdout",
     "output_type": "stream",
     "text": [
      "24\n"
     ]
    }
   ],
   "source": [
    "def isSafe(r,c,mat):\n",
    "    if r>=0 and r<n and c>=0 and c<n and mat[r][c]!=1:\n",
    "        return True\n",
    "    else:\n",
    "        return False\n",
    "\n",
    "def numberOfPos(n,k,qx,qy,obsx,obsy):\n",
    "    mat=[[0 for j in range(n)]for i in range(n)]\n",
    "    # print(mat)\n",
    "    if k>0:\n",
    "        for i in range(len(obsx)):\n",
    "            mat[obsx[i]-1][obsy[i]-1]=1\n",
    "\n",
    "    totalMoves=0\n",
    "    i=qx-1;j=qy-1\n",
    "\n",
    "    # movesX=[1,-1,0,0,-1,-1,1,1]\n",
    "    # movesY=[0,0,-1,1,-1,1,-1,1]\n",
    "\n",
    "    # move downwards\n",
    "    while isSafe(i+1,j,mat):\n",
    "        i+=1\n",
    "        totalMoves+=1\n",
    "    # print(totalMoves)\n",
    "\n",
    "    # move upwards\n",
    "    i=qx-1;j=qy-1\n",
    "    while isSafe(i-1,j,mat):\n",
    "        i-=1\n",
    "        # print('inside')\n",
    "        totalMoves+=1\n",
    "    # print(totalMoves)\n",
    "\n",
    "    # move leftwards\n",
    "    i=qx-1;j=qy-1\n",
    "    while isSafe(i,j-1,mat):\n",
    "        totalMoves+=1\n",
    "        j-=1\n",
    "    # print(totalMoves)\n",
    "\n",
    "    # move rightwards\n",
    "    i=qx-1;j=qy-1\n",
    "    while isSafe(i,j+1,mat):\n",
    "        totalMoves+=1\n",
    "        j+=1\n",
    "    # print(totalMoves)\n",
    "\n",
    "    # move diagonal up-left\n",
    "    i=qx-1;j=qy-1\n",
    "    while isSafe(i-1,j-1,mat):\n",
    "        totalMoves+=1\n",
    "        j-=1\n",
    "        i-=1\n",
    "    # print(totalMoves)\n",
    "\n",
    "    # move diagonal up-right\n",
    "    i=qx-1;j=qy-1\n",
    "    while isSafe(i-1,j+1,mat):\n",
    "        totalMoves+=1\n",
    "        j+=1\n",
    "        i-=1\n",
    "    # print(totalMoves)\n",
    "\n",
    "    # move diagonal- down-left\n",
    "    i=qx-1;j=qy-1\n",
    "    while isSafe(i+1,j-1,mat):\n",
    "        totalMoves+=1\n",
    "        j-=1\n",
    "        i+=1\n",
    "    # print(totalMoves)\n",
    "\n",
    "    # move diagonal down-right\n",
    "    i=qx-1;j=qy-1\n",
    "    while isSafe(i+1,j+1,mat):\n",
    "        totalMoves+=1\n",
    "        j+=1\n",
    "        i+=1\n",
    "\n",
    "    print(totalMoves)\n",
    "\n",
    "if __name__ == '__main__':\n",
    "    n=8\n",
    "    k=1\n",
    "    qx=4\n",
    "    qy=4\n",
    "    obsx=[3]\n",
    "    obsy=[5]\n",
    "    count=numberOfPos(n,k,qx,qy,obsx,obsy)\n"
   ]
  },
  {
   "cell_type": "markdown",
   "metadata": {},
   "source": [
    "Time Complexity - O(n)"
   ]
  },
  {
   "cell_type": "markdown",
   "metadata": {},
   "source": [
    "Approach 2-> \n",
    "<pre>\n",
    "Iterate over the obstacles and for those who are in the queen’s path, we calculate the free cells upto that obstacle. If there is no obstacle in the path we have to calculate the number of free cells upto end of board in that direction.\n",
    "For any (x1, y1) and (x2, y2):\n",
    "\n",
    "If they are horizontally at same level: abs(x1 – x2 – 1)\n",
    "If they are vertically at same level: abs(y1 – y2 – 1) is the number of free cells between.\n",
    "If they are diagonal: both abs(x1 – x2 – 1) or abs(y1 – y2 – 1) is the number of free cells between.\n",
    "</pre>"
   ]
  },
  {
   "cell_type": "code",
   "execution_count": 3,
   "metadata": {},
   "outputs": [
    {
     "name": "stdout",
     "output_type": "stream",
     "text": [
      "24\n"
     ]
    }
   ],
   "source": [
    "def numberOfPos(n,k,x,y,obsx,obsy):\n",
    "\n",
    "    # diagonal distances\n",
    "    d11=min(x-1,y-1)\n",
    "    d12=min(n-x,n-y)\n",
    "    d21=min(n-x,y-1)\n",
    "    d22=min(x-1,n-y)\n",
    "\n",
    "\n",
    "    #same row\n",
    "    r1=y-1\n",
    "    r2=n-y\n",
    "\n",
    "    # same column\n",
    "    c1=x-1\n",
    "    c2=n-x\n",
    "\n",
    "    for i in range(k):\n",
    "        if x>obsx[i] and y>obsy[i] and x-obsx[i]==y-obsy[i]:\n",
    "            d11=min(d11,x-obsx[i]-1)\n",
    "        elif x<obsx[i] and y<obsy[i] and obsx[i]-x==obsy[i]-y:\n",
    "            d12=min(d12,obsx[i]-x-1)\n",
    "        elif x<obsx[i] and y>obsy[i] and obsx[i]-x==y-obsy[i]:\n",
    "            d21=min(d21,obsx[i]-x-1)\n",
    "        elif x>obsx[i] and y<obsy[i] and obsx[i]-x==y-obsy[i]:\n",
    "            d22=min(d21,x-obsx[i]-1)\n",
    "        elif x==obsx[i] and y<obsy[i]:\n",
    "            r2=min(r2,obsy[i]-y-1)\n",
    "        elif x==obsx[i] and y>obsy[i]:\n",
    "            r1=min(r1,y-obsy[i]-1)\n",
    "        elif y==obsy[i] and x<obsx[i]:\n",
    "            c2=min(c2,obsx[i]-x-1)\n",
    "        elif y==obsy[i] and x>obsx[i]:\n",
    "            c1=min(c1,x-obsx[i]-1)\n",
    "\n",
    "    return d11+d12+d21+d22+r1+r2+c1+c2\n",
    "\n",
    "if __name__ == '__main__':\n",
    "    n=8\n",
    "    k=1\n",
    "    qx=4\n",
    "    qy=4\n",
    "    obsx=[3]\n",
    "    obsy=[5]\n",
    "    count=numberOfPos(n,k,qx,qy,obsx,obsy)\n",
    "    print(count)\n"
   ]
  },
  {
   "cell_type": "markdown",
   "metadata": {},
   "source": [
    "Time Complexity -O(k)"
   ]
  },
  {
   "cell_type": "markdown",
   "metadata": {},
   "source": [
    "# Maximum product of 4 adjacent elements in matrix"
   ]
  },
  {
   "cell_type": "markdown",
   "metadata": {},
   "source": [
    "Given a square matrix, find the maximum product of four adjacent elements of matrix. The adjacent elements of matrix can be top, down, left, right, diagonal or anti diagonal. The four or more numbers should be adjacent to each other."
   ]
  },
  {
   "cell_type": "code",
   "execution_count": 1,
   "metadata": {},
   "outputs": [
    {
     "name": "stdout",
     "output_type": "stream",
     "text": [
      "3024\n"
     ]
    }
   ],
   "source": [
    "def getMaxAdjSum(arr,n):\n",
    "    total=float('-infinity')\n",
    "    for i in range(n):\n",
    "        for j in range(n):\n",
    "\n",
    "            # row\n",
    "            if i+3<n:\n",
    "                total=max(total,(arr[i][j]*arr[i+1][j]*arr[i+2][j]*arr[i+3][j]))\n",
    "\n",
    "            # column\n",
    "            if j+3<n:\n",
    "                total=max(total,(arr[i][j]*arr[i][j+1]*arr[i][j+2]*arr[i][j+3]))\n",
    "\n",
    "            # down right diagonal\n",
    "            if i+3<n and j+3<n:\n",
    "                total=max(total,(arr[i][j]*arr[i+1][j+1]*arr[i+2][j+2]*arr[i+3][j+3]))\n",
    "\n",
    "            # up right diagonal\n",
    "            if i-3>=0 and j+3<n:\n",
    "                total=max(total,(arr[i][j]*arr[i-1][j+1]*arr[i-2][j+2]*arr[i-3][j+3]))\n",
    "\n",
    "    return total\n",
    "\n",
    "if __name__ == '__main__':\n",
    "    # n=4\n",
    "    # arr=[[6, 2, 3, 4],[5, 4, 3, 1],[7, 4, 5, 6],[8, 3, 1, 0]]\n",
    "    n=5\n",
    "    arr=[[1, 2, 3, 4, 5],[6, 7, 8, 9, 1],[2, 3, 4, 5, 6],[7, 8, 9, 1, 0],[9, 6, 4, 2, 3]]\n",
    "    total=getMaxAdjSum(arr,n)\n",
    "    print(total)\n"
   ]
  },
  {
   "cell_type": "markdown",
   "metadata": {},
   "source": [
    "Time Complexity - O(n* n)"
   ]
  },
  {
   "cell_type": "markdown",
   "metadata": {},
   "source": [
    "# Minimum flip required to make Binary Matrix symmetric"
   ]
  },
  {
   "cell_type": "markdown",
   "metadata": {},
   "source": [
    "The task is to find the minimum flips required to make the matrix symmetric along main diagonal."
   ]
  },
  {
   "cell_type": "markdown",
   "metadata": {},
   "source": [
    "The idea is to find minimum flip required to make upper triangle of matrix equals to lower triangle of the matrix. To do so, we run two nested loop, outer loop from i = 0 to n i.e for each row of the matrix and the inner loop from j = 0 to i, and check whether mat[i][j] is equal to mat[j][i]. Count of number of instance where theya re not equal will be the minimum flip required to make matrix symmetric along main diagonal."
   ]
  },
  {
   "cell_type": "code",
   "execution_count": 4,
   "metadata": {},
   "outputs": [
    {
     "name": "stdout",
     "output_type": "stream",
     "text": [
      "3\n"
     ]
    }
   ],
   "source": [
    "def getTotalFlips(arr,n):\n",
    "    total=0\n",
    "    for i in range(n):\n",
    "        for j in range(i+1,n):\n",
    "            if arr[i][j]!=arr[j][i]:\n",
    "                total+=1\n",
    "    return total\n",
    "\n",
    "if __name__ == '__main__':\n",
    "    arr=[[1, 1, 1, 1, 0],[ 0, 1, 0, 1, 1 ],[1, 0, 0, 0, 1],[0, 1, 0, 1, 0 ],[0, 1, 0, 0, 1]]\n",
    "    #arr=[[0, 0, 1],[1, 1, 1],[1, 0, 0]]\n",
    "    n=len(arr)\n",
    "    totalFlips=getTotalFlips(arr,n)\n",
    "    print(totalFlips)\n"
   ]
  },
  {
   "cell_type": "markdown",
   "metadata": {},
   "source": [
    "More on these types"
   ]
  },
  {
   "cell_type": "markdown",
   "metadata": {},
   "source": [
    "# Program to check if matrix is lower triangular"
   ]
  },
  {
   "cell_type": "markdown",
   "metadata": {},
   "source": [
    "# Program to check if matrix is upper triangular"
   ]
  },
  {
   "cell_type": "markdown",
   "metadata": {},
   "source": [
    "# Frequencies of even and odd numbers in a matrix"
   ]
  },
  {
   "cell_type": "markdown",
   "metadata": {},
   "source": [
    "# Center element of matrix equals sums of half diagonals"
   ]
  },
  {
   "cell_type": "code",
   "execution_count": 5,
   "metadata": {},
   "outputs": [
    {
     "name": "stdout",
     "output_type": "stream",
     "text": [
      "True\n"
     ]
    }
   ],
   "source": [
    "def isCenterEqual(arr,n):\n",
    "    middle=n//2\n",
    "    middleElement=arr[middle][middle]\n",
    "    diagonalSum=0\n",
    "    antiDiagonalSum=0\n",
    "    for i in range(n):\n",
    "        diagonalSum+=arr[i][i]\n",
    "        antiDiagonalSum+=arr[i][n-i-1]\n",
    "\n",
    "    diagonalSum-=middleElement\n",
    "    antiDiagonalSum-=middleElement\n",
    "    if diagonalSum==2*middleElement and antiDiagonalSum==2*middleElement:\n",
    "        return True\n",
    "    return False\n",
    "\n",
    "\n",
    "if __name__ == '__main__':\n",
    "    arr=[[2, 9, 1, 4, -2],[6, 7, 2, 11, 4],[4, 2, 9, 2, 4],[1, 9, 2, 4, 4],[0, 2, 4, 2, 5]]\n",
    "    n=len(arr)\n",
    "    print(isCenterEqual(arr,n))\n"
   ]
  },
  {
   "cell_type": "markdown",
   "metadata": {},
   "source": [
    "Time Complexity - O(n)"
   ]
  },
  {
   "cell_type": "markdown",
   "metadata": {},
   "source": [
    "# Identity Matrix"
   ]
  },
  {
   "cell_type": "markdown",
   "metadata": {},
   "source": [
    "Also called Unit Matrix. A property of the identity matrix is that it leaves a matrix unchanged if it is multiplied by an Identity Matrix."
   ]
  },
  {
   "cell_type": "markdown",
   "metadata": {},
   "source": [
    "# Program to swap upper diagonal elements with lower diagonal elements of matrix."
   ]
  },
  {
   "cell_type": "code",
   "execution_count": 6,
   "metadata": {},
   "outputs": [
    {
     "name": "stdout",
     "output_type": "stream",
     "text": [
      "[2, 3, 5, 6]\n",
      "[4, 5, 7, 9]\n",
      "[8, 6, 4, 9]\n",
      "[1, 3, 5, 6]\n",
      "\n",
      "\n",
      "[2, 4, 8, 1]\n",
      "[3, 5, 6, 3]\n",
      "[5, 7, 4, 5]\n",
      "[6, 9, 9, 6]\n"
     ]
    }
   ],
   "source": [
    "def swapDiagonal(arr,n):\n",
    "    for i in range(n):\n",
    "        for j in range(i+1,n):\n",
    "            arr[i][j],arr[j][i]=arr[j][i],arr[i][j]\n",
    "\n",
    "\n",
    "if __name__ == '__main__':\n",
    "    arr=[[2, 3, 5, 6 ],[ 4, 5, 7, 9 ],\n",
    "       [8, 6, 4, 9 ],[ 1, 3, 5, 6 ]]\n",
    "    n=len(arr)\n",
    "    for i in range(len(arr)):\n",
    "        print(arr[i])\n",
    "    swapDiagonal(arr,n)\n",
    "    print('\\n')\n",
    "    for i in range(len(arr)):\n",
    "        print(arr[i])\n"
   ]
  },
  {
   "cell_type": "markdown",
   "metadata": {},
   "source": [
    "Time Complexity - O(n* n)"
   ]
  },
  {
   "cell_type": "markdown",
   "metadata": {},
   "source": [
    "# Sparse Matrix Representations"
   ]
  },
  {
   "cell_type": "markdown",
   "metadata": {},
   "source": [
    "If most of the elements in the matrix are zero then the matrix is called a sparse matrix. It is wasteful to store the zero elements in the matrix since they do not affect the results of our computation. This is why we implement these matrices in more efficient representations than the standard 2D Array. Using more efficient representations we can cut down space and time complexities of operations significantly."
   ]
  },
  {
   "cell_type": "markdown",
   "metadata": {},
   "source": [
    "<pre>\n",
    "Why to use Sparse Matrix instead of simple matrix ?\n",
    "\n",
    "Storage: There are lesser non-zero elements than zeros and thus lesser memory can be used to store only those elements.\n",
    "Computing time: Computing time can be saved by logically designing a data structure traversing only non-zero elements..\n",
    "</pre>"
   ]
  },
  {
   "cell_type": "markdown",
   "metadata": {},
   "source": [
    "Representing a sparse matrix by a 2D array leads to wastage of lots of memory as zeroes in the matrix are of no use in most of the cases. So, instead of storing zeroes with non-zero elements, we only store non-zero elements. This means storing non-zero elements with triples- (Row, Column, value)."
   ]
  },
  {
   "cell_type": "markdown",
   "metadata": {},
   "source": [
    "<strong>Method 1: Using Arrays</strong>"
   ]
  },
  {
   "cell_type": "markdown",
   "metadata": {},
   "source": [
    "<pre>\n",
    "2D array is used to represent a sparse matrix in which there are three rows named as\n",
    "\n",
    "Row: Index of row, where non-zero element is located\n",
    "Column: Index of column, where non-zero element is located\n",
    "Value: Value of the non zero element located at index – (row,column)\n",
    "</pre>"
   ]
  },
  {
   "cell_type": "markdown",
   "metadata": {},
   "source": [
    "<strong>Method 2: Using Linked Lists</strong>"
   ]
  },
  {
   "cell_type": "markdown",
   "metadata": {},
   "source": [
    "<pre>\n",
    "In linked list, each node has four fields. These four fields are defined as:\n",
    "\n",
    "Row: Index of row, where non-zero element is located\n",
    "Column: Index of column, where non-zero element is located\n",
    "Value: Value of the non zero element located at index – (row,column)\n",
    "Next node: Address of the next node\n",
    "</pre>    "
   ]
  },
  {
   "cell_type": "markdown",
   "metadata": {},
   "source": [
    "<strong>Method 3: List of Lists (LIL)</strong>"
   ]
  },
  {
   "cell_type": "markdown",
   "metadata": {},
   "source": [
    "One of the possible representation of sparse matrix is List of Lists (LIL). Where one list is used to represent the rows and each row contains the list of triples: Column index, Value(non – zero element) and address field, for non – zero elements"
   ]
  },
  {
   "cell_type": "code",
   "execution_count": 3,
   "metadata": {},
   "outputs": [
    {
     "name": "stdout",
     "output_type": "stream",
     "text": [
      "[[2, 3], [4, 4]]\n",
      "[[2, 5], [3, 7]]\n",
      "[]\n",
      "[[1, 2], [2, 6]]\n"
     ]
    }
   ],
   "source": [
    "def convertIntoSparse(arr,rows,col):\n",
    "    # rows=len(arr)\n",
    "    sparseMat=[[] for i in range(rows)]\n",
    "    # print(sparseMat)\n",
    "    for i in range(rows):\n",
    "        for j in range(col):\n",
    "            if arr[i][j]!=0:\n",
    "                sparseMat[i].append([j,arr[i][j]])\n",
    "    for i in range(rows):\n",
    "        print(sparseMat[i])\n",
    "\n",
    "\n",
    "if __name__ == '__main__':\n",
    "    arr=[[0 , 0 , 3 , 0 , 4],[0 , 0 , 5 , 7 , 0],[0 , 0 , 0 , 0 , 0],[0 , 2 , 6 , 0 , 0]]\n",
    "    rows=4;col=5\n",
    "    convertIntoSparse(arr,rows,col)\n"
   ]
  },
  {
   "cell_type": "markdown",
   "metadata": {},
   "source": [
    "<strong>Method 4: Dictionary of Keys</strong>"
   ]
  },
  {
   "cell_type": "markdown",
   "metadata": {},
   "source": [
    "An alternative representation of sparse matrix is Dictionary. For the key field of the dictionary, pair of row and column index is used that maps with the non – zero element of the matrix. This method saves space but sequential access of items is costly"
   ]
  },
  {
   "cell_type": "code",
   "execution_count": 4,
   "metadata": {},
   "outputs": [
    {
     "name": "stdout",
     "output_type": "stream",
     "text": [
      "(0, 2) = 3\n",
      "(0, 4) = 4\n",
      "(1, 2) = 5\n",
      "(1, 3) = 7\n",
      "(3, 1) = 2\n",
      "(3, 2) = 6\n"
     ]
    }
   ],
   "source": [
    "def convertIntoSparse(arr,rows,col):\n",
    "    # rows=len(arr)\n",
    "    sparseMat={}\n",
    "    # print(sparseMat)\n",
    "    for i in range(rows):\n",
    "        for j in range(col):\n",
    "            if arr[i][j]!=0:\n",
    "                sparseMat[(i,j)]=arr[i][j]\n",
    "    for key,value in sparseMat.items():\n",
    "        print(f\"{key} = {value}\")\n",
    "\n",
    "\n",
    "if __name__ == '__main__':\n",
    "    arr=[[0 , 0 , 3 , 0 , 4],[0 , 0 , 5 , 7 , 0],[0 , 0 , 0 , 0 , 0],[0 , 2 , 6 , 0 , 0]]\n",
    "    rows=4;col=5\n",
    "    convertIntoSparse(arr,rows,col)\n"
   ]
  },
  {
   "cell_type": "markdown",
   "metadata": {},
   "source": [
    "<strong>CSR (Compressed Sparse Row) or the Yale Format</strong>"
   ]
  },
  {
   "cell_type": "markdown",
   "metadata": {},
   "source": [
    "# Ways of filling matrix such that product of all rows and all columns are equal to unity"
   ]
  },
  {
   "cell_type": "markdown",
   "metadata": {},
   "source": [
    "We are given three values n, m and k where n is number of rows in matrix, m is number of columns in the matrix and k is the number that can have only two values -1 and 1. Our aim is to find the number of ways of filling the matrix of  n \\times m such that the product of all the elements in each row and each column is equal to k"
   ]
  },
  {
   "cell_type": "markdown",
   "metadata": {},
   "source": [
    "<pre>\n",
    "From the above conditions, it is clear that the only elements that can be entered in the matrix are 1 and -1. Now we can easily deduce some of the corner cases\n",
    "\n",
    "If k = -1, then the sum of number of rows and columns cannot be odd because -1 will be present odd\n",
    "number of times in each row and column therefore if the sum is odd then answer is 0.\n",
    "If n = 1 or m = 1 then there is only one way of filling the matrix therefore answer is 1.\n",
    "If none of the above cases are applicable then we fill the first n-1 rows and the first m-1 columns with 1 and -1. Then the remaining numbers can be uniquely identified since the product of each row an each column is already known therefore the answer is 2 ^ {(n-1) \\times (m-1)}.\n",
    "</pre>"
   ]
  },
  {
   "cell_type": "markdown",
   "metadata": {},
   "source": [
    "# Mirror of matrix across diagonal"
   ]
  },
  {
   "cell_type": "markdown",
   "metadata": {},
   "source": [
    "Given a 2-D array of order N x N, print a matrix which is mirror of given tree across diagonal. We need to print the result in a way, swap the values of the triangle above the diagonal with the values of the triangle below it like a mirror image swap"
   ]
  },
  {
   "cell_type": "markdown",
   "metadata": {},
   "source": [
    "Approach -> Swap Upper Diagonal with Lower Diagonal matrix"
   ]
  },
  {
   "cell_type": "markdown",
   "metadata": {},
   "source": [
    "# Find if there is a rectangle in binary matrix with corners as 1"
   ]
  },
  {
   "cell_type": "markdown",
   "metadata": {},
   "source": [
    "There is a given binary matrix, we need to find if there exists any rectangle or square in the given matrix whose all four corners are equal to 1."
   ]
  },
  {
   "cell_type": "markdown",
   "metadata": {},
   "source": [
    "Approach1 -> Fix the left and right boundaries and check for the squares and rectangles"
   ]
  },
  {
   "cell_type": "code",
   "execution_count": 1,
   "metadata": {},
   "outputs": [
    {
     "name": "stdout",
     "output_type": "stream",
     "text": [
      "True\n"
     ]
    }
   ],
   "source": [
    "def checkIfRectangleExists(arr,rows,cols):\n",
    "    flag=False\n",
    "    for left in range(cols-1):\n",
    "        for right in range(left+1,cols):\n",
    "            for i in range(rows-1):\n",
    "                if arr[i][left]==1 and arr[i][right]==1:\n",
    "                    j=rows-1\n",
    "                    while j>i:\n",
    "                        if arr[j][left]==1 and arr[j][right]==1:\n",
    "                            # flag=True\n",
    "                            return True\n",
    "                        j-=1\n",
    "    return False\n",
    "\n",
    "if __name__ == '__main__':\n",
    "    arr=[[1, 0, 0, 1, 0],[0, 0, 1, 0, 1],[0, 0, 0, 1, 0],[1, 0, 1, 0, 1]]\n",
    "    rows=4\n",
    "    cols=5\n",
    "    result=checkIfRectangleExists(arr,rows,cols)\n",
    "    print(result)\n"
   ]
  },
  {
   "cell_type": "markdown",
   "metadata": {},
   "source": [
    "Time Complexity - O(n^2 * m^2) n=number of rows and m=number of columns"
   ]
  },
  {
   "cell_type": "markdown",
   "metadata": {},
   "source": [
    "<pre>\n",
    "Efficient Approach\n",
    "– Scan from top to down, line by line\n",
    "– For each line, remember each combination of 2 1’s and push that into a hash-set\n",
    "– If we ever find that combination again in a later line, we get our rectangle\n",
    "</pre>"
   ]
  },
  {
   "cell_type": "code",
   "execution_count": 2,
   "metadata": {},
   "outputs": [
    {
     "name": "stdout",
     "output_type": "stream",
     "text": [
      "True\n"
     ]
    }
   ],
   "source": [
    "def checkIfRectangleExists(arr,rows,cols):\n",
    "    mapSet={}\n",
    "    for i in range(rows):\n",
    "        for left in range(cols-1):\n",
    "            if arr[i][left]==1:\n",
    "                for right in range(left+1,cols):\n",
    "                    if arr[i][right]==1:\n",
    "                        if left in mapSet:\n",
    "                            if right in mapSet[left]:\n",
    "                                return True\n",
    "                            else:\n",
    "                                mapSet[left].add(right)\n",
    "                        else:\n",
    "                            mapSet[left]=set()\n",
    "                            mapSet[left].add(right)\n",
    "    # print(mapSet)\n",
    "    return False\n",
    "\n",
    "\n",
    "if __name__ == '__main__':\n",
    "    arr=[[1, 0, 0, 1, 0],[0, 0, 1, 0, 1],[0, 0, 0, 1, 0],[1, 0, 1, 0, 1]]\n",
    "    rows=4\n",
    "    cols=5\n",
    "    result=checkIfRectangleExists(arr,rows,cols)\n",
    "    print(result)\n"
   ]
  },
  {
   "cell_type": "markdown",
   "metadata": {},
   "source": [
    "# Find all rectangles filled with 0"
   ]
  },
  {
   "cell_type": "markdown",
   "metadata": {},
   "source": [
    "Problem can be reduced to finding the submatrices having sum 0 and same concept can be applied(fixing the left boundary and right boundary ad check for the submatrices)"
   ]
  },
  {
   "cell_type": "code",
   "execution_count": 1,
   "metadata": {},
   "outputs": [
    {
     "name": "stdout",
     "output_type": "stream",
     "text": [
      "21\n"
     ]
    }
   ],
   "source": [
    "def findCount(arr):\n",
    "    map={0:1}\n",
    "    count=0\n",
    "    cumulativeSum=0\n",
    "    for i in arr:\n",
    "        cumulativeSum+=i\n",
    "        if cumulativeSum in map:\n",
    "            count+=map[cumulativeSum]\n",
    "            map[cumulativeSum]+=1\n",
    "        else:\n",
    "            map[cumulativeSum]=1\n",
    "    return count\n",
    "\n",
    "\n",
    "def getCount(arr,rows,cols):\n",
    "    result=0\n",
    "    for left in range(cols):\n",
    "        temp=[0]*rows\n",
    "        for right in range(left,cols):\n",
    "            countZero=0\n",
    "            for i in range(rows):\n",
    "                temp[i]+=arr[i][right]\n",
    "                if temp[i]==0:\n",
    "                    countZero+=1\n",
    "            if countZero>0:\n",
    "                result+=findCount(temp)\n",
    "            else:\n",
    "                break\n",
    "    return result\n",
    "\n",
    "if __name__ == '__main__':\n",
    "    arr=[[1,0,1,1,1,1,1],[1,1,0,1,1,1,1],[1,1,1,0,0,0,1],[1,0,1,0,0,0,1]]\n",
    "    # arr=[[0,0,0],[0,0,0]]\n",
    "    rows=4\n",
    "    cols=7\n",
    "    result=getCount(arr,rows,cols)\n",
    "    print(result)\n"
   ]
  },
  {
   "cell_type": "markdown",
   "metadata": {},
   "source": [
    "# Shortest distance between two cells in a matrix or grid"
   ]
  },
  {
   "cell_type": "code",
   "execution_count": 2,
   "metadata": {},
   "outputs": [
    {
     "name": "stdout",
     "output_type": "stream",
     "text": [
      "6\n"
     ]
    }
   ],
   "source": [
    "def getSource(arr,rows,cols):\n",
    "    # rows=len(arr)\n",
    "    # cols=len(arr[0])\n",
    "    for i in range(rows):\n",
    "        for j in range(cols):\n",
    "            if arr[i][j]=='s':\n",
    "                return [i,j]\n",
    "\n",
    "\n",
    "def canMove(arr,i,j,visited,rows,cols):\n",
    "    if i>=0 and i<rows and j>=0 and j<cols and arr[i][j]!='0' and visited[i][j]==False:\n",
    "        return True\n",
    "    return False\n",
    "\n",
    "\n",
    "def getDistance(arr):\n",
    "    rows=len(arr)\n",
    "    cols=len(arr[0])\n",
    "    source=getSource(arr,rows,cols)\n",
    "    # print(source)\n",
    "    visited=[[False for j in range(cols)] for i in range(rows)]\n",
    "    distanceArr=[[0 for j in range(cols)] for i in range(rows)]\n",
    "    # for i in range(rows):\n",
    "    #     print(visited[i])\n",
    "    visited[source[0]][source[1]]=True\n",
    "    # distance=0\n",
    "    queue=[]\n",
    "    movesX=[-1,1,0,0]\n",
    "    movesY=[0,0,-1,1]\n",
    "    queue.append(source)\n",
    "    # print(queue)\n",
    "    while queue:\n",
    "        current=queue.pop(0)\n",
    "        if arr[current[0]][current[1]]=='d':\n",
    "            # distance+=1\n",
    "            return distanceArr[current[0]][current[1]]\n",
    "        for i in range(len(movesX)):\n",
    "            if canMove(arr,current[0]+movesX[i],current[1]+movesY[i],visited,rows,cols):\n",
    "                queue.append([current[0]+movesX[i],current[1]+movesY[i]])\n",
    "                visited[current[0]+movesX[i]][current[1]+movesY[i]]=True\n",
    "                distanceArr[current[0]+movesX[i]][current[1]+movesY[i]]=distanceArr[current[0]][current[1]]+1\n",
    "    return -1\n",
    "\n",
    "\n",
    "\n",
    "if __name__ == '__main__':\n",
    "    arr=[['0', '*', '0', 's'],['*', '0', '*', '*'],['0', '*', '*', '*'],['d', '*', '*', '*']]\n",
    "    # arr=[['0', '*', '0', 's'],['*', '0', '*', '*'],['0', '*', '*', '*'],['d', '0', '0', '0']]\n",
    "    distance=getDistance(arr)\n",
    "    print(distance)\n"
   ]
  },
  {
   "cell_type": "markdown",
   "metadata": {},
   "source": [
    "Can be improved using class"
   ]
  },
  {
   "cell_type": "markdown",
   "metadata": {},
   "source": [
    "# Counting sets of 1s and 0s in a binary matrix"
   ]
  },
  {
   "cell_type": "markdown",
   "metadata": {},
   "source": [
    "Given a n × m binary matrix, count the number of sets where a set can be formed one or more same values in a row or column."
   ]
  },
  {
   "cell_type": "markdown",
   "metadata": {},
   "source": [
    "The number of non-empty subsets of x elements is 2x – 1. We traverse every row and calculate numbers of 1’s and 0’s cells. For every u zeros and v ones, total sets is 2u – 1 + 2v – 1. We then traverse all columns and compute same values and compute overall sum. We finally subtract m x n from the overall sum as single elements are considered twice."
   ]
  },
  {
   "cell_type": "code",
   "execution_count": 3,
   "metadata": {},
   "outputs": [
    {
     "name": "stdout",
     "output_type": "stream",
     "text": [
      "6\n"
     ]
    }
   ],
   "source": [
    "def getSubsets(arr):\n",
    "    rows=len(arr)\n",
    "    cols=len(arr[0])\n",
    "    result=0\n",
    "    for i in range(rows):\n",
    "        zeros=0\n",
    "        ones=0\n",
    "        for j in range(cols):\n",
    "            if arr[i][j]==1:\n",
    "                ones+=1\n",
    "            else:\n",
    "                zeros+=1\n",
    "        result+=pow(2,zeros)-1+pow(2,ones)-1\n",
    "    for i in range(cols):\n",
    "        zeros=0\n",
    "        ones=0\n",
    "        for j in range(rows):\n",
    "            if arr[j][i]==1:\n",
    "                ones+=1\n",
    "            else:\n",
    "                zeros+=1\n",
    "        result+=pow(2,zeros)-1+pow(2,ones)-1\n",
    "\n",
    "    result-=(rows*cols)\n",
    "    return result\n",
    "\n",
    "if __name__ == '__main__':\n",
    "    # arr=[[1,0,1],[0,1,0]]\n",
    "    arr=[[1,0],[1,1]]\n",
    "    result=getSubsets(arr)\n",
    "    print(result)\n"
   ]
  },
  {
   "cell_type": "markdown",
   "metadata": {},
   "source": [
    "Time Complexity - O(rows* cols)"
   ]
  },
  {
   "cell_type": "markdown",
   "metadata": {},
   "source": [
    "# Search in a row wise and column wise sorted matrix"
   ]
  },
  {
   "cell_type": "markdown",
   "metadata": {},
   "source": [
    "Simple Approach is to traverse through the matrix and check each element of the matrix, if element found return the index of the element"
   ]
  },
  {
   "cell_type": "markdown",
   "metadata": {},
   "source": [
    "Efficient Approach->\n",
    "\n",
    "<pre>\n",
    "The simple idea is to remove a row or column in each comparison until an element is found. Start searching from the top-right corner of the matrix. There are three possible cases.\n",
    "\n",
    "1) The given number is greater than the current number: This will ensure, that all the elements in the current row are smaller than the given number as the pointer is already at the right-most element and the row is sorted. Thus, the entire row gets eliminated and continue the search on the next row. Here elimination means that row needs not to be searched.\n",
    "\n",
    "2) The given number is smaller than the current number: This will ensure, that all the elements in the current column are greater than the given number. Thus, the entire column gets eliminated and continue the search on the previous column i.e. the column at the immediate left.\n",
    "\n",
    "3) The given number is equal to the current number: This will end the search.\n",
    "</pre>"
   ]
  },
  {
   "cell_type": "code",
   "execution_count": 4,
   "metadata": {},
   "outputs": [
    {
     "name": "stdout",
     "output_type": "stream",
     "text": [
      "Element found at 2, 1\n"
     ]
    }
   ],
   "source": [
    "def findElement(arr,ele):\n",
    "    rows=len(arr)\n",
    "    cols=len(arr[0])\n",
    "    i=0\n",
    "    j=cols-1\n",
    "    while i<rows and j>=0:\n",
    "        if arr[i][j]==ele:\n",
    "            return [i,j]\n",
    "        if arr[i][j]>ele:\n",
    "            j-=1\n",
    "        else:\n",
    "            i+=1\n",
    "    return -1\n",
    "\n",
    "if __name__ == '__main__':\n",
    "    arr=[[10, 20, 30, 40], [15, 25, 35, 45], [27, 29, 37, 48], [32, 33, 39, 50]]\n",
    "    ele=29\n",
    "    result=findElement(arr,ele)\n",
    "    if result==-1:\n",
    "        print(\"Not Found\")\n",
    "    else:\n",
    "        print(f\"Element found at {result[0]}, {result[1]}\")\n"
   ]
  },
  {
   "cell_type": "markdown",
   "metadata": {},
   "source": [
    "Time Complexity= O(row+cols)"
   ]
  },
  {
   "cell_type": "markdown",
   "metadata": {},
   "source": [
    "# Create a matrix with alternating rectangles of O and X"
   ]
  },
  {
   "cell_type": "markdown",
   "metadata": {},
   "source": [
    "Write a code which inputs two numbers m and n and creates a matrix of size m x n (m rows and n columns) in which every elements is either X or 0. The Xs and 0s must be filled alternatively, the matrix should have outermost rectangle of Xs, then a rectangle of 0s, then a rectangle of Xs, and so on."
   ]
  },
  {
   "cell_type": "markdown",
   "metadata": {},
   "source": [
    "Approach -> 4 pointers (top,bottom,left,right) and the same approach as rotating the matrix"
   ]
  },
  {
   "cell_type": "code",
   "execution_count": 5,
   "metadata": {},
   "outputs": [
    {
     "name": "stdout",
     "output_type": "stream",
     "text": [
      "Enter number of rows\n",
      "6\n",
      "Enter number of columns\n",
      "7\n",
      "\n",
      "X X X X X X X\n",
      "X O O O O O X\n",
      "X O X X X O X\n",
      "X O X X X O X\n",
      "X O O O O O X\n",
      "X X X X X X X\n"
     ]
    }
   ],
   "source": [
    "def createMatrix(rows,cols):\n",
    "    arr=[[None for j in range(cols)]for i in range(rows)]\n",
    "    # for i in range(rows):\n",
    "    #     print(arr[i])\n",
    "    top=0\n",
    "    bottom=rows-1\n",
    "    left=0\n",
    "    right=cols-1\n",
    "    flag=True\n",
    "    while top<=bottom and left<=right:\n",
    "\n",
    "        if flag:\n",
    "            # left to right\n",
    "            for i in range(left,right+1):\n",
    "                arr[top][i]='X'\n",
    "            top+=1\n",
    "\n",
    "            # top to bottom\n",
    "            for i in range(top,bottom+1):\n",
    "                arr[i][right]='X'\n",
    "            right-=1\n",
    "\n",
    "            # right to left\n",
    "            for i in range(right,left-1,-1):\n",
    "                arr[bottom][i]='X'\n",
    "            bottom-=1\n",
    "\n",
    "            # bottom to top\n",
    "            for i in range(bottom,top-1,-1):\n",
    "                arr[i][left]='X'\n",
    "            left+=1\n",
    "        else:\n",
    "            # left to right\n",
    "            for i in range(left,right+1):\n",
    "                arr[top][i]='O'\n",
    "            top+=1\n",
    "\n",
    "            # top to bottom\n",
    "            for i in range(top,bottom+1):\n",
    "                arr[i][right]='O'\n",
    "            right-=1\n",
    "\n",
    "            # right to left\n",
    "            for i in range(right,left-1,-1):\n",
    "                arr[bottom][i]='O'\n",
    "            bottom-=1\n",
    "\n",
    "            # bottom to top\n",
    "            for i in range(bottom,top-1,-1):\n",
    "                arr[i][left]='O'\n",
    "            left+=1\n",
    "\n",
    "        flag=not(flag)\n",
    "\n",
    "    return arr\n",
    "\n",
    "\n",
    "if __name__ == '__main__':\n",
    "    m=int(input(\"Enter number of rows\\n\"))\n",
    "    n=int(input(\"Enter number of columns\\n\"))\n",
    "    matrix=createMatrix(m,n)\n",
    "    print()\n",
    "    for i in range(m):\n",
    "        print(\" \".join(matrix[i]))\n"
   ]
  },
  {
   "cell_type": "markdown",
   "metadata": {},
   "source": [
    "Time Complexity- O(m* n) and Space Complexity - O(m* n)"
   ]
  },
  {
   "cell_type": "markdown",
   "metadata": {},
   "source": [
    "# Zigzag (or diagonal) traversal of Matrix"
   ]
  },
  {
   "cell_type": "code",
   "execution_count": 6,
   "metadata": {},
   "outputs": [
    {
     "name": "stdout",
     "output_type": "stream",
     "text": [
      "1 \n",
      "\n",
      "5 2 \n",
      "\n",
      "9 6 3 \n",
      "\n",
      "13 10 7 4 \n",
      "\n",
      "17 14 11 8 \n",
      "\n",
      "18 15 12 \n",
      "\n",
      "19 16 \n",
      "\n",
      "20 \n",
      "\n"
     ]
    }
   ],
   "source": [
    "def printZigZag(arr):\n",
    "    rows=len(arr)\n",
    "    cols=len(arr[0])\n",
    "    for i in range(rows):\n",
    "        r=i\n",
    "        j=0\n",
    "        while r>=0 and j<cols:\n",
    "            print(arr[r][j],end=\" \")\n",
    "            r-=1\n",
    "            j+=1\n",
    "        print('\\n')\n",
    "    for j in range(1,cols):\n",
    "        c=j\n",
    "        i=rows-1\n",
    "        while i>=0 and c<cols:\n",
    "            print(arr[i][c],end=\" \")\n",
    "            i-=1\n",
    "            c+=1\n",
    "        print('\\n')\n",
    "\n",
    "\n",
    "if __name__ == '__main__':\n",
    "    arr=[[1, 2, 3, 4], [5, 6, 7, 8], [9, 10, 11, 12], [13, 14, 15, 16], [17, 18, 19, 20]]\n",
    "    printZigZag(arr)\n"
   ]
  },
  {
   "cell_type": "markdown",
   "metadata": {},
   "source": [
    "Time Complexity -> O(m* n)"
   ]
  },
  {
   "cell_type": "markdown",
   "metadata": {},
   "source": [
    "# Inplace (Fixed space) M x N size matrix transpose "
   ]
  },
  {
   "cell_type": "markdown",
   "metadata": {},
   "source": [
    "TO DO"
   ]
  },
  {
   "cell_type": "markdown",
   "metadata": {},
   "source": [
    "# Minimum cost to sort a matrix of numbers from 0 to n^2 – 1"
   ]
  },
  {
   "cell_type": "markdown",
   "metadata": {},
   "source": [
    "Approach-> Since the numbers range from 0 to n^2-1, so we can calculate the exact position of the elements and we can find the steps required"
   ]
  },
  {
   "cell_type": "code",
   "execution_count": 10,
   "metadata": {},
   "outputs": [
    {
     "name": "stdout",
     "output_type": "stream",
     "text": [
      "22\n"
     ]
    }
   ],
   "source": [
    "def getSteps(arr,n):\n",
    "    # rows=len(arr)\n",
    "    # cols=len(arr[0])\n",
    "    count=0\n",
    "    for i in range(n):\n",
    "        for j in range(n):\n",
    "            q=arr[i][j]//n #getting the row\n",
    "            actual_i=q \n",
    "            actual_j=arr[i][j]-(n*q)# getting the column n*q give the first element of the row\n",
    "#             actual_j=arr[i][j]%n\n",
    "            count+=(abs(i-actual_i)+abs(j-actual_j))\n",
    "    return count\n",
    "\n",
    "if __name__ == '__main__':\n",
    "    arr=[[4, 7, 0, 3], [8, 5, 6, 1], [9, 11, 10, 2], [15, 13, 14, 12]]\n",
    "    n=4\n",
    "    result=getSteps(arr,n)\n",
    "    print(result)\n"
   ]
  },
  {
   "cell_type": "markdown",
   "metadata": {},
   "source": [
    "Time Complexity - O(n^2)"
   ]
  },
  {
   "cell_type": "markdown",
   "metadata": {},
   "source": [
    "# Unique cells in a binary matrix"
   ]
  },
  {
   "cell_type": "markdown",
   "metadata": {},
   "source": [
    "Given a matrix of size n x m consisting of 0’s and 1’s.We need to find number of unique cells with value 1 such that corresponding entire row and entire column does not have another 1.Return the number of unique cells."
   ]
  },
  {
   "cell_type": "code",
   "execution_count": 12,
   "metadata": {},
   "outputs": [
    {
     "name": "stdout",
     "output_type": "stream",
     "text": [
      "{6: 2, 1: 1, 5: 1, 0: 1}\n",
      "3\n"
     ]
    }
   ],
   "source": [
    "def getCount(arr):\n",
    "    rows=len(arr)\n",
    "    cols=len(arr[0])\n",
    "    map={}\n",
    "    for i in range(rows):\n",
    "        countOne=0\n",
    "        col=0\n",
    "        for j in range(cols):\n",
    "            if arr[i][j]==1:\n",
    "                countOne+=1\n",
    "                col=j\n",
    "                if col in map:\n",
    "                    map[col]+=1\n",
    "        if countOne==1:\n",
    "            if col in map:\n",
    "                map[col]+=1\n",
    "            else:\n",
    "                map[col]=1\n",
    "    result=0\n",
    "    for keys in map:\n",
    "        if map[keys]==1:\n",
    "            result+=1\n",
    "    print(map)\n",
    "    return result\n",
    "\n",
    "\n",
    "if __name__ == '__main__':\n",
    "    # arr=[[0, 1, 0, 0],[0, 0, 1, 0],[1, 0, 0, 1]]\n",
    "    arr=[[0, 0, 0, 0, 0, 0, 1],[0, 1, 0, 0, 0, 0, 0],[0, 0, 0, 0, 0, 1, 0],[1, 0, 0, 0, 0, 0, 0],[0, 0, 1, 0, 0, 0, 1]]\n",
    "    result=getCount(arr)\n",
    "    print(result)\n"
   ]
  },
  {
   "cell_type": "markdown",
   "metadata": {},
   "source": [
    "Approach 2-> Maintain 2 arrays for rowsum and colsum"
   ]
  },
  {
   "cell_type": "code",
   "execution_count": 14,
   "metadata": {},
   "outputs": [
    {
     "name": "stdout",
     "output_type": "stream",
     "text": [
      "3\n"
     ]
    }
   ],
   "source": [
    "def getCount(arr):\n",
    "    rows=len(arr)\n",
    "    cols=len(arr[0])\n",
    "    rowSum=[0]*rows\n",
    "    colSum=[0]*cols\n",
    "    for i in range(rows):\n",
    "        for j in range(cols):\n",
    "            rowSum[i]+=arr[i][j]\n",
    "            colSum[j]+=arr[i][j]\n",
    "    # print(rowSum)\n",
    "    # print(colSum)\n",
    "    result=0\n",
    "    for i in range(rows):\n",
    "        for j in range(cols):\n",
    "            if arr[i][j]==1 and rowSum[i]==1 and colSum[i]==1:\n",
    "                result+=1\n",
    "    return result\n",
    "\n",
    "if __name__ == '__main__':\n",
    "    # arr=[[0, 1, 0, 0],[0, 0, 1, 0],[1, 0, 0, 1]]\n",
    "    arr=[[0, 0, 0, 0, 0, 0, 1],[0, 1, 0, 0, 0, 0, 0],[0, 0, 0, 0, 0, 1, 0],[1, 0, 0, 0, 0, 0, 0],[0, 0, 1, 0, 0, 0, 1]]\n",
    "    result=getCount(arr)\n",
    "    print(result)\n"
   ]
  },
  {
   "cell_type": "markdown",
   "metadata": {},
   "source": [
    "Time Complexity - O(row* col)"
   ]
  },
  {
   "cell_type": "markdown",
   "metadata": {},
   "source": [
    "# Count entries equal to x in a special matrix"
   ]
  },
  {
   "cell_type": "markdown",
   "metadata": {},
   "source": [
    "You are given a square matrix (matrix[][]) of order n, where matrix[i][j] = i*j. Find the number of cells which have entry equal to a given number x.\n",
    "NOte : Indexing of matrix starts from 1, i.e. 1<= i,j <= n."
   ]
  },
  {
   "cell_type": "markdown",
   "metadata": {},
   "source": [
    "Approach1-> Traverse through the matrix and count the occurences"
   ]
  },
  {
   "cell_type": "markdown",
   "metadata": {},
   "source": [
    "Approach2-> The index can range from (1,1) to (4,4) and we can reduce the problem to finding if the product exists in the array"
   ]
  },
  {
   "cell_type": "code",
   "execution_count": 15,
   "metadata": {},
   "outputs": [
    {
     "name": "stdout",
     "output_type": "stream",
     "text": [
      "3\n"
     ]
    }
   ],
   "source": [
    "def getCount(arr,n,k):\n",
    "    possibleIndex=list(range(1,n+1))\n",
    "    result=0\n",
    "    low=0\n",
    "    high=len(possibleIndex)-1\n",
    "    while low<=high:\n",
    "        product=possibleIndex[low]*possibleIndex[high]\n",
    "        if product==k:\n",
    "            if low!=high:\n",
    "                result+=2\n",
    "            else:\n",
    "                result+=1\n",
    "            low+=1\n",
    "            high-=1\n",
    "        elif product<k:\n",
    "            low+=1\n",
    "        else:\n",
    "            high-=1\n",
    "    return result\n",
    "\n",
    "if __name__ == '__main__':\n",
    "    arr=[[1, 2, 3, 4],[2, 4, 6, 8],[3, 6, 9, 12],[4, 8, 12, 16]]\n",
    "    n=len(arr)\n",
    "    k=4\n",
    "    result=getCount(arr,n,k)\n",
    "    print(result)\n"
   ]
  },
  {
   "cell_type": "markdown",
   "metadata": {},
   "source": [
    "Time Complexity - O(n)"
   ]
  },
  {
   "cell_type": "markdown",
   "metadata": {},
   "source": [
    "Another Approach-> An efficient approach is to only find the number of factors of given x in the range 0 to x and also those factors (including divisor and quotient ) must be less than or equal to n (order of matrix). In this case time complexity will be O(n)."
   ]
  },
  {
   "cell_type": "markdown",
   "metadata": {},
   "source": [
    "<pre>\n",
    "// traverse and find the factors\n",
    "for (int i=1; i<=n && i<=x ; i++)\n",
    "{\n",
    "    // x%i == 0 means i is factor of x\n",
    "    // x/i <= n means i and j are <= n (for i*j=x)\n",
    "    if ( x/i <= n && x%i ==0)\n",
    "        count++;\n",
    "}\n",
    "// return count \n",
    "return count;\n",
    "</pre>"
   ]
  },
  {
   "cell_type": "markdown",
   "metadata": {},
   "source": [
    "# Check if a given matrix is sparse or not"
   ]
  },
  {
   "cell_type": "markdown",
   "metadata": {},
   "source": [
    "A matrix is a two dimensional data objects having m rows and n columns, therefore a total of m*n values. If most of the values of a matrix is 0 then we say that the matrix is sparse.\n",
    "Consider a definition of Sparse where a matrix is considered sparse if number of 0s is more than half of the elements in matrix,"
   ]
  },
  {
   "cell_type": "markdown",
   "metadata": {},
   "source": [
    "To check whether a matrix is sparse matrix we only need to check the total number of elements that are equal to zero. If this count is more than (m * n)/2, we return true."
   ]
  },
  {
   "cell_type": "markdown",
   "metadata": {},
   "source": [
    "# Row-wise common elements in two diagonals of a square matrix"
   ]
  },
  {
   "cell_type": "markdown",
   "metadata": {},
   "source": [
    "Given a square matrix, find out count of numbers that are same in same row and same in both primary and secondary diagonals.\n",
    "\n"
   ]
  },
  {
   "cell_type": "code",
   "execution_count": 16,
   "metadata": {},
   "outputs": [
    {
     "name": "stdout",
     "output_type": "stream",
     "text": [
      "2\n"
     ]
    }
   ],
   "source": [
    "def getCount(arr):\n",
    "    result=0\n",
    "    n=len(arr)\n",
    "    for i in range(n):\n",
    "        if arr[i][i]==arr[i][n-i-1]:\n",
    "            result+=1\n",
    "    return result\n",
    "\n",
    "if __name__ == '__main__':\n",
    "    # arr=[[1, 2, 3],[4, 5, 6],[7, 8, 9]]\n",
    "    arr=[[1, 2, 1],[4, 5, 2],[0, 5, 1]]\n",
    "    result=getCount(arr)\n",
    "    print(result)\n"
   ]
  },
  {
   "cell_type": "markdown",
   "metadata": {},
   "source": [
    "Time Complexity - O(n)"
   ]
  },
  {
   "cell_type": "markdown",
   "metadata": {},
   "source": [
    "# Check if sums of i-th row and i-th column are same in matrix"
   ]
  },
  {
   "cell_type": "markdown",
   "metadata": {},
   "source": [
    "Approach-> Calculate the rowSum and colSum in 2 separate arrays in O(n* n) time and then check"
   ]
  },
  {
   "cell_type": "markdown",
   "metadata": {},
   "source": [
    "# Find row number of a binary matrix having maximum number of 1s"
   ]
  },
  {
   "cell_type": "markdown",
   "metadata": {},
   "source": [
    "Given a binary matrix (containing only 0 and 1) of order n*n. All rows are sorted already, We need to find the row number with maximum number of 1s. Also find number of 1 in that row.\n",
    "Note: in case of tie, print smaller row number."
   ]
  },
  {
   "cell_type": "markdown",
   "metadata": {},
   "source": [
    "Approach1-> Traverse the whole matrix row by row and maintain the count of 1's in each row. Time Complexity -> O(n* n)"
   ]
  },
  {
   "cell_type": "markdown",
   "metadata": {},
   "source": [
    "Approach2-> We can apply binary search as the rows are sorted. In each row we move upto the last 1 from right to left and if the next row contains the 1 at a previous column we will update the row and col"
   ]
  },
  {
   "cell_type": "markdown",
   "metadata": {},
   "source": [
    "Start with top left corner with index (1, n) and try to go left until you reach last 1 in that row (jth column), now if we traverse left to that row, we will find 0, so switch to the row just below, with same column. Now your position will be (2, j) again in 2nd row if jth element if 1 try to go left until you find last 1 otherwise in 2nd row if jth element is 0 go to next row. So Finally say if you are at any ith row and jth column which is index of last 1 from right in that row, increment i. So now if we have Aij = 0 again increment i otherwise keep decreasing j until you find last 1 in that particular row."
   ]
  },
  {
   "cell_type": "code",
   "execution_count": 1,
   "metadata": {},
   "outputs": [
    {
     "name": "stdout",
     "output_type": "stream",
     "text": [
      "4 row with max count 3\n"
     ]
    }
   ],
   "source": [
    "def getMaxOneCount(arr):\n",
    "    cols=len(arr[0])\n",
    "    j=cols-1 #top right\n",
    "    for i in range(len(arr)):\n",
    "        while arr[i][j]==1 and j>=0:\n",
    "            #move till last one in the row\n",
    "            row=i\n",
    "            # count=cols-j\n",
    "            j-=1\n",
    "    return (row,len(arr)-1-j)\n",
    "\n",
    "if __name__ == '__main__':\n",
    "    # arr=[[0, 0, 1],[0, 1, 1],[0, 0, 0]]\n",
    "    arr=[[0, 0, 0, 1], [0, 0, 0, 1], [0, 0, 0, 0], [0, 1, 1, 1]]\n",
    "    result=getMaxOneCount(arr)\n",
    "    print(f\"{result[0]+1} row with max count {result[1]}\")\n"
   ]
  },
  {
   "cell_type": "markdown",
   "metadata": {},
   "source": [
    "Time Complexity -> O(nlogn)"
   ]
  },
  {
   "cell_type": "markdown",
   "metadata": {},
   "source": [
    "# Program to check if a matrix is symmetric"
   ]
  },
  {
   "cell_type": "markdown",
   "metadata": {},
   "source": [
    "A square matrix is said to be symmetric matrix if the transpose of the matrix is same as the given matrix. Symmetric matrix can be obtain by changing row to column and column to row."
   ]
  },
  {
   "cell_type": "markdown",
   "metadata": {},
   "source": [
    "Approach 1-> Get the transpose of the matrix and then compare the matrix with the original matrix"
   ]
  },
  {
   "cell_type": "markdown",
   "metadata": {},
   "source": [
    "Approach 2-> Check if the matrix[i][j] is equal to matrix[j][i]"
   ]
  },
  {
   "cell_type": "markdown",
   "metadata": {},
   "source": [
    "# Find if a 2-D array is completely traversed or not by following the cell values"
   ]
  },
  {
   "cell_type": "markdown",
   "metadata": {},
   "source": [
    "You are given a 2-D array. We have to traverse each and every cell of given array by following the cell locations then return true else false. The value of each cell is given by (x, y) where (x, y) is also shows next following cells position. Eg. (0, 0) shows starting cell. And ‘null’ shows our final destination after traversing every cell."
   ]
  },
  {
   "cell_type": "code",
   "execution_count": 2,
   "metadata": {},
   "outputs": [
    {
     "name": "stdout",
     "output_type": "stream",
     "text": [
      "False\n"
     ]
    }
   ],
   "source": [
    "def ifCompletelyTraversed(arr):\n",
    "    rows=len(arr)\n",
    "    cols=len(arr[0])\n",
    "    # for i in range(rows):\n",
    "    #     print(arr[i])\n",
    "    visited=[[False for j in range(cols)]for i in range(rows)]\n",
    "    i=0\n",
    "    j=0\n",
    "    while arr[i][j]!='null':\n",
    "        if visited[i][j]==True:\n",
    "            return False\n",
    "        visited[i][j]=True\n",
    "        # print(arr[i][j])\n",
    "        newVal=arr[i][j]\n",
    "        i=newVal[0]\n",
    "        j=newVal[1]\n",
    "    visited[i][j]=True\n",
    "    # for i in range(rows):\n",
    "    #     print(visited[i])\n",
    "    for i in range(rows):\n",
    "        for j in range(cols):\n",
    "            if arr[i][j]==False:\n",
    "                return False\n",
    "    return True\n",
    "\n",
    "\n",
    "if __name__ == '__main__':\n",
    "    # arr=[[(0,1),(2,0)],['null',(1,0)],[(2,1),(1,1)]]\n",
    "    arr=[[(0,1),(1,2),(1,1)],[(0,2),(2,0),(2,1)],[(0,0),(1,0),'null']]\n",
    "    print(ifCompletelyTraversed(arr))\n"
   ]
  },
  {
   "cell_type": "markdown",
   "metadata": {},
   "source": [
    "Time Complexity - O(row* col) and space complexity -> O(row* col)"
   ]
  },
  {
   "cell_type": "markdown",
   "metadata": {},
   "source": [
    "# Program to Print Matrix in Z form"
   ]
  },
  {
   "cell_type": "markdown",
   "metadata": {},
   "source": [
    "Approach -> Print top, diagonal, and bottom"
   ]
  },
  {
   "cell_type": "code",
   "execution_count": 3,
   "metadata": {},
   "outputs": [
    {
     "name": "stdout",
     "output_type": "stream",
     "text": [
      "4 5 6 8 3 8 1 8 7 5 "
     ]
    }
   ],
   "source": [
    "def printDiagonal(arr):\n",
    "    rows=len(arr)\n",
    "    cols=len(arr[0])\n",
    "    \n",
    "    for i in range(cols-1):\n",
    "        print(arr[0][i],end=\" \")\n",
    "\n",
    "    for i in range(rows):\n",
    "        print(arr[i][rows-i-1],end=\" \")\n",
    "\n",
    "    for i in range(1,cols):\n",
    "        print(arr[rows-1][i],end=\" \")\n",
    "\n",
    "if __name__ == '__main__':\n",
    "    # arr=[[1, 2, 3],[4, 5, 6],[7, 8, 9]]\n",
    "    arr=[[4, 5, 6, 8],  [1, 2, 3, 1], [7, 8, 9, 4], [1, 8, 7, 5]]\n",
    "    printDiagonal(arr)\n"
   ]
  },
  {
   "cell_type": "markdown",
   "metadata": {},
   "source": [
    "Time Complexity -> O(n)"
   ]
  },
  {
   "cell_type": "markdown",
   "metadata": {},
   "source": [
    "# Print all palindromic paths from top left to bottom right in a matrix"
   ]
  },
  {
   "cell_type": "markdown",
   "metadata": {},
   "source": [
    "Given a matrix containing lower alphabetical characters only, we need to print all palindromic paths in given matrix. A path is defined as a sequence of cells starting from top-left cell and ending at bottom-right cell. We are allowed to move to right and down only from current cell. We cannot go down diagonally."
   ]
  },
  {
   "cell_type": "code",
   "execution_count": 4,
   "metadata": {},
   "outputs": [
    {
     "name": "stdout",
     "output_type": "stream",
     "text": [
      "abaaba aaaaaa aaaaaa "
     ]
    }
   ],
   "source": [
    "def isPalindrome(s):\n",
    "    low=0\n",
    "    high=len(s)-1\n",
    "    while low<high:\n",
    "        if s[low]!=s[high]:\n",
    "            return False\n",
    "        low+=1\n",
    "        high-=1\n",
    "    return True\n",
    "\n",
    "\n",
    "def findPalindromicPathsUtil(s,arr,i,j,r,c):\n",
    "    if i<r-1 or j<c-1:\n",
    "        if i<r-1:\n",
    "            findPalindromicPathsUtil(s+arr[i][j],arr,i+1,j,r,c)\n",
    "        if j<c-1:\n",
    "            findPalindromicPathsUtil(s+arr[i][j],arr,i,j+1,r,c)\n",
    "        # if i<r-1 and j<c-1:\n",
    "        #for diagonal\n",
    "        #     findPalindromicPathsUtil(s+arr[i][j],arr,i+1,j+1,r,c)\n",
    "    else:\n",
    "        s+=arr[r-1][c-1]\n",
    "        if isPalindrome(s):\n",
    "            print(s,end=\" \")\n",
    "\n",
    "\n",
    "def findPalindromicPaths(arr):\n",
    "    rows=len(arr)\n",
    "    cols=len(arr[0])\n",
    "\n",
    "    findPalindromicPathsUtil(\"\",arr,0,0,rows,cols)\n",
    "\n",
    "if __name__ == '__main__':\n",
    "    arr=[[ 'a', 'a', 'a', 'b' ], ['b', 'a', 'a', 'a' ], [ 'a', 'b', 'b', 'a' ]]\n",
    "    findPalindromicPaths(arr)\n"
   ]
  },
  {
   "cell_type": "markdown",
   "metadata": {},
   "source": [
    "# Possible moves of knight"
   ]
  },
  {
   "cell_type": "markdown",
   "metadata": {},
   "source": [
    "Given a chess board of dimension m * n. Find number of possible moves where knight can be moved on a chessboard from given position. If mat[i][j] = 1 then the block is filled by something else, otherwise empty. Assume that board consist of all pieces of same color, i.e., there are no blocks being attacked.\n"
   ]
  },
  {
   "cell_type": "code",
   "execution_count": 5,
   "metadata": {},
   "outputs": [
    {
     "name": "stdout",
     "output_type": "stream",
     "text": [
      "4\n"
     ]
    }
   ],
   "source": [
    "def getTotalMoves(arr,x,y):\n",
    "    rows=len(arr)\n",
    "    cols=len(arr[0])\n",
    "    movesX=[-2,-2,-1,-1,2,2,1,1]\n",
    "    movesY=[-1,1,-2,2,-1,1,-2,2]\n",
    "    count=0\n",
    "    for i in range(len(movesX)):\n",
    "        curr_x=x+movesX[i]\n",
    "        curr_y=y+movesY[i]\n",
    "        if curr_x>=0 and curr_x<rows and curr_y>=0 and curr_y<cols and arr[curr_x][curr_y]!=1:\n",
    "            count+=1\n",
    "    return count\n",
    "\n",
    "if __name__ == '__main__':\n",
    "    arr=[[1, 0, 1, 0], [0, 1, 1, 1], [1, 1, 0, 1], [0, 1, 1, 1]]\n",
    "    x=2;y=2\n",
    "    result=getTotalMoves(arr,x,y)\n",
    "    print(result)\n"
   ]
  },
  {
   "cell_type": "markdown",
   "metadata": {},
   "source": [
    "# Efficiently compute sums of diagonals of a matrix"
   ]
  },
  {
   "cell_type": "markdown",
   "metadata": {},
   "source": [
    "Primary diagonal=arr[i][i] and Secondary Diagonal=arr[i][n-i-1]"
   ]
  },
  {
   "cell_type": "code",
   "execution_count": null,
   "metadata": {},
   "outputs": [],
   "source": []
  }
 ],
 "metadata": {
  "kernelspec": {
   "display_name": "Python 3",
   "language": "python",
   "name": "python3"
  },
  "language_info": {
   "codemirror_mode": {
    "name": "ipython",
    "version": 3
   },
   "file_extension": ".py",
   "mimetype": "text/x-python",
   "name": "python",
   "nbconvert_exporter": "python",
   "pygments_lexer": "ipython3",
   "version": "3.7.6"
  }
 },
 "nbformat": 4,
 "nbformat_minor": 4
}
